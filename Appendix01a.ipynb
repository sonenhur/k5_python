{
 "cells": [
  {
   "cell_type": "markdown",
   "id": "bdfd562c-453b-40ed-be6e-37171e5259c2",
   "metadata": {},
   "source": [
    "# 캘리포니아 집 값 예측\n",
    "> 캘리포니아의 집 값을 예측하는 회귀 모델을 생성하자."
   ]
  },
  {
   "cell_type": "code",
   "execution_count": 1,
   "id": "c50026c1-7a15-4461-9004-9878b8e4803e",
   "metadata": {
    "tags": []
   },
   "outputs": [],
   "source": [
    "# 데이터 처리\n",
    "import pandas as pd\n",
    "import numpy as np\n",
    "\n",
    "# 왜도 및 데이터의 편중을 해결하기 위해서 필요\n",
    "from scipy.stats import skew\n",
    "\n",
    "# 통계적 데이터를 시각화\n",
    "import matplotlib.pyplot as plt\n",
    "import seaborn as sns\n",
    "\n",
    "# 3장 비지도 학습에서 배운 \"전처리 기법\"\n",
    "from sklearn.preprocessing import LabelEncoder, StandardScaler\n",
    "from sklearn.model_selection import train_test_split\n",
    "\n",
    "from sklearn.neighbors import KNeighborsRegressor\n",
    "from sklearn.linear_model import LinearRegression\n",
    "from sklearn.ensemble import RandomForestRegressor, GradientBoostingRegressor\n",
    "from sklearn.metrics import r2_score, mean_squared_error"
   ]
  },
  {
   "cell_type": "markdown",
   "id": "f7716070-1ecc-4f1e-8df1-ccb6af35e5cf",
   "metadata": {},
   "source": [
    "## 데이터 확인"
   ]
  },
  {
   "cell_type": "code",
   "execution_count": 2,
   "id": "6e5359da-2efb-48d0-aa80-41a5981367b4",
   "metadata": {
    "tags": []
   },
   "outputs": [
    {
     "data": {
      "text/html": [
       "<div>\n",
       "<style scoped>\n",
       "    .dataframe tbody tr th:only-of-type {\n",
       "        vertical-align: middle;\n",
       "    }\n",
       "\n",
       "    .dataframe tbody tr th {\n",
       "        vertical-align: top;\n",
       "    }\n",
       "\n",
       "    .dataframe thead th {\n",
       "        text-align: right;\n",
       "    }\n",
       "</style>\n",
       "<table border=\"1\" class=\"dataframe\">\n",
       "  <thead>\n",
       "    <tr style=\"text-align: right;\">\n",
       "      <th></th>\n",
       "      <th>longitude</th>\n",
       "      <th>latitude</th>\n",
       "      <th>housing_median_age</th>\n",
       "      <th>total_rooms</th>\n",
       "      <th>total_bedrooms</th>\n",
       "      <th>population</th>\n",
       "      <th>households</th>\n",
       "      <th>median_income</th>\n",
       "      <th>median_house_value</th>\n",
       "      <th>ocean_proximity</th>\n",
       "    </tr>\n",
       "  </thead>\n",
       "  <tbody>\n",
       "    <tr>\n",
       "      <th>0</th>\n",
       "      <td>-122.23</td>\n",
       "      <td>37.88</td>\n",
       "      <td>41.0</td>\n",
       "      <td>880.0</td>\n",
       "      <td>129.0</td>\n",
       "      <td>322.0</td>\n",
       "      <td>126.0</td>\n",
       "      <td>8.3252</td>\n",
       "      <td>452600.0</td>\n",
       "      <td>NEAR BAY</td>\n",
       "    </tr>\n",
       "    <tr>\n",
       "      <th>1</th>\n",
       "      <td>-122.22</td>\n",
       "      <td>37.86</td>\n",
       "      <td>21.0</td>\n",
       "      <td>7099.0</td>\n",
       "      <td>1106.0</td>\n",
       "      <td>2401.0</td>\n",
       "      <td>1138.0</td>\n",
       "      <td>8.3014</td>\n",
       "      <td>358500.0</td>\n",
       "      <td>NEAR BAY</td>\n",
       "    </tr>\n",
       "    <tr>\n",
       "      <th>2</th>\n",
       "      <td>-122.24</td>\n",
       "      <td>37.85</td>\n",
       "      <td>52.0</td>\n",
       "      <td>1467.0</td>\n",
       "      <td>190.0</td>\n",
       "      <td>496.0</td>\n",
       "      <td>177.0</td>\n",
       "      <td>7.2574</td>\n",
       "      <td>352100.0</td>\n",
       "      <td>NEAR BAY</td>\n",
       "    </tr>\n",
       "    <tr>\n",
       "      <th>3</th>\n",
       "      <td>-122.25</td>\n",
       "      <td>37.85</td>\n",
       "      <td>52.0</td>\n",
       "      <td>1274.0</td>\n",
       "      <td>235.0</td>\n",
       "      <td>558.0</td>\n",
       "      <td>219.0</td>\n",
       "      <td>5.6431</td>\n",
       "      <td>341300.0</td>\n",
       "      <td>NEAR BAY</td>\n",
       "    </tr>\n",
       "    <tr>\n",
       "      <th>4</th>\n",
       "      <td>-122.25</td>\n",
       "      <td>37.85</td>\n",
       "      <td>52.0</td>\n",
       "      <td>1627.0</td>\n",
       "      <td>280.0</td>\n",
       "      <td>565.0</td>\n",
       "      <td>259.0</td>\n",
       "      <td>3.8462</td>\n",
       "      <td>342200.0</td>\n",
       "      <td>NEAR BAY</td>\n",
       "    </tr>\n",
       "  </tbody>\n",
       "</table>\n",
       "</div>"
      ],
      "text/plain": [
       "   longitude  latitude  housing_median_age  total_rooms  total_bedrooms  \\\n",
       "0    -122.23     37.88                41.0        880.0           129.0   \n",
       "1    -122.22     37.86                21.0       7099.0          1106.0   \n",
       "2    -122.24     37.85                52.0       1467.0           190.0   \n",
       "3    -122.25     37.85                52.0       1274.0           235.0   \n",
       "4    -122.25     37.85                52.0       1627.0           280.0   \n",
       "\n",
       "   population  households  median_income  median_house_value ocean_proximity  \n",
       "0       322.0       126.0         8.3252            452600.0        NEAR BAY  \n",
       "1      2401.0      1138.0         8.3014            358500.0        NEAR BAY  \n",
       "2       496.0       177.0         7.2574            352100.0        NEAR BAY  \n",
       "3       558.0       219.0         5.6431            341300.0        NEAR BAY  \n",
       "4       565.0       259.0         3.8462            342200.0        NEAR BAY  "
      ]
     },
     "execution_count": 2,
     "metadata": {},
     "output_type": "execute_result"
    }
   ],
   "source": [
    "data = pd.read_csv(\"./data/housing.csv\")\n",
    "data.head()"
   ]
  },
  {
   "cell_type": "code",
   "execution_count": 3,
   "id": "dca5de38-0817-4339-9643-40171daf3d4c",
   "metadata": {
    "tags": []
   },
   "outputs": [
    {
     "data": {
      "text/plain": [
       "array(['longitude', 'latitude', 'housing_median_age', 'total_rooms',\n",
       "       'total_bedrooms', 'population', 'households', 'median_income',\n",
       "       'median_house_value', 'ocean_proximity'], dtype=object)"
      ]
     },
     "execution_count": 3,
     "metadata": {},
     "output_type": "execute_result"
    }
   ],
   "source": [
    "data.columns.values"
   ]
  },
  {
   "cell_type": "code",
   "execution_count": 4,
   "id": "941625cd-54e9-4e9b-8092-c88469f752d6",
   "metadata": {
    "tags": []
   },
   "outputs": [
    {
     "name": "stdout",
     "output_type": "stream",
     "text": [
      "<class 'pandas.core.frame.DataFrame'>\n",
      "RangeIndex: 20640 entries, 0 to 20639\n",
      "Data columns (total 10 columns):\n",
      " #   Column              Non-Null Count  Dtype  \n",
      "---  ------              --------------  -----  \n",
      " 0   longitude           20640 non-null  float64\n",
      " 1   latitude            20640 non-null  float64\n",
      " 2   housing_median_age  20640 non-null  float64\n",
      " 3   total_rooms         20640 non-null  float64\n",
      " 4   total_bedrooms      20433 non-null  float64\n",
      " 5   population          20640 non-null  float64\n",
      " 6   households          20640 non-null  float64\n",
      " 7   median_income       20640 non-null  float64\n",
      " 8   median_house_value  20640 non-null  float64\n",
      " 9   ocean_proximity     20640 non-null  object \n",
      "dtypes: float64(9), object(1)\n",
      "memory usage: 1.6+ MB\n"
     ]
    }
   ],
   "source": [
    "data.info()"
   ]
  },
  {
   "cell_type": "markdown",
   "id": "ec153786-008b-4204-aeb6-e55087b47ca3",
   "metadata": {},
   "source": [
    "- `total_bedrooms`에 결측이 발생\n",
    "- `ocean_proximity`을 전처리를 통해서 숫자로 변경"
   ]
  },
  {
   "cell_type": "markdown",
   "id": "053f8629-884b-470b-8876-602e826a359c",
   "metadata": {},
   "source": [
    "## 전처리"
   ]
  },
  {
   "cell_type": "code",
   "execution_count": 5,
   "id": "c15a641c-1ce1-4176-83e0-e586151eb055",
   "metadata": {
    "tags": []
   },
   "outputs": [
    {
     "data": {
      "text/plain": [
       "longitude               0\n",
       "latitude                0\n",
       "housing_median_age      0\n",
       "total_rooms             0\n",
       "total_bedrooms        207\n",
       "population              0\n",
       "households              0\n",
       "median_income           0\n",
       "median_house_value      0\n",
       "ocean_proximity         0\n",
       "dtype: int64"
      ]
     },
     "execution_count": 5,
     "metadata": {},
     "output_type": "execute_result"
    }
   ],
   "source": [
    "data.isnull().sum()"
   ]
  },
  {
   "cell_type": "code",
   "execution_count": 6,
   "id": "0846aced-3578-4f3c-ad23-957a4ad54539",
   "metadata": {
    "tags": []
   },
   "outputs": [
    {
     "data": {
      "text/html": [
       "<div>\n",
       "<style scoped>\n",
       "    .dataframe tbody tr th:only-of-type {\n",
       "        vertical-align: middle;\n",
       "    }\n",
       "\n",
       "    .dataframe tbody tr th {\n",
       "        vertical-align: top;\n",
       "    }\n",
       "\n",
       "    .dataframe thead th {\n",
       "        text-align: right;\n",
       "    }\n",
       "</style>\n",
       "<table border=\"1\" class=\"dataframe\">\n",
       "  <thead>\n",
       "    <tr style=\"text-align: right;\">\n",
       "      <th></th>\n",
       "      <th>longitude</th>\n",
       "      <th>latitude</th>\n",
       "      <th>housing_median_age</th>\n",
       "      <th>total_rooms</th>\n",
       "      <th>total_bedrooms</th>\n",
       "      <th>population</th>\n",
       "      <th>households</th>\n",
       "      <th>median_income</th>\n",
       "      <th>median_house_value</th>\n",
       "    </tr>\n",
       "  </thead>\n",
       "  <tbody>\n",
       "    <tr>\n",
       "      <th>count</th>\n",
       "      <td>20640.000000</td>\n",
       "      <td>20640.000000</td>\n",
       "      <td>20640.000000</td>\n",
       "      <td>20640.000000</td>\n",
       "      <td>20433.000000</td>\n",
       "      <td>20640.000000</td>\n",
       "      <td>20640.000000</td>\n",
       "      <td>20640.000000</td>\n",
       "      <td>20640.000000</td>\n",
       "    </tr>\n",
       "    <tr>\n",
       "      <th>mean</th>\n",
       "      <td>-119.569704</td>\n",
       "      <td>35.631861</td>\n",
       "      <td>28.639486</td>\n",
       "      <td>2635.763081</td>\n",
       "      <td>537.870553</td>\n",
       "      <td>1425.476744</td>\n",
       "      <td>499.539680</td>\n",
       "      <td>3.870671</td>\n",
       "      <td>206855.816909</td>\n",
       "    </tr>\n",
       "    <tr>\n",
       "      <th>std</th>\n",
       "      <td>2.003532</td>\n",
       "      <td>2.135952</td>\n",
       "      <td>12.585558</td>\n",
       "      <td>2181.615252</td>\n",
       "      <td>421.385070</td>\n",
       "      <td>1132.462122</td>\n",
       "      <td>382.329753</td>\n",
       "      <td>1.899822</td>\n",
       "      <td>115395.615874</td>\n",
       "    </tr>\n",
       "    <tr>\n",
       "      <th>min</th>\n",
       "      <td>-124.350000</td>\n",
       "      <td>32.540000</td>\n",
       "      <td>1.000000</td>\n",
       "      <td>2.000000</td>\n",
       "      <td>1.000000</td>\n",
       "      <td>3.000000</td>\n",
       "      <td>1.000000</td>\n",
       "      <td>0.499900</td>\n",
       "      <td>14999.000000</td>\n",
       "    </tr>\n",
       "    <tr>\n",
       "      <th>25%</th>\n",
       "      <td>-121.800000</td>\n",
       "      <td>33.930000</td>\n",
       "      <td>18.000000</td>\n",
       "      <td>1447.750000</td>\n",
       "      <td>296.000000</td>\n",
       "      <td>787.000000</td>\n",
       "      <td>280.000000</td>\n",
       "      <td>2.563400</td>\n",
       "      <td>119600.000000</td>\n",
       "    </tr>\n",
       "    <tr>\n",
       "      <th>50%</th>\n",
       "      <td>-118.490000</td>\n",
       "      <td>34.260000</td>\n",
       "      <td>29.000000</td>\n",
       "      <td>2127.000000</td>\n",
       "      <td>435.000000</td>\n",
       "      <td>1166.000000</td>\n",
       "      <td>409.000000</td>\n",
       "      <td>3.534800</td>\n",
       "      <td>179700.000000</td>\n",
       "    </tr>\n",
       "    <tr>\n",
       "      <th>75%</th>\n",
       "      <td>-118.010000</td>\n",
       "      <td>37.710000</td>\n",
       "      <td>37.000000</td>\n",
       "      <td>3148.000000</td>\n",
       "      <td>647.000000</td>\n",
       "      <td>1725.000000</td>\n",
       "      <td>605.000000</td>\n",
       "      <td>4.743250</td>\n",
       "      <td>264725.000000</td>\n",
       "    </tr>\n",
       "    <tr>\n",
       "      <th>max</th>\n",
       "      <td>-114.310000</td>\n",
       "      <td>41.950000</td>\n",
       "      <td>52.000000</td>\n",
       "      <td>39320.000000</td>\n",
       "      <td>6445.000000</td>\n",
       "      <td>35682.000000</td>\n",
       "      <td>6082.000000</td>\n",
       "      <td>15.000100</td>\n",
       "      <td>500001.000000</td>\n",
       "    </tr>\n",
       "  </tbody>\n",
       "</table>\n",
       "</div>"
      ],
      "text/plain": [
       "          longitude      latitude  housing_median_age   total_rooms  \\\n",
       "count  20640.000000  20640.000000        20640.000000  20640.000000   \n",
       "mean    -119.569704     35.631861           28.639486   2635.763081   \n",
       "std        2.003532      2.135952           12.585558   2181.615252   \n",
       "min     -124.350000     32.540000            1.000000      2.000000   \n",
       "25%     -121.800000     33.930000           18.000000   1447.750000   \n",
       "50%     -118.490000     34.260000           29.000000   2127.000000   \n",
       "75%     -118.010000     37.710000           37.000000   3148.000000   \n",
       "max     -114.310000     41.950000           52.000000  39320.000000   \n",
       "\n",
       "       total_bedrooms    population    households  median_income  \\\n",
       "count    20433.000000  20640.000000  20640.000000   20640.000000   \n",
       "mean       537.870553   1425.476744    499.539680       3.870671   \n",
       "std        421.385070   1132.462122    382.329753       1.899822   \n",
       "min          1.000000      3.000000      1.000000       0.499900   \n",
       "25%        296.000000    787.000000    280.000000       2.563400   \n",
       "50%        435.000000   1166.000000    409.000000       3.534800   \n",
       "75%        647.000000   1725.000000    605.000000       4.743250   \n",
       "max       6445.000000  35682.000000   6082.000000      15.000100   \n",
       "\n",
       "       median_house_value  \n",
       "count        20640.000000  \n",
       "mean        206855.816909  \n",
       "std         115395.615874  \n",
       "min          14999.000000  \n",
       "25%         119600.000000  \n",
       "50%         179700.000000  \n",
       "75%         264725.000000  \n",
       "max         500001.000000  "
      ]
     },
     "execution_count": 6,
     "metadata": {},
     "output_type": "execute_result"
    }
   ],
   "source": [
    "data.describe()"
   ]
  },
  {
   "cell_type": "code",
   "execution_count": 7,
   "id": "6a1f8053-fec4-49ce-a6a0-60a60febb0d3",
   "metadata": {
    "tags": []
   },
   "outputs": [
    {
     "data": {
      "text/plain": [
       "<Axes: xlabel='total_bedrooms', ylabel='Count'>"
      ]
     },
     "execution_count": 7,
     "metadata": {},
     "output_type": "execute_result"
    },
    {
     "data": {
      "image/png": "[encoded data removed]",
      "text/plain": [
       "<Figure size 1000x600 with 1 Axes>"
      ]
     },
     "metadata": {},
     "output_type": "display_data"
    }
   ],
   "source": [
    "plt.figure(figsize=(10, 6))\n",
    "sns.histplot(data[\"total_bedrooms\"], kde=True)"
   ]
  },
  {
   "cell_type": "code",
   "execution_count": 8,
   "id": "423cfa32-c94f-4b15-9b10-7fe627aaed68",
   "metadata": {
    "tags": []
   },
   "outputs": [],
   "source": [
    "# 중위값으로 변경\n",
    "data[\"total_bedrooms\"].fillna(data[\"total_bedrooms\"].median(), inplace=True)"
   ]
  },
  {
   "cell_type": "code",
   "execution_count": 9,
   "id": "ad3f9ae6-8cde-4fc8-b8c3-b4806722185c",
   "metadata": {
    "tags": []
   },
   "outputs": [
    {
     "data": {
      "text/plain": [
       "longitude             0\n",
       "latitude              0\n",
       "housing_median_age    0\n",
       "total_rooms           0\n",
       "total_bedrooms        0\n",
       "population            0\n",
       "households            0\n",
       "median_income         0\n",
       "median_house_value    0\n",
       "ocean_proximity       0\n",
       "dtype: int64"
      ]
     },
     "execution_count": 9,
     "metadata": {},
     "output_type": "execute_result"
    }
   ],
   "source": [
    "data.isnull().sum()"
   ]
  },
  {
   "cell_type": "markdown",
   "id": "cc5be483-ac5e-441a-9bf9-aa15834c7f06",
   "metadata": {},
   "source": [
    "### 상관관계를 통해서 중요한 특징"
   ]
  },
  {
   "cell_type": "code",
   "execution_count": 10,
   "id": "0d433b1a-5067-41fa-98bc-40f76b4021d9",
   "metadata": {
    "tags": []
   },
   "outputs": [
    {
     "data": {
      "text/plain": [
       "<Axes: >"
      ]
     },
     "execution_count": 10,
     "metadata": {},
     "output_type": "execute_result"
    },
    {
     "data": {
      "image/png": "[encoded data removed]",
      "text/plain": [
       "<Figure size 2000x2000 with 2 Axes>"
      ]
     },
     "metadata": {},
     "output_type": "display_data"
    }
   ],
   "source": [
    "plt.figure(figsize=(20, 20))\n",
    "sns.heatmap(data.corr(numeric_only=True), annot = True, cmap=\"YlGnBu\")"
   ]
  },
  {
   "cell_type": "code",
   "execution_count": 11,
   "id": "6fab3c3a-5e3c-40d2-a28b-985129aac807",
   "metadata": {
    "tags": []
   },
   "outputs": [
    {
     "data": {
      "text/plain": [
       "<Axes: xlabel='median_house_value', ylabel='Count'>"
      ]
     },
     "execution_count": 11,
     "metadata": {},
     "output_type": "execute_result"
    },
    {
     "data": {
      "image/png": "[encoded data removed]",
      "text/plain": [
       "<Figure size 1000x600 with 1 Axes>"
      ]
     },
     "metadata": {},
     "output_type": "display_data"
    }
   ],
   "source": [
    "plt.figure(figsize=(10, 6))\n",
    "sns.histplot(data[\"median_house_value\"], kde=True)"
   ]
  },
  {
   "cell_type": "code",
   "execution_count": 12,
   "id": "01fa5e0d-6fee-4296-815e-23d63c9b3de0",
   "metadata": {
    "tags": []
   },
   "outputs": [
    {
     "data": {
      "text/plain": [
       "array([[<Axes: title={'center': 'longitude'}>,\n",
       "        <Axes: title={'center': 'latitude'}>,\n",
       "        <Axes: title={'center': 'housing_median_age'}>],\n",
       "       [<Axes: title={'center': 'total_rooms'}>,\n",
       "        <Axes: title={'center': 'total_bedrooms'}>,\n",
       "        <Axes: title={'center': 'population'}>],\n",
       "       [<Axes: title={'center': 'households'}>,\n",
       "        <Axes: title={'center': 'median_income'}>,\n",
       "        <Axes: title={'center': 'median_house_value'}>]], dtype=object)"
      ]
     },
     "execution_count": 12,
     "metadata": {},
     "output_type": "execute_result"
    },
    {
     "data": {
      "image/png": "[encoded data removed]",
      "text/plain": [
       "<Figure size 2000x1500 with 9 Axes>"
      ]
     },
     "metadata": {},
     "output_type": "display_data"
    }
   ],
   "source": [
    "data.hist(bins = 30, figsize=(20,15))"
   ]
  },
  {
   "cell_type": "markdown",
   "id": "3e4d7a71-e438-4d24-a0d9-8f6195a1a261",
   "metadata": {},
   "source": [
    "- 데이터의 왜도가 심함(한 쪽으로 몰려있음)\n",
    "- 집 값과 소득의 상관관계가 높음"
   ]
  },
  {
   "cell_type": "markdown",
   "id": "d79d3672-6129-4d99-af10-c8f79a33e685",
   "metadata": {},
   "source": [
    "### 범주형 데이터 확인"
   ]
  },
  {
   "cell_type": "code",
   "execution_count": 13,
   "id": "48908d16-5bae-4b01-85dd-077250d45ad9",
   "metadata": {
    "tags": []
   },
   "outputs": [
    {
     "data": {
      "text/plain": [
       "<Axes: xlabel='ocean_proximity', ylabel='count'>"
      ]
     },
     "execution_count": 13,
     "metadata": {},
     "output_type": "execute_result"
    },
    {
     "data": {
      "image/png": "[encoded data removed]",
      "text/plain": [
       "<Figure size 640x480 with 1 Axes>"
      ]
     },
     "metadata": {},
     "output_type": "display_data"
    }
   ],
   "source": [
    "sns.countplot(x = data[\"ocean_proximity\"])"
   ]
  },
  {
   "cell_type": "markdown",
   "id": "174f2409-6652-46dc-b856-f1ea742e9fef",
   "metadata": {},
   "source": [
    "### 특성공학"
   ]
  },
  {
   "cell_type": "code",
   "execution_count": 14,
   "id": "8aaef9fb-1629-4a77-ac2a-69defa1ebeff",
   "metadata": {
    "tags": []
   },
   "outputs": [],
   "source": [
    "data[\"bed_per_room\"] = data[\"total_bedrooms\"] / data[\"total_rooms\"]"
   ]
  },
  {
   "cell_type": "code",
   "execution_count": 15,
   "id": "6d046453-d229-42fc-8fd1-2c0454ad4cf5",
   "metadata": {
    "tags": []
   },
   "outputs": [
    {
     "data": {
      "text/html": [
       "<div>\n",
       "<style scoped>\n",
       "    .dataframe tbody tr th:only-of-type {\n",
       "        vertical-align: middle;\n",
       "    }\n",
       "\n",
       "    .dataframe tbody tr th {\n",
       "        vertical-align: top;\n",
       "    }\n",
       "\n",
       "    .dataframe thead th {\n",
       "        text-align: right;\n",
       "    }\n",
       "</style>\n",
       "<table border=\"1\" class=\"dataframe\">\n",
       "  <thead>\n",
       "    <tr style=\"text-align: right;\">\n",
       "      <th></th>\n",
       "      <th>longitude</th>\n",
       "      <th>latitude</th>\n",
       "      <th>housing_median_age</th>\n",
       "      <th>total_rooms</th>\n",
       "      <th>total_bedrooms</th>\n",
       "      <th>population</th>\n",
       "      <th>households</th>\n",
       "      <th>median_income</th>\n",
       "      <th>median_house_value</th>\n",
       "      <th>ocean_proximity</th>\n",
       "      <th>bed_per_room</th>\n",
       "    </tr>\n",
       "  </thead>\n",
       "  <tbody>\n",
       "    <tr>\n",
       "      <th>0</th>\n",
       "      <td>-122.23</td>\n",
       "      <td>37.88</td>\n",
       "      <td>41.0</td>\n",
       "      <td>880.0</td>\n",
       "      <td>129.0</td>\n",
       "      <td>322.0</td>\n",
       "      <td>126.0</td>\n",
       "      <td>8.3252</td>\n",
       "      <td>452600.0</td>\n",
       "      <td>NEAR BAY</td>\n",
       "      <td>0.146591</td>\n",
       "    </tr>\n",
       "    <tr>\n",
       "      <th>1</th>\n",
       "      <td>-122.22</td>\n",
       "      <td>37.86</td>\n",
       "      <td>21.0</td>\n",
       "      <td>7099.0</td>\n",
       "      <td>1106.0</td>\n",
       "      <td>2401.0</td>\n",
       "      <td>1138.0</td>\n",
       "      <td>8.3014</td>\n",
       "      <td>358500.0</td>\n",
       "      <td>NEAR BAY</td>\n",
       "      <td>0.155797</td>\n",
       "    </tr>\n",
       "    <tr>\n",
       "      <th>2</th>\n",
       "      <td>-122.24</td>\n",
       "      <td>37.85</td>\n",
       "      <td>52.0</td>\n",
       "      <td>1467.0</td>\n",
       "      <td>190.0</td>\n",
       "      <td>496.0</td>\n",
       "      <td>177.0</td>\n",
       "      <td>7.2574</td>\n",
       "      <td>352100.0</td>\n",
       "      <td>NEAR BAY</td>\n",
       "      <td>0.129516</td>\n",
       "    </tr>\n",
       "    <tr>\n",
       "      <th>3</th>\n",
       "      <td>-122.25</td>\n",
       "      <td>37.85</td>\n",
       "      <td>52.0</td>\n",
       "      <td>1274.0</td>\n",
       "      <td>235.0</td>\n",
       "      <td>558.0</td>\n",
       "      <td>219.0</td>\n",
       "      <td>5.6431</td>\n",
       "      <td>341300.0</td>\n",
       "      <td>NEAR BAY</td>\n",
       "      <td>0.184458</td>\n",
       "    </tr>\n",
       "    <tr>\n",
       "      <th>4</th>\n",
       "      <td>-122.25</td>\n",
       "      <td>37.85</td>\n",
       "      <td>52.0</td>\n",
       "      <td>1627.0</td>\n",
       "      <td>280.0</td>\n",
       "      <td>565.0</td>\n",
       "      <td>259.0</td>\n",
       "      <td>3.8462</td>\n",
       "      <td>342200.0</td>\n",
       "      <td>NEAR BAY</td>\n",
       "      <td>0.172096</td>\n",
       "    </tr>\n",
       "  </tbody>\n",
       "</table>\n",
       "</div>"
      ],
      "text/plain": [
       "   longitude  latitude  housing_median_age  total_rooms  total_bedrooms  \\\n",
       "0    -122.23     37.88                41.0        880.0           129.0   \n",
       "1    -122.22     37.86                21.0       7099.0          1106.0   \n",
       "2    -122.24     37.85                52.0       1467.0           190.0   \n",
       "3    -122.25     37.85                52.0       1274.0           235.0   \n",
       "4    -122.25     37.85                52.0       1627.0           280.0   \n",
       "\n",
       "   population  households  median_income  median_house_value ocean_proximity  \\\n",
       "0       322.0       126.0         8.3252            452600.0        NEAR BAY   \n",
       "1      2401.0      1138.0         8.3014            358500.0        NEAR BAY   \n",
       "2       496.0       177.0         7.2574            352100.0        NEAR BAY   \n",
       "3       558.0       219.0         5.6431            341300.0        NEAR BAY   \n",
       "4       565.0       259.0         3.8462            342200.0        NEAR BAY   \n",
       "\n",
       "   bed_per_room  \n",
       "0      0.146591  \n",
       "1      0.155797  \n",
       "2      0.129516  \n",
       "3      0.184458  \n",
       "4      0.172096  "
      ]
     },
     "execution_count": 15,
     "metadata": {},
     "output_type": "execute_result"
    }
   ],
   "source": [
    "data.head()"
   ]
  },
  {
   "cell_type": "markdown",
   "id": "5dfa4eec-ddff-4838-839c-a7640c248329",
   "metadata": {},
   "source": [
    "## 데이터 나누기"
   ]
  },
  {
   "cell_type": "code",
   "execution_count": 16,
   "id": "554f018b-461d-42e2-99c8-0d15bf8b80b3",
   "metadata": {
    "tags": []
   },
   "outputs": [],
   "source": [
    "X = data.drop([\"median_house_value\"], axis=1)\n",
    "y = np.log(data[\"median_house_value\"])"
   ]
  },
  {
   "cell_type": "markdown",
   "id": "3b4e773b-7d8c-4864-98fb-b03a54b0fc1e",
   "metadata": {},
   "source": [
    "### 데이터가 너무 왜도가 심함"
   ]
  },
  {
   "cell_type": "code",
   "execution_count": 17,
   "id": "83941c0e-f8c7-4f63-898f-05ec43adbbf2",
   "metadata": {
    "tags": []
   },
   "outputs": [],
   "source": [
    "skew_df = pd.DataFrame(X.select_dtypes(np.number).columns, columns=[\"Features\"])\n",
    "skew_df[\"Skew\"] = skew_df[\"Features\"].apply(lambda features: skew(X[features]))\n",
    "skew_df[\"Abs_Skew\"] = skew_df[\"Skew\"].apply(abs)\n",
    "skew_df[\"Skewd\"] = skew_df[\"Abs_Skew\"].apply(lambda x: True if x > 0.5 else False)"
   ]
  },
  {
   "cell_type": "code",
   "execution_count": 18,
   "id": "c8a6ffb1-99d0-470e-be26-7dfdf97a0a8f",
   "metadata": {
    "tags": []
   },
   "outputs": [
    {
     "data": {
      "text/plain": [
       "array(['total_rooms', 'total_bedrooms', 'population', 'households',\n",
       "       'median_income', 'bed_per_room'], dtype=object)"
      ]
     },
     "execution_count": 18,
     "metadata": {},
     "output_type": "execute_result"
    }
   ],
   "source": [
    "skew_columns = skew_df[skew_df[\"Abs_Skew\"] > 0.5][\"Features\"].values\n",
    "skew_columns"
   ]
  },
  {
   "cell_type": "code",
   "execution_count": 19,
   "id": "65942223-9fd4-4470-8048-2ad56c1284e7",
   "metadata": {
    "tags": []
   },
   "outputs": [],
   "source": [
    "for column in skew_columns:\n",
    "    X[column] = np.log(X[column])"
   ]
  },
  {
   "cell_type": "markdown",
   "id": "bc589c03-bca2-4d73-a80d-b5406d246903",
   "metadata": {},
   "source": [
    "### 엔코딩"
   ]
  },
  {
   "cell_type": "code",
   "execution_count": 20,
   "id": "5ea1ced1-2d0e-4bd4-81ed-3589ad187e6a",
   "metadata": {
    "tags": []
   },
   "outputs": [],
   "source": [
    "encoder = LabelEncoder()\n",
    "X[\"ocean_proximity\"] = encoder.fit_transform(X[\"ocean_proximity\"])"
   ]
  },
  {
   "cell_type": "code",
   "execution_count": 21,
   "id": "fe42278a-d864-41df-8554-4be2b4e8924f",
   "metadata": {
    "tags": []
   },
   "outputs": [],
   "source": [
    "scaler = StandardScaler()\n",
    "scaler.fit(X)\n",
    "X = pd.DataFrame(scaler.transform(X), index=X.index, columns=X.columns)"
   ]
  },
  {
   "cell_type": "code",
   "execution_count": 22,
   "id": "d0d38e22-43e5-4929-8a90-8c22cdb22edf",
   "metadata": {
    "tags": []
   },
   "outputs": [],
   "source": [
    "X_train, X_test, y_train, y_test = train_test_split(X, y, test_size = 0.2, random_state=42)"
   ]
  },
  {
   "cell_type": "code",
   "execution_count": 23,
   "id": "421ad89c-ea65-484a-80f1-53b69642f59b",
   "metadata": {
    "tags": []
   },
   "outputs": [
    {
     "name": "stdout",
     "output_type": "stream",
     "text": [
      "       longitude  latitude  housing_median_age  total_rooms  total_bedrooms  \\\n",
      "14196   1.267645 -1.367976            0.346478     0.557448        0.534421   \n",
      "8267    0.703627 -0.871699            1.617807     0.662187        0.846155   \n",
      "17445  -0.454356 -0.455012           -1.957806    -0.107181       -0.341781   \n",
      "14265   1.227714 -1.377340            0.584852    -0.491620       -0.200175   \n",
      "2271   -0.114948  0.537543            1.141059     0.195762        0.020301   \n",
      "...          ...       ...                 ...          ...             ...   \n",
      "11284   0.803453 -0.867017            0.505394    -0.579684       -1.025942   \n",
      "11964   1.067992 -0.754652            0.346478     0.539449        0.403696   \n",
      "5390    0.593818 -0.749970            0.584852     0.028731        0.401287   \n",
      "860    -1.193070  0.912092           -1.083767     0.736035        0.467173   \n",
      "15795  -1.422670  1.001048            1.856182     0.958639        1.550273   \n",
      "\n",
      "       population  households  median_income  ocean_proximity  bed_per_room  \n",
      "14196    0.970267    0.618974      -0.133563         1.995003     -0.115425  \n",
      "8267     0.212206    0.882932       0.199345         1.995003      0.469996  \n",
      "17445   -0.277847   -0.223305       0.382797         1.995003     -0.664511  \n",
      "14265    0.315349   -0.148267      -1.233399         1.995003      0.880744  \n",
      "2271    -0.339923   -0.055432       0.050282        -0.116739     -0.521384  \n",
      "...           ...         ...            ...              ...           ...  \n",
      "11284   -0.724314   -0.819734       1.290014        -0.820653     -1.230821  \n",
      "11964    0.602524    0.172180      -0.274781        -0.116739     -0.437685  \n",
      "5390     0.604840    0.390688      -0.356879        -0.820653      1.067779  \n",
      "860      0.620937    0.471103       1.061028        -0.820653     -0.837467  \n",
      "15795    1.146141    1.560150      -0.634073         1.291089      1.614980  \n",
      "\n",
      "[16512 rows x 10 columns]        longitude  latitude  housing_median_age  total_rooms  total_bedrooms  \\\n",
      "20046   0.279366  0.200449           -0.289187    -0.415198        0.032972   \n",
      "3024    0.054757 -0.230283            0.108104     0.477178        0.032972   \n",
      "15663  -1.432653  1.015093            1.856182     0.827715        0.032972   \n",
      "20484   0.424114 -0.632923           -0.924851     0.525134        0.032972   \n",
      "9814   -1.178096  0.462633            0.425936     0.178331        0.032972   \n",
      "...          ...       ...                 ...          ...             ...   \n",
      "15362   1.172810 -1.063655           -1.004309     0.573947        0.173693   \n",
      "16623  -0.629052 -0.127282           -0.050812     0.988836        1.008672   \n",
      "18086  -1.237992  0.785682           -0.289187     0.921927        0.324449   \n",
      "2144   -0.094982  0.532861            0.584852     0.263819        0.127390   \n",
      "3665    0.598809 -0.661015           -0.924851    -0.186667        0.118532   \n",
      "\n",
      "       population  households  median_income  ocean_proximity  bed_per_room  \n",
      "20046    0.290290   -0.132983      -1.540359        -0.116739      1.324245  \n",
      "3024     0.448913    0.530787      -0.670854        -0.116739     -1.318336  \n",
      "15663    0.208078    1.213074       0.005516         1.291089     -2.356378  \n",
      "20484    0.564930    0.305233       1.067853        -0.820653     -1.460348  \n",
      "9814    -0.074834    0.106837       0.150012         1.995003     -0.433365  \n",
      "...           ...         ...            ...              ...           ...  \n",
      "15362    0.249808    0.181265       0.600622        -0.820653     -1.200618  \n",
      "16623    0.520530    0.787654      -0.512937         1.995003     -0.030411  \n",
      "18086    0.466108    0.492892       2.077955        -0.820653     -1.797979  \n",
      "2144     0.119446    0.246096      -0.467908        -0.116739     -0.415264  \n",
      "3665     0.537655    0.169139       0.049027        -0.820653      0.893305  \n",
      "\n",
      "[4128 rows x 10 columns] 14196    11.542484\n",
      "8267     12.853438\n",
      "17445    12.058732\n",
      "14265    11.444647\n",
      "2271     11.477298\n",
      "           ...    \n",
      "11284    12.342350\n",
      "11964    11.490680\n",
      "5390     12.310883\n",
      "860      12.554967\n",
      "15795    12.691580\n",
      "Name: median_house_value, Length: 16512, dtype: float64 20046    10.772687\n",
      "3024     10.732039\n",
      "15663    13.122365\n",
      "20484    12.294999\n",
      "9814     12.535376\n",
      "           ...    \n",
      "15362    12.481049\n",
      "16623    12.494255\n",
      "18086    13.122365\n",
      "2144     11.188579\n",
      "3665     11.928341\n",
      "Name: median_house_value, Length: 4128, dtype: float64\n"
     ]
    }
   ],
   "source": [
    "print(X_train, X_test, y_train, y_test)"
   ]
  },
  {
   "cell_type": "markdown",
   "id": "4f7476ba-deb2-48bf-8600-da340d05ae4f",
   "metadata": {},
   "source": [
    "## 선형 모델"
   ]
  },
  {
   "cell_type": "code",
   "execution_count": 24,
   "id": "260eb79d-31a7-4fb5-b3e7-df21ccceb1f1",
   "metadata": {
    "tags": []
   },
   "outputs": [],
   "source": [
    "lr = LinearRegression()\n",
    "lr.fit(X_train, y_train)\n",
    "predictions_lr = lr.predict(X_test)"
   ]
  },
  {
   "cell_type": "code",
   "execution_count": 25,
   "id": "ac25676c-411b-4a04-9381-08a26888f681",
   "metadata": {
    "tags": []
   },
   "outputs": [
    {
     "name": "stdout",
     "output_type": "stream",
     "text": [
      "0.3444308549750826 0.6344883264077854\n"
     ]
    }
   ],
   "source": [
    "rmse = np.sqrt(mean_squared_error(y_test, predictions_lr))\n",
    "r2 = r2_score(y_test, predictions_lr)\n",
    "print(rmse, r2)"
   ]
  },
  {
   "cell_type": "markdown",
   "id": "7cb37416-bf23-44c0-823c-028cc0c08134",
   "metadata": {},
   "source": [
    "## KNN"
   ]
  },
  {
   "cell_type": "code",
   "execution_count": 26,
   "id": "d5336c97-c7d1-45c9-8685-a744c3865edf",
   "metadata": {
    "tags": []
   },
   "outputs": [],
   "source": [
    "knn = KNeighborsRegressor()\n",
    "knn.fit(X_train, y_train)\n",
    "predictions_knn = knn.predict(X_test)"
   ]
  },
  {
   "cell_type": "code",
   "execution_count": 27,
   "id": "fad977c8-7c52-4d8a-ac3e-3ed3d7d4cc98",
   "metadata": {
    "tags": []
   },
   "outputs": [
    {
     "name": "stdout",
     "output_type": "stream",
     "text": [
      "0.29601285396707333 0.7300282680211424\n"
     ]
    }
   ],
   "source": [
    "rmse = np.sqrt(mean_squared_error(y_test, predictions_knn))\n",
    "r2 = r2_score(y_test, predictions_knn)\n",
    "print(rmse, r2)"
   ]
  },
  {
   "cell_type": "markdown",
   "id": "7806fc09-a268-4ace-833b-c3d73acad3bb",
   "metadata": {},
   "source": [
    "## RandomForest"
   ]
  },
  {
   "cell_type": "code",
   "execution_count": 28,
   "id": "8be60963-65fa-4a9f-924c-c3079dc166e7",
   "metadata": {
    "tags": []
   },
   "outputs": [],
   "source": [
    "rf = RandomForestRegressor()\n",
    "rf.fit(X_train, y_train)\n",
    "predictions_rf = rf.predict(X_test)"
   ]
  },
  {
   "cell_type": "code",
   "execution_count": 29,
   "id": "bb879144-2f61-4f6b-a296-e30bd7258e28",
   "metadata": {
    "tags": []
   },
   "outputs": [
    {
     "name": "stdout",
     "output_type": "stream",
     "text": [
      "0.23333995668709287 0.8322450367160208\n"
     ]
    }
   ],
   "source": [
    "rmse = np.sqrt(mean_squared_error(y_test, predictions_rf))\n",
    "r2 = r2_score(y_test, predictions_rf)\n",
    "print(rmse, r2)"
   ]
  },
  {
   "cell_type": "code",
   "execution_count": 30,
   "id": "a8292665-47a4-4566-a214-dc9e7840e236",
   "metadata": {
    "tags": []
   },
   "outputs": [],
   "source": [
    "# !pip install catboost xgboost lightgbm"
   ]
  },
  {
   "cell_type": "markdown",
   "id": "96a04223-c8a3-4133-98ca-f98c2409efa4",
   "metadata": {
    "tags": []
   },
   "source": [
    "## CatBoost"
   ]
  },
  {
   "cell_type": "code",
   "execution_count": 31,
   "id": "17282fdc-836d-4726-9f0e-d3fa1af730f9",
   "metadata": {
    "tags": []
   },
   "outputs": [],
   "source": [
    "from catboost import CatBoostRegressor"
   ]
  },
  {
   "cell_type": "code",
   "execution_count": 32,
   "id": "a54eda70-d800-43dd-88e5-95423feca202",
   "metadata": {
    "tags": []
   },
   "outputs": [
    {
     "name": "stdout",
     "output_type": "stream",
     "text": [
      "Learning rate set to 0.063766\n",
      "0:\tlearn: 0.5477066\ttotal: 148ms\tremaining: 2m 27s\n",
      "1:\tlearn: 0.5272182\ttotal: 156ms\tremaining: 1m 17s\n",
      "2:\tlearn: 0.5082013\ttotal: 163ms\tremaining: 54.3s\n",
      "3:\tlearn: 0.4912890\ttotal: 171ms\tremaining: 42.5s\n",
      "4:\tlearn: 0.4750285\ttotal: 177ms\tremaining: 35.2s\n",
      "5:\tlearn: 0.4605128\ttotal: 184ms\tremaining: 30.4s\n",
      "6:\tlearn: 0.4475175\ttotal: 191ms\tremaining: 27.1s\n",
      "7:\tlearn: 0.4353580\ttotal: 200ms\tremaining: 24.8s\n",
      "8:\tlearn: 0.4240331\ttotal: 207ms\tremaining: 22.8s\n",
      "9:\tlearn: 0.4146684\ttotal: 215ms\tremaining: 21.3s\n",
      "10:\tlearn: 0.4052256\ttotal: 223ms\tremaining: 20s\n",
      "11:\tlearn: 0.3969183\ttotal: 230ms\tremaining: 19s\n",
      "12:\tlearn: 0.3896859\ttotal: 237ms\tremaining: 18s\n",
      "13:\tlearn: 0.3833644\ttotal: 245ms\tremaining: 17.3s\n",
      "14:\tlearn: 0.3761449\ttotal: 253ms\tremaining: 16.6s\n",
      "15:\tlearn: 0.3707153\ttotal: 259ms\tremaining: 16s\n",
      "16:\tlearn: 0.3645221\ttotal: 266ms\tremaining: 15.4s\n",
      "17:\tlearn: 0.3598349\ttotal: 273ms\tremaining: 14.9s\n",
      "18:\tlearn: 0.3544757\ttotal: 280ms\tremaining: 14.4s\n",
      "19:\tlearn: 0.3504636\ttotal: 287ms\tremaining: 14s\n",
      "20:\tlearn: 0.3468024\ttotal: 294ms\tremaining: 13.7s\n",
      "21:\tlearn: 0.3434003\ttotal: 301ms\tremaining: 13.4s\n",
      "22:\tlearn: 0.3395912\ttotal: 309ms\tremaining: 13.1s\n",
      "23:\tlearn: 0.3367357\ttotal: 316ms\tremaining: 12.8s\n",
      "24:\tlearn: 0.3337247\ttotal: 322ms\tremaining: 12.6s\n",
      "25:\tlearn: 0.3309168\ttotal: 330ms\tremaining: 12.3s\n",
      "26:\tlearn: 0.3286635\ttotal: 337ms\tremaining: 12.1s\n",
      "27:\tlearn: 0.3262842\ttotal: 344ms\tremaining: 12s\n",
      "28:\tlearn: 0.3227118\ttotal: 352ms\tremaining: 11.8s\n",
      "29:\tlearn: 0.3205430\ttotal: 360ms\tremaining: 11.6s\n",
      "30:\tlearn: 0.3183246\ttotal: 367ms\tremaining: 11.5s\n",
      "31:\tlearn: 0.3158386\ttotal: 375ms\tremaining: 11.3s\n",
      "32:\tlearn: 0.3137790\ttotal: 382ms\tremaining: 11.2s\n",
      "33:\tlearn: 0.3122432\ttotal: 389ms\tremaining: 11s\n",
      "34:\tlearn: 0.3105405\ttotal: 395ms\tremaining: 10.9s\n",
      "35:\tlearn: 0.3090267\ttotal: 405ms\tremaining: 10.8s\n",
      "36:\tlearn: 0.3076719\ttotal: 414ms\tremaining: 10.8s\n",
      "37:\tlearn: 0.3062842\ttotal: 422ms\tremaining: 10.7s\n",
      "38:\tlearn: 0.3040185\ttotal: 429ms\tremaining: 10.6s\n",
      "39:\tlearn: 0.3025463\ttotal: 437ms\tremaining: 10.5s\n",
      "40:\tlearn: 0.3014424\ttotal: 444ms\tremaining: 10.4s\n",
      "41:\tlearn: 0.3005503\ttotal: 452ms\tremaining: 10.3s\n",
      "42:\tlearn: 0.2987502\ttotal: 460ms\tremaining: 10.2s\n",
      "43:\tlearn: 0.2973606\ttotal: 467ms\tremaining: 10.1s\n",
      "44:\tlearn: 0.2958181\ttotal: 474ms\tremaining: 10.1s\n",
      "45:\tlearn: 0.2946808\ttotal: 482ms\tremaining: 9.99s\n",
      "46:\tlearn: 0.2934845\ttotal: 490ms\tremaining: 9.94s\n",
      "47:\tlearn: 0.2921448\ttotal: 497ms\tremaining: 9.87s\n",
      "48:\tlearn: 0.2907701\ttotal: 507ms\tremaining: 9.84s\n",
      "49:\tlearn: 0.2899681\ttotal: 515ms\tremaining: 9.78s\n",
      "50:\tlearn: 0.2890025\ttotal: 523ms\tremaining: 9.72s\n",
      "51:\tlearn: 0.2876750\ttotal: 532ms\tremaining: 9.69s\n",
      "52:\tlearn: 0.2870642\ttotal: 539ms\tremaining: 9.63s\n",
      "53:\tlearn: 0.2861446\ttotal: 546ms\tremaining: 9.57s\n",
      "54:\tlearn: 0.2855364\ttotal: 555ms\tremaining: 9.54s\n",
      "55:\tlearn: 0.2844983\ttotal: 562ms\tremaining: 9.47s\n",
      "56:\tlearn: 0.2836777\ttotal: 569ms\tremaining: 9.42s\n",
      "57:\tlearn: 0.2829884\ttotal: 576ms\tremaining: 9.36s\n",
      "58:\tlearn: 0.2815835\ttotal: 585ms\tremaining: 9.33s\n",
      "59:\tlearn: 0.2809208\ttotal: 592ms\tremaining: 9.28s\n",
      "60:\tlearn: 0.2802145\ttotal: 600ms\tremaining: 9.24s\n",
      "61:\tlearn: 0.2796811\ttotal: 606ms\tremaining: 9.16s\n",
      "62:\tlearn: 0.2790909\ttotal: 613ms\tremaining: 9.12s\n",
      "63:\tlearn: 0.2780526\ttotal: 620ms\tremaining: 9.06s\n",
      "64:\tlearn: 0.2772495\ttotal: 625ms\tremaining: 9s\n",
      "65:\tlearn: 0.2765661\ttotal: 633ms\tremaining: 8.95s\n",
      "66:\tlearn: 0.2759557\ttotal: 640ms\tremaining: 8.91s\n",
      "67:\tlearn: 0.2753923\ttotal: 647ms\tremaining: 8.87s\n",
      "68:\tlearn: 0.2743847\ttotal: 653ms\tremaining: 8.81s\n",
      "69:\tlearn: 0.2737775\ttotal: 659ms\tremaining: 8.75s\n",
      "70:\tlearn: 0.2733751\ttotal: 666ms\tremaining: 8.71s\n",
      "71:\tlearn: 0.2725615\ttotal: 672ms\tremaining: 8.65s\n",
      "72:\tlearn: 0.2719404\ttotal: 678ms\tremaining: 8.61s\n",
      "73:\tlearn: 0.2715659\ttotal: 683ms\tremaining: 8.55s\n",
      "74:\tlearn: 0.2710058\ttotal: 689ms\tremaining: 8.5s\n",
      "75:\tlearn: 0.2703977\ttotal: 696ms\tremaining: 8.46s\n",
      "76:\tlearn: 0.2699400\ttotal: 701ms\tremaining: 8.41s\n",
      "77:\tlearn: 0.2695916\ttotal: 707ms\tremaining: 8.35s\n",
      "78:\tlearn: 0.2688354\ttotal: 714ms\tremaining: 8.32s\n",
      "79:\tlearn: 0.2682822\ttotal: 719ms\tremaining: 8.27s\n",
      "80:\tlearn: 0.2674771\ttotal: 725ms\tremaining: 8.23s\n",
      "81:\tlearn: 0.2666408\ttotal: 732ms\tremaining: 8.19s\n",
      "82:\tlearn: 0.2661250\ttotal: 738ms\tremaining: 8.15s\n",
      "83:\tlearn: 0.2656494\ttotal: 744ms\tremaining: 8.12s\n",
      "84:\tlearn: 0.2653208\ttotal: 750ms\tremaining: 8.07s\n",
      "85:\tlearn: 0.2645595\ttotal: 756ms\tremaining: 8.03s\n",
      "86:\tlearn: 0.2641794\ttotal: 764ms\tremaining: 8.01s\n",
      "87:\tlearn: 0.2637567\ttotal: 771ms\tremaining: 7.99s\n",
      "88:\tlearn: 0.2632666\ttotal: 778ms\tremaining: 7.96s\n",
      "89:\tlearn: 0.2628354\ttotal: 784ms\tremaining: 7.93s\n",
      "90:\tlearn: 0.2625212\ttotal: 791ms\tremaining: 7.9s\n",
      "91:\tlearn: 0.2621029\ttotal: 797ms\tremaining: 7.86s\n",
      "92:\tlearn: 0.2616091\ttotal: 802ms\tremaining: 7.82s\n",
      "93:\tlearn: 0.2612027\ttotal: 809ms\tremaining: 7.8s\n",
      "94:\tlearn: 0.2606360\ttotal: 814ms\tremaining: 7.76s\n",
      "95:\tlearn: 0.2602561\ttotal: 821ms\tremaining: 7.73s\n",
      "96:\tlearn: 0.2598015\ttotal: 828ms\tremaining: 7.71s\n",
      "97:\tlearn: 0.2594920\ttotal: 835ms\tremaining: 7.69s\n",
      "98:\tlearn: 0.2590747\ttotal: 842ms\tremaining: 7.67s\n",
      "99:\tlearn: 0.2586914\ttotal: 849ms\tremaining: 7.64s\n",
      "100:\tlearn: 0.2583609\ttotal: 856ms\tremaining: 7.62s\n",
      "101:\tlearn: 0.2579347\ttotal: 862ms\tremaining: 7.59s\n",
      "102:\tlearn: 0.2575324\ttotal: 868ms\tremaining: 7.55s\n",
      "103:\tlearn: 0.2573280\ttotal: 874ms\tremaining: 7.53s\n",
      "104:\tlearn: 0.2569556\ttotal: 880ms\tremaining: 7.5s\n",
      "105:\tlearn: 0.2567066\ttotal: 885ms\tremaining: 7.47s\n",
      "106:\tlearn: 0.2561890\ttotal: 891ms\tremaining: 7.44s\n",
      "107:\tlearn: 0.2559347\ttotal: 898ms\tremaining: 7.42s\n",
      "108:\tlearn: 0.2555337\ttotal: 904ms\tremaining: 7.39s\n",
      "109:\tlearn: 0.2553013\ttotal: 910ms\tremaining: 7.36s\n",
      "110:\tlearn: 0.2550661\ttotal: 915ms\tremaining: 7.33s\n",
      "111:\tlearn: 0.2546944\ttotal: 922ms\tremaining: 7.31s\n",
      "112:\tlearn: 0.2543012\ttotal: 928ms\tremaining: 7.28s\n",
      "113:\tlearn: 0.2538731\ttotal: 933ms\tremaining: 7.25s\n",
      "114:\tlearn: 0.2535282\ttotal: 940ms\tremaining: 7.23s\n",
      "115:\tlearn: 0.2531948\ttotal: 946ms\tremaining: 7.21s\n",
      "116:\tlearn: 0.2529017\ttotal: 953ms\tremaining: 7.19s\n",
      "117:\tlearn: 0.2526034\ttotal: 958ms\tremaining: 7.16s\n",
      "118:\tlearn: 0.2523031\ttotal: 964ms\tremaining: 7.13s\n",
      "119:\tlearn: 0.2520204\ttotal: 972ms\tremaining: 7.13s\n",
      "120:\tlearn: 0.2517102\ttotal: 979ms\tremaining: 7.12s\n",
      "121:\tlearn: 0.2514121\ttotal: 988ms\tremaining: 7.11s\n",
      "122:\tlearn: 0.2511763\ttotal: 994ms\tremaining: 7.09s\n",
      "123:\tlearn: 0.2509504\ttotal: 1s\tremaining: 7.08s\n",
      "124:\tlearn: 0.2506108\ttotal: 1.01s\tremaining: 7.06s\n",
      "125:\tlearn: 0.2503821\ttotal: 1.01s\tremaining: 7.05s\n",
      "126:\tlearn: 0.2501654\ttotal: 1.03s\tremaining: 7.06s\n",
      "127:\tlearn: 0.2499374\ttotal: 1.03s\tremaining: 7.05s\n",
      "128:\tlearn: 0.2497764\ttotal: 1.04s\tremaining: 7.03s\n",
      "129:\tlearn: 0.2493699\ttotal: 1.05s\tremaining: 7.02s\n",
      "130:\tlearn: 0.2490975\ttotal: 1.06s\tremaining: 7.01s\n",
      "131:\tlearn: 0.2488904\ttotal: 1.06s\tremaining: 6.99s\n",
      "132:\tlearn: 0.2486457\ttotal: 1.07s\tremaining: 6.97s\n",
      "133:\tlearn: 0.2484245\ttotal: 1.07s\tremaining: 6.95s\n",
      "134:\tlearn: 0.2481696\ttotal: 1.08s\tremaining: 6.93s\n",
      "135:\tlearn: 0.2480292\ttotal: 1.09s\tremaining: 6.92s\n",
      "136:\tlearn: 0.2477831\ttotal: 1.09s\tremaining: 6.9s\n",
      "137:\tlearn: 0.2474545\ttotal: 1.1s\tremaining: 6.88s\n",
      "138:\tlearn: 0.2471986\ttotal: 1.11s\tremaining: 6.86s\n",
      "139:\tlearn: 0.2469914\ttotal: 1.11s\tremaining: 6.84s\n",
      "140:\tlearn: 0.2466945\ttotal: 1.12s\tremaining: 6.82s\n",
      "141:\tlearn: 0.2465214\ttotal: 1.13s\tremaining: 6.8s\n",
      "142:\tlearn: 0.2461037\ttotal: 1.13s\tremaining: 6.78s\n",
      "143:\tlearn: 0.2458357\ttotal: 1.14s\tremaining: 6.77s\n",
      "144:\tlearn: 0.2455918\ttotal: 1.15s\tremaining: 6.76s\n",
      "145:\tlearn: 0.2453968\ttotal: 1.15s\tremaining: 6.74s\n",
      "146:\tlearn: 0.2451405\ttotal: 1.16s\tremaining: 6.72s\n",
      "147:\tlearn: 0.2450058\ttotal: 1.17s\tremaining: 6.71s\n",
      "148:\tlearn: 0.2446156\ttotal: 1.17s\tremaining: 6.69s\n",
      "149:\tlearn: 0.2444395\ttotal: 1.18s\tremaining: 6.68s\n",
      "150:\tlearn: 0.2441787\ttotal: 1.19s\tremaining: 6.67s\n",
      "151:\tlearn: 0.2439648\ttotal: 1.19s\tremaining: 6.66s\n",
      "152:\tlearn: 0.2438137\ttotal: 1.2s\tremaining: 6.65s\n",
      "153:\tlearn: 0.2435270\ttotal: 1.21s\tremaining: 6.64s\n",
      "154:\tlearn: 0.2433520\ttotal: 1.22s\tremaining: 6.63s\n",
      "155:\tlearn: 0.2431093\ttotal: 1.22s\tremaining: 6.62s\n",
      "156:\tlearn: 0.2428515\ttotal: 1.23s\tremaining: 6.61s\n",
      "157:\tlearn: 0.2426237\ttotal: 1.24s\tremaining: 6.59s\n",
      "158:\tlearn: 0.2424201\ttotal: 1.24s\tremaining: 6.58s\n",
      "159:\tlearn: 0.2422039\ttotal: 1.25s\tremaining: 6.57s\n",
      "160:\tlearn: 0.2418836\ttotal: 1.26s\tremaining: 6.56s\n",
      "161:\tlearn: 0.2417017\ttotal: 1.27s\tremaining: 6.55s\n",
      "162:\tlearn: 0.2412223\ttotal: 1.27s\tremaining: 6.54s\n",
      "163:\tlearn: 0.2409924\ttotal: 1.28s\tremaining: 6.53s\n",
      "164:\tlearn: 0.2407841\ttotal: 1.29s\tremaining: 6.52s\n",
      "165:\tlearn: 0.2405727\ttotal: 1.29s\tremaining: 6.5s\n",
      "166:\tlearn: 0.2403944\ttotal: 1.3s\tremaining: 6.48s\n",
      "167:\tlearn: 0.2402790\ttotal: 1.31s\tremaining: 6.47s\n",
      "168:\tlearn: 0.2399794\ttotal: 1.31s\tremaining: 6.45s\n",
      "169:\tlearn: 0.2396112\ttotal: 1.32s\tremaining: 6.43s\n",
      "170:\tlearn: 0.2393224\ttotal: 1.32s\tremaining: 6.42s\n",
      "171:\tlearn: 0.2391725\ttotal: 1.33s\tremaining: 6.4s\n",
      "172:\tlearn: 0.2390282\ttotal: 1.34s\tremaining: 6.39s\n",
      "173:\tlearn: 0.2387498\ttotal: 1.34s\tremaining: 6.37s\n",
      "174:\tlearn: 0.2385311\ttotal: 1.35s\tremaining: 6.36s\n",
      "175:\tlearn: 0.2383379\ttotal: 1.35s\tremaining: 6.34s\n",
      "176:\tlearn: 0.2381655\ttotal: 1.36s\tremaining: 6.33s\n",
      "177:\tlearn: 0.2377773\ttotal: 1.37s\tremaining: 6.31s\n",
      "178:\tlearn: 0.2374631\ttotal: 1.37s\tremaining: 6.3s\n",
      "179:\tlearn: 0.2372239\ttotal: 1.38s\tremaining: 6.29s\n",
      "180:\tlearn: 0.2370299\ttotal: 1.39s\tremaining: 6.28s\n",
      "181:\tlearn: 0.2366771\ttotal: 1.39s\tremaining: 6.27s\n",
      "182:\tlearn: 0.2364620\ttotal: 1.4s\tremaining: 6.26s\n",
      "183:\tlearn: 0.2360791\ttotal: 1.41s\tremaining: 6.25s\n",
      "184:\tlearn: 0.2358753\ttotal: 1.42s\tremaining: 6.24s\n",
      "185:\tlearn: 0.2356581\ttotal: 1.42s\tremaining: 6.22s\n",
      "186:\tlearn: 0.2354236\ttotal: 1.43s\tremaining: 6.21s\n",
      "187:\tlearn: 0.2351742\ttotal: 1.44s\tremaining: 6.21s\n",
      "188:\tlearn: 0.2349671\ttotal: 1.44s\tremaining: 6.19s\n",
      "189:\tlearn: 0.2347570\ttotal: 1.45s\tremaining: 6.18s\n",
      "190:\tlearn: 0.2346429\ttotal: 1.46s\tremaining: 6.17s\n",
      "191:\tlearn: 0.2343639\ttotal: 1.47s\tremaining: 6.17s\n",
      "192:\tlearn: 0.2341667\ttotal: 1.47s\tremaining: 6.16s\n",
      "193:\tlearn: 0.2339888\ttotal: 1.48s\tremaining: 6.14s\n",
      "194:\tlearn: 0.2338416\ttotal: 1.49s\tremaining: 6.13s\n",
      "195:\tlearn: 0.2336481\ttotal: 1.49s\tremaining: 6.12s\n",
      "196:\tlearn: 0.2335062\ttotal: 1.5s\tremaining: 6.11s\n",
      "197:\tlearn: 0.2333087\ttotal: 1.5s\tremaining: 6.09s\n",
      "198:\tlearn: 0.2331172\ttotal: 1.51s\tremaining: 6.08s\n",
      "199:\tlearn: 0.2328172\ttotal: 1.52s\tremaining: 6.07s\n",
      "200:\tlearn: 0.2325941\ttotal: 1.52s\tremaining: 6.05s\n",
      "201:\tlearn: 0.2324102\ttotal: 1.53s\tremaining: 6.04s\n",
      "202:\tlearn: 0.2321754\ttotal: 1.53s\tremaining: 6.03s\n",
      "203:\tlearn: 0.2319588\ttotal: 1.54s\tremaining: 6.01s\n",
      "204:\tlearn: 0.2318453\ttotal: 1.55s\tremaining: 6.01s\n",
      "205:\tlearn: 0.2316178\ttotal: 1.56s\tremaining: 6s\n",
      "206:\tlearn: 0.2314633\ttotal: 1.56s\tremaining: 5.99s\n",
      "207:\tlearn: 0.2313203\ttotal: 1.57s\tremaining: 5.98s\n",
      "208:\tlearn: 0.2311479\ttotal: 1.57s\tremaining: 5.96s\n",
      "209:\tlearn: 0.2309426\ttotal: 1.58s\tremaining: 5.96s\n",
      "210:\tlearn: 0.2307935\ttotal: 1.59s\tremaining: 5.94s\n",
      "211:\tlearn: 0.2306201\ttotal: 1.6s\tremaining: 5.93s\n",
      "212:\tlearn: 0.2304642\ttotal: 1.6s\tremaining: 5.92s\n",
      "213:\tlearn: 0.2302659\ttotal: 1.61s\tremaining: 5.92s\n",
      "214:\tlearn: 0.2300328\ttotal: 1.62s\tremaining: 5.9s\n",
      "215:\tlearn: 0.2298194\ttotal: 1.63s\tremaining: 5.9s\n",
      "216:\tlearn: 0.2296946\ttotal: 1.63s\tremaining: 5.89s\n",
      "217:\tlearn: 0.2294474\ttotal: 1.64s\tremaining: 5.88s\n",
      "218:\tlearn: 0.2293065\ttotal: 1.65s\tremaining: 5.87s\n",
      "219:\tlearn: 0.2290971\ttotal: 1.65s\tremaining: 5.86s\n",
      "220:\tlearn: 0.2289411\ttotal: 1.7s\tremaining: 6s\n",
      "221:\tlearn: 0.2287585\ttotal: 1.74s\tremaining: 6.09s\n",
      "222:\tlearn: 0.2285173\ttotal: 1.75s\tremaining: 6.08s\n",
      "223:\tlearn: 0.2283511\ttotal: 1.76s\tremaining: 6.09s\n",
      "224:\tlearn: 0.2281143\ttotal: 1.77s\tremaining: 6.09s\n",
      "225:\tlearn: 0.2279421\ttotal: 1.78s\tremaining: 6.08s\n",
      "226:\tlearn: 0.2278049\ttotal: 1.78s\tremaining: 6.07s\n",
      "227:\tlearn: 0.2276235\ttotal: 1.79s\tremaining: 6.05s\n",
      "228:\tlearn: 0.2274811\ttotal: 1.79s\tremaining: 6.04s\n",
      "229:\tlearn: 0.2273197\ttotal: 1.8s\tremaining: 6.03s\n",
      "230:\tlearn: 0.2272004\ttotal: 1.81s\tremaining: 6.02s\n",
      "231:\tlearn: 0.2269885\ttotal: 1.82s\tremaining: 6.01s\n",
      "232:\tlearn: 0.2268538\ttotal: 1.82s\tremaining: 6.01s\n",
      "233:\tlearn: 0.2266815\ttotal: 1.83s\tremaining: 6s\n",
      "234:\tlearn: 0.2265374\ttotal: 1.84s\tremaining: 5.99s\n",
      "235:\tlearn: 0.2263272\ttotal: 1.85s\tremaining: 5.98s\n",
      "236:\tlearn: 0.2261244\ttotal: 1.85s\tremaining: 5.97s\n",
      "237:\tlearn: 0.2259527\ttotal: 1.86s\tremaining: 5.96s\n",
      "238:\tlearn: 0.2257695\ttotal: 1.87s\tremaining: 5.95s\n",
      "239:\tlearn: 0.2255804\ttotal: 1.87s\tremaining: 5.93s\n",
      "240:\tlearn: 0.2254536\ttotal: 1.88s\tremaining: 5.92s\n",
      "241:\tlearn: 0.2252878\ttotal: 1.89s\tremaining: 5.91s\n",
      "242:\tlearn: 0.2251454\ttotal: 1.89s\tremaining: 5.89s\n",
      "243:\tlearn: 0.2250290\ttotal: 1.9s\tremaining: 5.88s\n",
      "244:\tlearn: 0.2248482\ttotal: 1.9s\tremaining: 5.87s\n",
      "245:\tlearn: 0.2245932\ttotal: 1.91s\tremaining: 5.85s\n",
      "246:\tlearn: 0.2243672\ttotal: 1.92s\tremaining: 5.84s\n",
      "247:\tlearn: 0.2241272\ttotal: 1.92s\tremaining: 5.83s\n",
      "248:\tlearn: 0.2239851\ttotal: 1.93s\tremaining: 5.82s\n",
      "249:\tlearn: 0.2238308\ttotal: 1.94s\tremaining: 5.81s\n",
      "250:\tlearn: 0.2236198\ttotal: 1.94s\tremaining: 5.79s\n",
      "251:\tlearn: 0.2235071\ttotal: 1.95s\tremaining: 5.78s\n",
      "252:\tlearn: 0.2233214\ttotal: 1.95s\tremaining: 5.77s\n",
      "253:\tlearn: 0.2231182\ttotal: 1.96s\tremaining: 5.75s\n",
      "254:\tlearn: 0.2229760\ttotal: 1.96s\tremaining: 5.74s\n",
      "255:\tlearn: 0.2228029\ttotal: 1.97s\tremaining: 5.73s\n",
      "256:\tlearn: 0.2226524\ttotal: 1.98s\tremaining: 5.71s\n",
      "257:\tlearn: 0.2225058\ttotal: 1.98s\tremaining: 5.71s\n",
      "258:\tlearn: 0.2223494\ttotal: 1.99s\tremaining: 5.69s\n",
      "259:\tlearn: 0.2222572\ttotal: 1.99s\tremaining: 5.68s\n",
      "260:\tlearn: 0.2221132\ttotal: 2s\tremaining: 5.67s\n",
      "261:\tlearn: 0.2219319\ttotal: 2.01s\tremaining: 5.66s\n",
      "262:\tlearn: 0.2217964\ttotal: 2.02s\tremaining: 5.65s\n",
      "263:\tlearn: 0.2215919\ttotal: 2.02s\tremaining: 5.64s\n",
      "264:\tlearn: 0.2214265\ttotal: 2.03s\tremaining: 5.63s\n",
      "265:\tlearn: 0.2212789\ttotal: 2.04s\tremaining: 5.62s\n",
      "266:\tlearn: 0.2210567\ttotal: 2.04s\tremaining: 5.62s\n",
      "267:\tlearn: 0.2208800\ttotal: 2.05s\tremaining: 5.6s\n",
      "268:\tlearn: 0.2207513\ttotal: 2.06s\tremaining: 5.59s\n",
      "269:\tlearn: 0.2206019\ttotal: 2.06s\tremaining: 5.58s\n",
      "270:\tlearn: 0.2204645\ttotal: 2.07s\tremaining: 5.57s\n",
      "271:\tlearn: 0.2203172\ttotal: 2.08s\tremaining: 5.55s\n",
      "272:\tlearn: 0.2201925\ttotal: 2.08s\tremaining: 5.54s\n",
      "273:\tlearn: 0.2200719\ttotal: 2.09s\tremaining: 5.53s\n",
      "274:\tlearn: 0.2199389\ttotal: 2.09s\tremaining: 5.52s\n",
      "275:\tlearn: 0.2198307\ttotal: 2.1s\tremaining: 5.51s\n",
      "276:\tlearn: 0.2196494\ttotal: 2.1s\tremaining: 5.5s\n",
      "277:\tlearn: 0.2194871\ttotal: 2.11s\tremaining: 5.49s\n",
      "278:\tlearn: 0.2192867\ttotal: 2.12s\tremaining: 5.47s\n",
      "279:\tlearn: 0.2190892\ttotal: 2.12s\tremaining: 5.46s\n",
      "280:\tlearn: 0.2188463\ttotal: 2.13s\tremaining: 5.45s\n",
      "281:\tlearn: 0.2187474\ttotal: 2.13s\tremaining: 5.44s\n",
      "282:\tlearn: 0.2185923\ttotal: 2.14s\tremaining: 5.43s\n",
      "283:\tlearn: 0.2184267\ttotal: 2.15s\tremaining: 5.42s\n",
      "284:\tlearn: 0.2182975\ttotal: 2.15s\tremaining: 5.41s\n",
      "285:\tlearn: 0.2181760\ttotal: 2.16s\tremaining: 5.4s\n",
      "286:\tlearn: 0.2180410\ttotal: 2.17s\tremaining: 5.38s\n",
      "287:\tlearn: 0.2179520\ttotal: 2.17s\tremaining: 5.37s\n",
      "288:\tlearn: 0.2178408\ttotal: 2.18s\tremaining: 5.36s\n",
      "289:\tlearn: 0.2176486\ttotal: 2.18s\tremaining: 5.35s\n",
      "290:\tlearn: 0.2175007\ttotal: 2.19s\tremaining: 5.34s\n",
      "291:\tlearn: 0.2173446\ttotal: 2.2s\tremaining: 5.33s\n",
      "292:\tlearn: 0.2172373\ttotal: 2.2s\tremaining: 5.32s\n",
      "293:\tlearn: 0.2170945\ttotal: 2.21s\tremaining: 5.31s\n",
      "294:\tlearn: 0.2169723\ttotal: 2.22s\tremaining: 5.3s\n",
      "295:\tlearn: 0.2168358\ttotal: 2.23s\tremaining: 5.29s\n",
      "296:\tlearn: 0.2167564\ttotal: 2.23s\tremaining: 5.28s\n",
      "297:\tlearn: 0.2166501\ttotal: 2.24s\tremaining: 5.28s\n",
      "298:\tlearn: 0.2165604\ttotal: 2.25s\tremaining: 5.27s\n",
      "299:\tlearn: 0.2163864\ttotal: 2.25s\tremaining: 5.26s\n",
      "300:\tlearn: 0.2162803\ttotal: 2.26s\tremaining: 5.25s\n",
      "301:\tlearn: 0.2161442\ttotal: 2.27s\tremaining: 5.24s\n",
      "302:\tlearn: 0.2159647\ttotal: 2.27s\tremaining: 5.23s\n",
      "303:\tlearn: 0.2157823\ttotal: 2.28s\tremaining: 5.22s\n",
      "304:\tlearn: 0.2156252\ttotal: 2.28s\tremaining: 5.21s\n",
      "305:\tlearn: 0.2155317\ttotal: 2.29s\tremaining: 5.19s\n",
      "306:\tlearn: 0.2154095\ttotal: 2.29s\tremaining: 5.18s\n",
      "307:\tlearn: 0.2152594\ttotal: 2.3s\tremaining: 5.17s\n",
      "308:\tlearn: 0.2151453\ttotal: 2.31s\tremaining: 5.16s\n",
      "309:\tlearn: 0.2150527\ttotal: 2.31s\tremaining: 5.15s\n",
      "310:\tlearn: 0.2149308\ttotal: 2.32s\tremaining: 5.14s\n",
      "311:\tlearn: 0.2147733\ttotal: 2.33s\tremaining: 5.13s\n",
      "312:\tlearn: 0.2146829\ttotal: 2.33s\tremaining: 5.12s\n",
      "313:\tlearn: 0.2145730\ttotal: 2.34s\tremaining: 5.11s\n",
      "314:\tlearn: 0.2144405\ttotal: 2.34s\tremaining: 5.09s\n",
      "315:\tlearn: 0.2142497\ttotal: 2.35s\tremaining: 5.09s\n",
      "316:\tlearn: 0.2141465\ttotal: 2.36s\tremaining: 5.08s\n",
      "317:\tlearn: 0.2140586\ttotal: 2.36s\tremaining: 5.07s\n",
      "318:\tlearn: 0.2139445\ttotal: 2.37s\tremaining: 5.06s\n",
      "319:\tlearn: 0.2138553\ttotal: 2.38s\tremaining: 5.05s\n",
      "320:\tlearn: 0.2137185\ttotal: 2.38s\tremaining: 5.04s\n",
      "321:\tlearn: 0.2135378\ttotal: 2.39s\tremaining: 5.03s\n",
      "322:\tlearn: 0.2133831\ttotal: 2.39s\tremaining: 5.02s\n",
      "323:\tlearn: 0.2132183\ttotal: 2.4s\tremaining: 5.01s\n",
      "324:\tlearn: 0.2130980\ttotal: 2.41s\tremaining: 5s\n",
      "325:\tlearn: 0.2129575\ttotal: 2.41s\tremaining: 4.99s\n",
      "326:\tlearn: 0.2128231\ttotal: 2.42s\tremaining: 4.98s\n",
      "327:\tlearn: 0.2127300\ttotal: 2.43s\tremaining: 4.97s\n",
      "328:\tlearn: 0.2126287\ttotal: 2.44s\tremaining: 4.97s\n",
      "329:\tlearn: 0.2125425\ttotal: 2.44s\tremaining: 4.96s\n",
      "330:\tlearn: 0.2124256\ttotal: 2.45s\tremaining: 4.95s\n",
      "331:\tlearn: 0.2123012\ttotal: 2.47s\tremaining: 4.97s\n",
      "332:\tlearn: 0.2122041\ttotal: 2.5s\tremaining: 5.01s\n",
      "333:\tlearn: 0.2121178\ttotal: 2.51s\tremaining: 5s\n",
      "334:\tlearn: 0.2120247\ttotal: 2.52s\tremaining: 5.01s\n",
      "335:\tlearn: 0.2119366\ttotal: 2.53s\tremaining: 5s\n",
      "336:\tlearn: 0.2118474\ttotal: 2.54s\tremaining: 4.99s\n",
      "337:\tlearn: 0.2117713\ttotal: 2.54s\tremaining: 4.98s\n",
      "338:\tlearn: 0.2116684\ttotal: 2.55s\tremaining: 4.97s\n",
      "339:\tlearn: 0.2115598\ttotal: 2.56s\tremaining: 4.96s\n",
      "340:\tlearn: 0.2114067\ttotal: 2.56s\tremaining: 4.96s\n",
      "341:\tlearn: 0.2112791\ttotal: 2.57s\tremaining: 4.95s\n",
      "342:\tlearn: 0.2111587\ttotal: 2.58s\tremaining: 4.93s\n",
      "343:\tlearn: 0.2110356\ttotal: 2.58s\tremaining: 4.92s\n",
      "344:\tlearn: 0.2109369\ttotal: 2.59s\tremaining: 4.91s\n",
      "345:\tlearn: 0.2108203\ttotal: 2.59s\tremaining: 4.9s\n",
      "346:\tlearn: 0.2107313\ttotal: 2.6s\tremaining: 4.89s\n",
      "347:\tlearn: 0.2106528\ttotal: 2.6s\tremaining: 4.88s\n",
      "348:\tlearn: 0.2105329\ttotal: 2.61s\tremaining: 4.87s\n",
      "349:\tlearn: 0.2103912\ttotal: 2.62s\tremaining: 4.86s\n",
      "350:\tlearn: 0.2102870\ttotal: 2.62s\tremaining: 4.85s\n",
      "351:\tlearn: 0.2102098\ttotal: 2.63s\tremaining: 4.84s\n",
      "352:\tlearn: 0.2100436\ttotal: 2.64s\tremaining: 4.83s\n",
      "353:\tlearn: 0.2099153\ttotal: 2.65s\tremaining: 4.83s\n",
      "354:\tlearn: 0.2097816\ttotal: 2.65s\tremaining: 4.82s\n",
      "355:\tlearn: 0.2096990\ttotal: 2.66s\tremaining: 4.81s\n",
      "356:\tlearn: 0.2096117\ttotal: 2.67s\tremaining: 4.8s\n",
      "357:\tlearn: 0.2095279\ttotal: 2.67s\tremaining: 4.79s\n",
      "358:\tlearn: 0.2094450\ttotal: 2.68s\tremaining: 4.78s\n",
      "359:\tlearn: 0.2093498\ttotal: 2.68s\tremaining: 4.77s\n",
      "360:\tlearn: 0.2092742\ttotal: 2.69s\tremaining: 4.76s\n",
      "361:\tlearn: 0.2091811\ttotal: 2.7s\tremaining: 4.75s\n",
      "362:\tlearn: 0.2090749\ttotal: 2.7s\tremaining: 4.74s\n",
      "363:\tlearn: 0.2089917\ttotal: 2.71s\tremaining: 4.73s\n",
      "364:\tlearn: 0.2089076\ttotal: 2.71s\tremaining: 4.72s\n",
      "365:\tlearn: 0.2087454\ttotal: 2.72s\tremaining: 4.71s\n",
      "366:\tlearn: 0.2086178\ttotal: 2.73s\tremaining: 4.7s\n",
      "367:\tlearn: 0.2084639\ttotal: 2.73s\tremaining: 4.69s\n",
      "368:\tlearn: 0.2083363\ttotal: 2.74s\tremaining: 4.68s\n",
      "369:\tlearn: 0.2081774\ttotal: 2.74s\tremaining: 4.67s\n",
      "370:\tlearn: 0.2080604\ttotal: 2.75s\tremaining: 4.66s\n",
      "371:\tlearn: 0.2079904\ttotal: 2.75s\tremaining: 4.65s\n",
      "372:\tlearn: 0.2078668\ttotal: 2.76s\tremaining: 4.64s\n",
      "373:\tlearn: 0.2077616\ttotal: 2.77s\tremaining: 4.63s\n",
      "374:\tlearn: 0.2076734\ttotal: 2.77s\tremaining: 4.62s\n",
      "375:\tlearn: 0.2075463\ttotal: 2.78s\tremaining: 4.61s\n",
      "376:\tlearn: 0.2074846\ttotal: 2.78s\tremaining: 4.6s\n",
      "377:\tlearn: 0.2073802\ttotal: 2.79s\tremaining: 4.59s\n",
      "378:\tlearn: 0.2072837\ttotal: 2.79s\tremaining: 4.58s\n",
      "379:\tlearn: 0.2071614\ttotal: 2.8s\tremaining: 4.57s\n",
      "380:\tlearn: 0.2070701\ttotal: 2.81s\tremaining: 4.56s\n",
      "381:\tlearn: 0.2069127\ttotal: 2.81s\tremaining: 4.55s\n",
      "382:\tlearn: 0.2067998\ttotal: 2.82s\tremaining: 4.54s\n",
      "383:\tlearn: 0.2067052\ttotal: 2.82s\tremaining: 4.53s\n",
      "384:\tlearn: 0.2066041\ttotal: 2.83s\tremaining: 4.52s\n",
      "385:\tlearn: 0.2064992\ttotal: 2.84s\tremaining: 4.51s\n",
      "386:\tlearn: 0.2063794\ttotal: 2.85s\tremaining: 4.51s\n",
      "387:\tlearn: 0.2062539\ttotal: 2.85s\tremaining: 4.5s\n",
      "388:\tlearn: 0.2061778\ttotal: 2.86s\tremaining: 4.49s\n",
      "389:\tlearn: 0.2060979\ttotal: 2.87s\tremaining: 4.48s\n",
      "390:\tlearn: 0.2060110\ttotal: 2.87s\tremaining: 4.47s\n",
      "391:\tlearn: 0.2058386\ttotal: 2.88s\tremaining: 4.47s\n",
      "392:\tlearn: 0.2057144\ttotal: 2.89s\tremaining: 4.46s\n",
      "393:\tlearn: 0.2056144\ttotal: 2.89s\tremaining: 4.45s\n",
      "394:\tlearn: 0.2055262\ttotal: 2.9s\tremaining: 4.44s\n",
      "395:\tlearn: 0.2053972\ttotal: 2.91s\tremaining: 4.43s\n",
      "396:\tlearn: 0.2053097\ttotal: 2.91s\tremaining: 4.42s\n",
      "397:\tlearn: 0.2052446\ttotal: 2.92s\tremaining: 4.42s\n",
      "398:\tlearn: 0.2051709\ttotal: 2.92s\tremaining: 4.4s\n",
      "399:\tlearn: 0.2050340\ttotal: 2.93s\tremaining: 4.4s\n",
      "400:\tlearn: 0.2049710\ttotal: 2.94s\tremaining: 4.39s\n",
      "401:\tlearn: 0.2049037\ttotal: 2.94s\tremaining: 4.38s\n",
      "402:\tlearn: 0.2047853\ttotal: 2.95s\tremaining: 4.37s\n",
      "403:\tlearn: 0.2047044\ttotal: 2.96s\tremaining: 4.36s\n",
      "404:\tlearn: 0.2046000\ttotal: 2.96s\tremaining: 4.35s\n",
      "405:\tlearn: 0.2044829\ttotal: 2.97s\tremaining: 4.34s\n",
      "406:\tlearn: 0.2043949\ttotal: 2.97s\tremaining: 4.33s\n",
      "407:\tlearn: 0.2043019\ttotal: 2.98s\tremaining: 4.33s\n",
      "408:\tlearn: 0.2042035\ttotal: 2.99s\tremaining: 4.32s\n",
      "409:\tlearn: 0.2041399\ttotal: 2.99s\tremaining: 4.31s\n",
      "410:\tlearn: 0.2040580\ttotal: 3s\tremaining: 4.3s\n",
      "411:\tlearn: 0.2039480\ttotal: 3s\tremaining: 4.29s\n",
      "412:\tlearn: 0.2038354\ttotal: 3.01s\tremaining: 4.28s\n",
      "413:\tlearn: 0.2037044\ttotal: 3.02s\tremaining: 4.27s\n",
      "414:\tlearn: 0.2036041\ttotal: 3.02s\tremaining: 4.26s\n",
      "415:\tlearn: 0.2035020\ttotal: 3.03s\tremaining: 4.25s\n",
      "416:\tlearn: 0.2033639\ttotal: 3.04s\tremaining: 4.24s\n",
      "417:\tlearn: 0.2032858\ttotal: 3.04s\tremaining: 4.24s\n",
      "418:\tlearn: 0.2031549\ttotal: 3.05s\tremaining: 4.23s\n",
      "419:\tlearn: 0.2030609\ttotal: 3.06s\tremaining: 4.22s\n",
      "420:\tlearn: 0.2029812\ttotal: 3.06s\tremaining: 4.21s\n",
      "421:\tlearn: 0.2029071\ttotal: 3.07s\tremaining: 4.21s\n",
      "422:\tlearn: 0.2028541\ttotal: 3.08s\tremaining: 4.2s\n",
      "423:\tlearn: 0.2027695\ttotal: 3.08s\tremaining: 4.19s\n",
      "424:\tlearn: 0.2026749\ttotal: 3.09s\tremaining: 4.18s\n",
      "425:\tlearn: 0.2025916\ttotal: 3.1s\tremaining: 4.17s\n",
      "426:\tlearn: 0.2024383\ttotal: 3.1s\tremaining: 4.16s\n",
      "427:\tlearn: 0.2023474\ttotal: 3.11s\tremaining: 4.16s\n",
      "428:\tlearn: 0.2022432\ttotal: 3.12s\tremaining: 4.15s\n",
      "429:\tlearn: 0.2021704\ttotal: 3.12s\tremaining: 4.14s\n",
      "430:\tlearn: 0.2020842\ttotal: 3.13s\tremaining: 4.13s\n",
      "431:\tlearn: 0.2019741\ttotal: 3.13s\tremaining: 4.12s\n",
      "432:\tlearn: 0.2018634\ttotal: 3.14s\tremaining: 4.11s\n",
      "433:\tlearn: 0.2017378\ttotal: 3.15s\tremaining: 4.1s\n",
      "434:\tlearn: 0.2016547\ttotal: 3.15s\tremaining: 4.09s\n",
      "435:\tlearn: 0.2015580\ttotal: 3.16s\tremaining: 4.09s\n",
      "436:\tlearn: 0.2014797\ttotal: 3.16s\tremaining: 4.08s\n",
      "437:\tlearn: 0.2013911\ttotal: 3.17s\tremaining: 4.07s\n",
      "438:\tlearn: 0.2013079\ttotal: 3.18s\tremaining: 4.06s\n",
      "439:\tlearn: 0.2012446\ttotal: 3.19s\tremaining: 4.05s\n",
      "440:\tlearn: 0.2011812\ttotal: 3.19s\tremaining: 4.05s\n",
      "441:\tlearn: 0.2010869\ttotal: 3.2s\tremaining: 4.04s\n",
      "442:\tlearn: 0.2009929\ttotal: 3.21s\tremaining: 4.03s\n",
      "443:\tlearn: 0.2009245\ttotal: 3.21s\tremaining: 4.02s\n",
      "444:\tlearn: 0.2007928\ttotal: 3.22s\tremaining: 4.01s\n",
      "445:\tlearn: 0.2006631\ttotal: 3.22s\tremaining: 4s\n",
      "446:\tlearn: 0.2005665\ttotal: 3.23s\tremaining: 4s\n",
      "447:\tlearn: 0.2004988\ttotal: 3.24s\tremaining: 3.99s\n",
      "448:\tlearn: 0.2004319\ttotal: 3.24s\tremaining: 3.98s\n",
      "449:\tlearn: 0.2003088\ttotal: 3.25s\tremaining: 3.97s\n",
      "450:\tlearn: 0.2002251\ttotal: 3.26s\tremaining: 3.97s\n",
      "451:\tlearn: 0.2001566\ttotal: 3.26s\tremaining: 3.96s\n",
      "452:\tlearn: 0.2000934\ttotal: 3.27s\tremaining: 3.95s\n",
      "453:\tlearn: 0.2000081\ttotal: 3.28s\tremaining: 3.94s\n",
      "454:\tlearn: 0.1999357\ttotal: 3.29s\tremaining: 3.94s\n",
      "455:\tlearn: 0.1998619\ttotal: 3.29s\tremaining: 3.93s\n",
      "456:\tlearn: 0.1997722\ttotal: 3.3s\tremaining: 3.92s\n",
      "457:\tlearn: 0.1997257\ttotal: 3.3s\tremaining: 3.91s\n",
      "458:\tlearn: 0.1996583\ttotal: 3.31s\tremaining: 3.9s\n",
      "459:\tlearn: 0.1995864\ttotal: 3.32s\tremaining: 3.9s\n",
      "460:\tlearn: 0.1995021\ttotal: 3.33s\tremaining: 3.89s\n",
      "461:\tlearn: 0.1993796\ttotal: 3.33s\tremaining: 3.88s\n",
      "462:\tlearn: 0.1993018\ttotal: 3.34s\tremaining: 3.87s\n",
      "463:\tlearn: 0.1992539\ttotal: 3.35s\tremaining: 3.86s\n",
      "464:\tlearn: 0.1991723\ttotal: 3.35s\tremaining: 3.86s\n",
      "465:\tlearn: 0.1991003\ttotal: 3.36s\tremaining: 3.85s\n",
      "466:\tlearn: 0.1990115\ttotal: 3.37s\tremaining: 3.84s\n",
      "467:\tlearn: 0.1988821\ttotal: 3.37s\tremaining: 3.83s\n",
      "468:\tlearn: 0.1988439\ttotal: 3.38s\tremaining: 3.82s\n",
      "469:\tlearn: 0.1987696\ttotal: 3.38s\tremaining: 3.82s\n",
      "470:\tlearn: 0.1986760\ttotal: 3.39s\tremaining: 3.81s\n",
      "471:\tlearn: 0.1985917\ttotal: 3.4s\tremaining: 3.8s\n",
      "472:\tlearn: 0.1984736\ttotal: 3.4s\tremaining: 3.79s\n",
      "473:\tlearn: 0.1984093\ttotal: 3.41s\tremaining: 3.78s\n",
      "474:\tlearn: 0.1982835\ttotal: 3.42s\tremaining: 3.78s\n",
      "475:\tlearn: 0.1981982\ttotal: 3.42s\tremaining: 3.77s\n",
      "476:\tlearn: 0.1980888\ttotal: 3.43s\tremaining: 3.76s\n",
      "477:\tlearn: 0.1980172\ttotal: 3.44s\tremaining: 3.75s\n",
      "478:\tlearn: 0.1979036\ttotal: 3.44s\tremaining: 3.75s\n",
      "479:\tlearn: 0.1978130\ttotal: 3.45s\tremaining: 3.74s\n",
      "480:\tlearn: 0.1977264\ttotal: 3.46s\tremaining: 3.73s\n",
      "481:\tlearn: 0.1976300\ttotal: 3.47s\tremaining: 3.73s\n",
      "482:\tlearn: 0.1975677\ttotal: 3.47s\tremaining: 3.72s\n",
      "483:\tlearn: 0.1974623\ttotal: 3.48s\tremaining: 3.71s\n",
      "484:\tlearn: 0.1973659\ttotal: 3.49s\tremaining: 3.7s\n",
      "485:\tlearn: 0.1972679\ttotal: 3.5s\tremaining: 3.7s\n",
      "486:\tlearn: 0.1972049\ttotal: 3.5s\tremaining: 3.69s\n",
      "487:\tlearn: 0.1971245\ttotal: 3.51s\tremaining: 3.68s\n",
      "488:\tlearn: 0.1970655\ttotal: 3.51s\tremaining: 3.67s\n",
      "489:\tlearn: 0.1969694\ttotal: 3.52s\tremaining: 3.66s\n",
      "490:\tlearn: 0.1968608\ttotal: 3.52s\tremaining: 3.65s\n",
      "491:\tlearn: 0.1967424\ttotal: 3.53s\tremaining: 3.65s\n",
      "492:\tlearn: 0.1966536\ttotal: 3.54s\tremaining: 3.64s\n",
      "493:\tlearn: 0.1965696\ttotal: 3.54s\tremaining: 3.63s\n",
      "494:\tlearn: 0.1964718\ttotal: 3.55s\tremaining: 3.62s\n",
      "495:\tlearn: 0.1963497\ttotal: 3.55s\tremaining: 3.61s\n",
      "496:\tlearn: 0.1962569\ttotal: 3.56s\tremaining: 3.6s\n",
      "497:\tlearn: 0.1962108\ttotal: 3.57s\tremaining: 3.6s\n",
      "498:\tlearn: 0.1961079\ttotal: 3.57s\tremaining: 3.59s\n",
      "499:\tlearn: 0.1960280\ttotal: 3.58s\tremaining: 3.58s\n",
      "500:\tlearn: 0.1959661\ttotal: 3.58s\tremaining: 3.57s\n",
      "501:\tlearn: 0.1959198\ttotal: 3.59s\tremaining: 3.56s\n",
      "502:\tlearn: 0.1958605\ttotal: 3.6s\tremaining: 3.55s\n",
      "503:\tlearn: 0.1957592\ttotal: 3.6s\tremaining: 3.54s\n",
      "504:\tlearn: 0.1956922\ttotal: 3.61s\tremaining: 3.54s\n",
      "505:\tlearn: 0.1956152\ttotal: 3.61s\tremaining: 3.53s\n",
      "506:\tlearn: 0.1955641\ttotal: 3.62s\tremaining: 3.52s\n",
      "507:\tlearn: 0.1954880\ttotal: 3.63s\tremaining: 3.51s\n",
      "508:\tlearn: 0.1954216\ttotal: 3.63s\tremaining: 3.5s\n",
      "509:\tlearn: 0.1953342\ttotal: 3.64s\tremaining: 3.5s\n",
      "510:\tlearn: 0.1952698\ttotal: 3.65s\tremaining: 3.49s\n",
      "511:\tlearn: 0.1951983\ttotal: 3.65s\tremaining: 3.48s\n",
      "512:\tlearn: 0.1951281\ttotal: 3.66s\tremaining: 3.47s\n",
      "513:\tlearn: 0.1950450\ttotal: 3.67s\tremaining: 3.46s\n",
      "514:\tlearn: 0.1949935\ttotal: 3.67s\tremaining: 3.46s\n",
      "515:\tlearn: 0.1949408\ttotal: 3.68s\tremaining: 3.45s\n",
      "516:\tlearn: 0.1948382\ttotal: 3.69s\tremaining: 3.44s\n",
      "517:\tlearn: 0.1947870\ttotal: 3.69s\tremaining: 3.44s\n",
      "518:\tlearn: 0.1947024\ttotal: 3.7s\tremaining: 3.43s\n",
      "519:\tlearn: 0.1946448\ttotal: 3.7s\tremaining: 3.42s\n",
      "520:\tlearn: 0.1945457\ttotal: 3.71s\tremaining: 3.41s\n",
      "521:\tlearn: 0.1944720\ttotal: 3.72s\tremaining: 3.4s\n",
      "522:\tlearn: 0.1943910\ttotal: 3.72s\tremaining: 3.4s\n",
      "523:\tlearn: 0.1943007\ttotal: 3.73s\tremaining: 3.39s\n",
      "524:\tlearn: 0.1942076\ttotal: 3.74s\tremaining: 3.38s\n",
      "525:\tlearn: 0.1941365\ttotal: 3.74s\tremaining: 3.37s\n",
      "526:\tlearn: 0.1940673\ttotal: 3.75s\tremaining: 3.36s\n",
      "527:\tlearn: 0.1940181\ttotal: 3.75s\tremaining: 3.35s\n",
      "528:\tlearn: 0.1939308\ttotal: 3.76s\tremaining: 3.35s\n",
      "529:\tlearn: 0.1938296\ttotal: 3.77s\tremaining: 3.34s\n",
      "530:\tlearn: 0.1937520\ttotal: 3.77s\tremaining: 3.33s\n",
      "531:\tlearn: 0.1936720\ttotal: 3.78s\tremaining: 3.32s\n",
      "532:\tlearn: 0.1936006\ttotal: 3.78s\tremaining: 3.31s\n",
      "533:\tlearn: 0.1935031\ttotal: 3.79s\tremaining: 3.31s\n",
      "534:\tlearn: 0.1934390\ttotal: 3.79s\tremaining: 3.3s\n",
      "535:\tlearn: 0.1933696\ttotal: 3.8s\tremaining: 3.29s\n",
      "536:\tlearn: 0.1933085\ttotal: 3.81s\tremaining: 3.28s\n",
      "537:\tlearn: 0.1932516\ttotal: 3.81s\tremaining: 3.27s\n",
      "538:\tlearn: 0.1931871\ttotal: 3.82s\tremaining: 3.27s\n",
      "539:\tlearn: 0.1931284\ttotal: 3.83s\tremaining: 3.26s\n",
      "540:\tlearn: 0.1930747\ttotal: 3.83s\tremaining: 3.25s\n",
      "541:\tlearn: 0.1929939\ttotal: 3.84s\tremaining: 3.24s\n",
      "542:\tlearn: 0.1929211\ttotal: 3.84s\tremaining: 3.23s\n",
      "543:\tlearn: 0.1928600\ttotal: 3.85s\tremaining: 3.23s\n",
      "544:\tlearn: 0.1927791\ttotal: 3.86s\tremaining: 3.22s\n",
      "545:\tlearn: 0.1926906\ttotal: 3.86s\tremaining: 3.21s\n",
      "546:\tlearn: 0.1926154\ttotal: 3.87s\tremaining: 3.21s\n",
      "547:\tlearn: 0.1925690\ttotal: 3.88s\tremaining: 3.2s\n",
      "548:\tlearn: 0.1924638\ttotal: 3.88s\tremaining: 3.19s\n",
      "549:\tlearn: 0.1923858\ttotal: 3.89s\tremaining: 3.18s\n",
      "550:\tlearn: 0.1923204\ttotal: 3.9s\tremaining: 3.18s\n",
      "551:\tlearn: 0.1922377\ttotal: 3.9s\tremaining: 3.17s\n",
      "552:\tlearn: 0.1921907\ttotal: 3.91s\tremaining: 3.16s\n",
      "553:\tlearn: 0.1921104\ttotal: 3.92s\tremaining: 3.15s\n",
      "554:\tlearn: 0.1920559\ttotal: 3.92s\tremaining: 3.15s\n",
      "555:\tlearn: 0.1919784\ttotal: 3.93s\tremaining: 3.14s\n",
      "556:\tlearn: 0.1918559\ttotal: 3.94s\tremaining: 3.13s\n",
      "557:\tlearn: 0.1917844\ttotal: 3.94s\tremaining: 3.12s\n",
      "558:\tlearn: 0.1917129\ttotal: 3.95s\tremaining: 3.12s\n",
      "559:\tlearn: 0.1916041\ttotal: 3.96s\tremaining: 3.11s\n",
      "560:\tlearn: 0.1915191\ttotal: 3.96s\tremaining: 3.1s\n",
      "561:\tlearn: 0.1914312\ttotal: 3.97s\tremaining: 3.09s\n",
      "562:\tlearn: 0.1913734\ttotal: 3.97s\tremaining: 3.08s\n",
      "563:\tlearn: 0.1913297\ttotal: 3.98s\tremaining: 3.08s\n",
      "564:\tlearn: 0.1912636\ttotal: 3.99s\tremaining: 3.07s\n",
      "565:\tlearn: 0.1912135\ttotal: 3.99s\tremaining: 3.06s\n",
      "566:\tlearn: 0.1911437\ttotal: 4s\tremaining: 3.05s\n",
      "567:\tlearn: 0.1910738\ttotal: 4s\tremaining: 3.04s\n",
      "568:\tlearn: 0.1909848\ttotal: 4.01s\tremaining: 3.04s\n",
      "569:\tlearn: 0.1908802\ttotal: 4.02s\tremaining: 3.03s\n",
      "570:\tlearn: 0.1908230\ttotal: 4.02s\tremaining: 3.02s\n",
      "571:\tlearn: 0.1907533\ttotal: 4.03s\tremaining: 3.01s\n",
      "572:\tlearn: 0.1906978\ttotal: 4.03s\tremaining: 3.01s\n",
      "573:\tlearn: 0.1906486\ttotal: 4.04s\tremaining: 3s\n",
      "574:\tlearn: 0.1905824\ttotal: 4.04s\tremaining: 2.99s\n",
      "575:\tlearn: 0.1905022\ttotal: 4.05s\tremaining: 2.98s\n",
      "576:\tlearn: 0.1904094\ttotal: 4.06s\tremaining: 2.98s\n",
      "577:\tlearn: 0.1903472\ttotal: 4.07s\tremaining: 2.97s\n",
      "578:\tlearn: 0.1902880\ttotal: 4.07s\tremaining: 2.96s\n",
      "579:\tlearn: 0.1902286\ttotal: 4.08s\tremaining: 2.95s\n",
      "580:\tlearn: 0.1901660\ttotal: 4.09s\tremaining: 2.95s\n",
      "581:\tlearn: 0.1901230\ttotal: 4.09s\tremaining: 2.94s\n",
      "582:\tlearn: 0.1900458\ttotal: 4.1s\tremaining: 2.93s\n",
      "583:\tlearn: 0.1899537\ttotal: 4.11s\tremaining: 2.93s\n",
      "584:\tlearn: 0.1898624\ttotal: 4.11s\tremaining: 2.92s\n",
      "585:\tlearn: 0.1897773\ttotal: 4.12s\tremaining: 2.91s\n",
      "586:\tlearn: 0.1897333\ttotal: 4.13s\tremaining: 2.9s\n",
      "587:\tlearn: 0.1896812\ttotal: 4.13s\tremaining: 2.9s\n",
      "588:\tlearn: 0.1896096\ttotal: 4.14s\tremaining: 2.89s\n",
      "589:\tlearn: 0.1895367\ttotal: 4.15s\tremaining: 2.88s\n",
      "590:\tlearn: 0.1894707\ttotal: 4.15s\tremaining: 2.87s\n",
      "591:\tlearn: 0.1894178\ttotal: 4.16s\tremaining: 2.87s\n",
      "592:\tlearn: 0.1893331\ttotal: 4.17s\tremaining: 2.86s\n",
      "593:\tlearn: 0.1892665\ttotal: 4.17s\tremaining: 2.85s\n",
      "594:\tlearn: 0.1891893\ttotal: 4.18s\tremaining: 2.85s\n",
      "595:\tlearn: 0.1891327\ttotal: 4.19s\tremaining: 2.84s\n",
      "596:\tlearn: 0.1890672\ttotal: 4.19s\tremaining: 2.83s\n",
      "597:\tlearn: 0.1889850\ttotal: 4.2s\tremaining: 2.82s\n",
      "598:\tlearn: 0.1888846\ttotal: 4.2s\tremaining: 2.81s\n",
      "599:\tlearn: 0.1888194\ttotal: 4.21s\tremaining: 2.81s\n",
      "600:\tlearn: 0.1887446\ttotal: 4.22s\tremaining: 2.8s\n",
      "601:\tlearn: 0.1886634\ttotal: 4.22s\tremaining: 2.79s\n",
      "602:\tlearn: 0.1885865\ttotal: 4.23s\tremaining: 2.78s\n",
      "603:\tlearn: 0.1885247\ttotal: 4.24s\tremaining: 2.78s\n",
      "604:\tlearn: 0.1884197\ttotal: 4.24s\tremaining: 2.77s\n",
      "605:\tlearn: 0.1883376\ttotal: 4.25s\tremaining: 2.76s\n",
      "606:\tlearn: 0.1882642\ttotal: 4.25s\tremaining: 2.75s\n",
      "607:\tlearn: 0.1881779\ttotal: 4.26s\tremaining: 2.75s\n",
      "608:\tlearn: 0.1880914\ttotal: 4.26s\tremaining: 2.74s\n",
      "609:\tlearn: 0.1880405\ttotal: 4.27s\tremaining: 2.73s\n",
      "610:\tlearn: 0.1879694\ttotal: 4.28s\tremaining: 2.72s\n",
      "611:\tlearn: 0.1878995\ttotal: 4.29s\tremaining: 2.72s\n",
      "612:\tlearn: 0.1878325\ttotal: 4.29s\tremaining: 2.71s\n",
      "613:\tlearn: 0.1877692\ttotal: 4.3s\tremaining: 2.7s\n",
      "614:\tlearn: 0.1876888\ttotal: 4.31s\tremaining: 2.7s\n",
      "615:\tlearn: 0.1876304\ttotal: 4.31s\tremaining: 2.69s\n",
      "616:\tlearn: 0.1875907\ttotal: 4.32s\tremaining: 2.68s\n",
      "617:\tlearn: 0.1875502\ttotal: 4.33s\tremaining: 2.67s\n",
      "618:\tlearn: 0.1874927\ttotal: 4.33s\tremaining: 2.67s\n",
      "619:\tlearn: 0.1874515\ttotal: 4.34s\tremaining: 2.66s\n",
      "620:\tlearn: 0.1873646\ttotal: 4.35s\tremaining: 2.65s\n",
      "621:\tlearn: 0.1873072\ttotal: 4.35s\tremaining: 2.65s\n",
      "622:\tlearn: 0.1872381\ttotal: 4.36s\tremaining: 2.64s\n",
      "623:\tlearn: 0.1871756\ttotal: 4.37s\tremaining: 2.63s\n",
      "624:\tlearn: 0.1871018\ttotal: 4.37s\tremaining: 2.62s\n",
      "625:\tlearn: 0.1870354\ttotal: 4.38s\tremaining: 2.62s\n",
      "626:\tlearn: 0.1869757\ttotal: 4.38s\tremaining: 2.61s\n",
      "627:\tlearn: 0.1869338\ttotal: 4.39s\tremaining: 2.6s\n",
      "628:\tlearn: 0.1868527\ttotal: 4.4s\tremaining: 2.59s\n",
      "629:\tlearn: 0.1867730\ttotal: 4.4s\tremaining: 2.58s\n",
      "630:\tlearn: 0.1867127\ttotal: 4.41s\tremaining: 2.58s\n",
      "631:\tlearn: 0.1866529\ttotal: 4.41s\tremaining: 2.57s\n",
      "632:\tlearn: 0.1865743\ttotal: 4.42s\tremaining: 2.56s\n",
      "633:\tlearn: 0.1865210\ttotal: 4.43s\tremaining: 2.56s\n",
      "634:\tlearn: 0.1864595\ttotal: 4.43s\tremaining: 2.55s\n",
      "635:\tlearn: 0.1864130\ttotal: 4.44s\tremaining: 2.54s\n",
      "636:\tlearn: 0.1863387\ttotal: 4.44s\tremaining: 2.53s\n",
      "637:\tlearn: 0.1862821\ttotal: 4.45s\tremaining: 2.52s\n",
      "638:\tlearn: 0.1862246\ttotal: 4.46s\tremaining: 2.52s\n",
      "639:\tlearn: 0.1861790\ttotal: 4.46s\tremaining: 2.51s\n",
      "640:\tlearn: 0.1861273\ttotal: 4.47s\tremaining: 2.5s\n",
      "641:\tlearn: 0.1860483\ttotal: 4.47s\tremaining: 2.5s\n",
      "642:\tlearn: 0.1859758\ttotal: 4.48s\tremaining: 2.49s\n",
      "643:\tlearn: 0.1859159\ttotal: 4.49s\tremaining: 2.48s\n",
      "644:\tlearn: 0.1858573\ttotal: 4.5s\tremaining: 2.47s\n",
      "645:\tlearn: 0.1857912\ttotal: 4.5s\tremaining: 2.47s\n",
      "646:\tlearn: 0.1857445\ttotal: 4.51s\tremaining: 2.46s\n",
      "647:\tlearn: 0.1856508\ttotal: 4.52s\tremaining: 2.45s\n",
      "648:\tlearn: 0.1856057\ttotal: 4.52s\tremaining: 2.45s\n",
      "649:\tlearn: 0.1855307\ttotal: 4.53s\tremaining: 2.44s\n",
      "650:\tlearn: 0.1854757\ttotal: 4.54s\tremaining: 2.43s\n",
      "651:\tlearn: 0.1854379\ttotal: 4.54s\tremaining: 2.42s\n",
      "652:\tlearn: 0.1853758\ttotal: 4.55s\tremaining: 2.42s\n",
      "653:\tlearn: 0.1852901\ttotal: 4.56s\tremaining: 2.41s\n",
      "654:\tlearn: 0.1852333\ttotal: 4.56s\tremaining: 2.4s\n",
      "655:\tlearn: 0.1851671\ttotal: 4.57s\tremaining: 2.4s\n",
      "656:\tlearn: 0.1850755\ttotal: 4.58s\tremaining: 2.39s\n",
      "657:\tlearn: 0.1850292\ttotal: 4.58s\tremaining: 2.38s\n",
      "658:\tlearn: 0.1849168\ttotal: 4.59s\tremaining: 2.37s\n",
      "659:\tlearn: 0.1848785\ttotal: 4.59s\tremaining: 2.37s\n",
      "660:\tlearn: 0.1848291\ttotal: 4.6s\tremaining: 2.36s\n",
      "661:\tlearn: 0.1847609\ttotal: 4.61s\tremaining: 2.35s\n",
      "662:\tlearn: 0.1847236\ttotal: 4.61s\tremaining: 2.34s\n",
      "663:\tlearn: 0.1846840\ttotal: 4.62s\tremaining: 2.34s\n",
      "664:\tlearn: 0.1846116\ttotal: 4.62s\tremaining: 2.33s\n",
      "665:\tlearn: 0.1845476\ttotal: 4.63s\tremaining: 2.32s\n",
      "666:\tlearn: 0.1845062\ttotal: 4.64s\tremaining: 2.31s\n",
      "667:\tlearn: 0.1844216\ttotal: 4.64s\tremaining: 2.31s\n",
      "668:\tlearn: 0.1843575\ttotal: 4.65s\tremaining: 2.3s\n",
      "669:\tlearn: 0.1843150\ttotal: 4.65s\tremaining: 2.29s\n",
      "670:\tlearn: 0.1842444\ttotal: 4.66s\tremaining: 2.28s\n",
      "671:\tlearn: 0.1841891\ttotal: 4.67s\tremaining: 2.28s\n",
      "672:\tlearn: 0.1841332\ttotal: 4.67s\tremaining: 2.27s\n",
      "673:\tlearn: 0.1840839\ttotal: 4.68s\tremaining: 2.26s\n",
      "674:\tlearn: 0.1840485\ttotal: 4.68s\tremaining: 2.25s\n",
      "675:\tlearn: 0.1839955\ttotal: 4.69s\tremaining: 2.25s\n",
      "676:\tlearn: 0.1839364\ttotal: 4.7s\tremaining: 2.24s\n",
      "677:\tlearn: 0.1838754\ttotal: 4.71s\tremaining: 2.23s\n",
      "678:\tlearn: 0.1838139\ttotal: 4.71s\tremaining: 2.23s\n",
      "679:\tlearn: 0.1837766\ttotal: 4.72s\tremaining: 2.22s\n",
      "680:\tlearn: 0.1837087\ttotal: 4.73s\tremaining: 2.21s\n",
      "681:\tlearn: 0.1836553\ttotal: 4.73s\tremaining: 2.21s\n",
      "682:\tlearn: 0.1835959\ttotal: 4.74s\tremaining: 2.2s\n",
      "683:\tlearn: 0.1835474\ttotal: 4.75s\tremaining: 2.19s\n",
      "684:\tlearn: 0.1835082\ttotal: 4.75s\tremaining: 2.19s\n",
      "685:\tlearn: 0.1834640\ttotal: 4.76s\tremaining: 2.18s\n",
      "686:\tlearn: 0.1834155\ttotal: 4.76s\tremaining: 2.17s\n",
      "687:\tlearn: 0.1833540\ttotal: 4.77s\tremaining: 2.16s\n",
      "688:\tlearn: 0.1832748\ttotal: 4.78s\tremaining: 2.16s\n",
      "689:\tlearn: 0.1832221\ttotal: 4.78s\tremaining: 2.15s\n",
      "690:\tlearn: 0.1831848\ttotal: 4.79s\tremaining: 2.14s\n",
      "691:\tlearn: 0.1831241\ttotal: 4.79s\tremaining: 2.13s\n",
      "692:\tlearn: 0.1830549\ttotal: 4.8s\tremaining: 2.13s\n",
      "693:\tlearn: 0.1830173\ttotal: 4.81s\tremaining: 2.12s\n",
      "694:\tlearn: 0.1829561\ttotal: 4.81s\tremaining: 2.11s\n",
      "695:\tlearn: 0.1829014\ttotal: 4.82s\tremaining: 2.1s\n",
      "696:\tlearn: 0.1828252\ttotal: 4.82s\tremaining: 2.1s\n",
      "697:\tlearn: 0.1827616\ttotal: 4.83s\tremaining: 2.09s\n",
      "698:\tlearn: 0.1826959\ttotal: 4.84s\tremaining: 2.08s\n",
      "699:\tlearn: 0.1826381\ttotal: 4.84s\tremaining: 2.08s\n",
      "700:\tlearn: 0.1825885\ttotal: 4.85s\tremaining: 2.07s\n",
      "701:\tlearn: 0.1825318\ttotal: 4.85s\tremaining: 2.06s\n",
      "702:\tlearn: 0.1824704\ttotal: 4.86s\tremaining: 2.05s\n",
      "703:\tlearn: 0.1824384\ttotal: 4.87s\tremaining: 2.04s\n",
      "704:\tlearn: 0.1824018\ttotal: 4.87s\tremaining: 2.04s\n",
      "705:\tlearn: 0.1823392\ttotal: 4.88s\tremaining: 2.03s\n",
      "706:\tlearn: 0.1822608\ttotal: 4.88s\tremaining: 2.02s\n",
      "707:\tlearn: 0.1822075\ttotal: 4.89s\tremaining: 2.02s\n",
      "708:\tlearn: 0.1821669\ttotal: 4.9s\tremaining: 2.01s\n",
      "709:\tlearn: 0.1821007\ttotal: 4.91s\tremaining: 2s\n",
      "710:\tlearn: 0.1820508\ttotal: 4.91s\tremaining: 2s\n",
      "711:\tlearn: 0.1820101\ttotal: 4.92s\tremaining: 1.99s\n",
      "712:\tlearn: 0.1819435\ttotal: 4.93s\tremaining: 1.98s\n",
      "713:\tlearn: 0.1818630\ttotal: 4.93s\tremaining: 1.98s\n",
      "714:\tlearn: 0.1818202\ttotal: 4.94s\tremaining: 1.97s\n",
      "715:\tlearn: 0.1817469\ttotal: 4.95s\tremaining: 1.96s\n",
      "716:\tlearn: 0.1816920\ttotal: 4.95s\tremaining: 1.96s\n",
      "717:\tlearn: 0.1816390\ttotal: 4.96s\tremaining: 1.95s\n",
      "718:\tlearn: 0.1815640\ttotal: 4.97s\tremaining: 1.94s\n",
      "719:\tlearn: 0.1815203\ttotal: 4.97s\tremaining: 1.93s\n",
      "720:\tlearn: 0.1814685\ttotal: 4.98s\tremaining: 1.93s\n",
      "721:\tlearn: 0.1813989\ttotal: 4.99s\tremaining: 1.92s\n",
      "722:\tlearn: 0.1813496\ttotal: 4.99s\tremaining: 1.91s\n",
      "723:\tlearn: 0.1812685\ttotal: 5s\tremaining: 1.91s\n",
      "724:\tlearn: 0.1812104\ttotal: 5s\tremaining: 1.9s\n",
      "725:\tlearn: 0.1811465\ttotal: 5.01s\tremaining: 1.89s\n",
      "726:\tlearn: 0.1810970\ttotal: 5.01s\tremaining: 1.88s\n",
      "727:\tlearn: 0.1810093\ttotal: 5.02s\tremaining: 1.88s\n",
      "728:\tlearn: 0.1809614\ttotal: 5.03s\tremaining: 1.87s\n",
      "729:\tlearn: 0.1809018\ttotal: 5.03s\tremaining: 1.86s\n",
      "730:\tlearn: 0.1808519\ttotal: 5.04s\tremaining: 1.85s\n",
      "731:\tlearn: 0.1808076\ttotal: 5.04s\tremaining: 1.85s\n",
      "732:\tlearn: 0.1807614\ttotal: 5.05s\tremaining: 1.84s\n",
      "733:\tlearn: 0.1807314\ttotal: 5.06s\tremaining: 1.83s\n",
      "734:\tlearn: 0.1806705\ttotal: 5.06s\tremaining: 1.82s\n",
      "735:\tlearn: 0.1806245\ttotal: 5.07s\tremaining: 1.82s\n",
      "736:\tlearn: 0.1805729\ttotal: 5.07s\tremaining: 1.81s\n",
      "737:\tlearn: 0.1804762\ttotal: 5.08s\tremaining: 1.8s\n",
      "738:\tlearn: 0.1803833\ttotal: 5.09s\tremaining: 1.8s\n",
      "739:\tlearn: 0.1803304\ttotal: 5.09s\tremaining: 1.79s\n",
      "740:\tlearn: 0.1802870\ttotal: 5.1s\tremaining: 1.78s\n",
      "741:\tlearn: 0.1802298\ttotal: 5.11s\tremaining: 1.77s\n",
      "742:\tlearn: 0.1801667\ttotal: 5.11s\tremaining: 1.77s\n",
      "743:\tlearn: 0.1801109\ttotal: 5.12s\tremaining: 1.76s\n",
      "744:\tlearn: 0.1800437\ttotal: 5.13s\tremaining: 1.75s\n",
      "745:\tlearn: 0.1799893\ttotal: 5.13s\tremaining: 1.75s\n",
      "746:\tlearn: 0.1798958\ttotal: 5.14s\tremaining: 1.74s\n",
      "747:\tlearn: 0.1798531\ttotal: 5.15s\tremaining: 1.73s\n",
      "748:\tlearn: 0.1798128\ttotal: 5.16s\tremaining: 1.73s\n",
      "749:\tlearn: 0.1797478\ttotal: 5.16s\tremaining: 1.72s\n",
      "750:\tlearn: 0.1797164\ttotal: 5.17s\tremaining: 1.71s\n",
      "751:\tlearn: 0.1796506\ttotal: 5.18s\tremaining: 1.71s\n",
      "752:\tlearn: 0.1795987\ttotal: 5.18s\tremaining: 1.7s\n",
      "753:\tlearn: 0.1795335\ttotal: 5.19s\tremaining: 1.69s\n",
      "754:\tlearn: 0.1794825\ttotal: 5.2s\tremaining: 1.69s\n",
      "755:\tlearn: 0.1794376\ttotal: 5.2s\tremaining: 1.68s\n",
      "756:\tlearn: 0.1793834\ttotal: 5.21s\tremaining: 1.67s\n",
      "757:\tlearn: 0.1793282\ttotal: 5.21s\tremaining: 1.67s\n",
      "758:\tlearn: 0.1792883\ttotal: 5.22s\tremaining: 1.66s\n",
      "759:\tlearn: 0.1792400\ttotal: 5.23s\tremaining: 1.65s\n",
      "760:\tlearn: 0.1791975\ttotal: 5.23s\tremaining: 1.64s\n",
      "761:\tlearn: 0.1791412\ttotal: 5.24s\tremaining: 1.64s\n",
      "762:\tlearn: 0.1791007\ttotal: 5.25s\tremaining: 1.63s\n",
      "763:\tlearn: 0.1790248\ttotal: 5.25s\tremaining: 1.62s\n",
      "764:\tlearn: 0.1789744\ttotal: 5.26s\tremaining: 1.61s\n",
      "765:\tlearn: 0.1789090\ttotal: 5.26s\tremaining: 1.61s\n",
      "766:\tlearn: 0.1788721\ttotal: 5.27s\tremaining: 1.6s\n",
      "767:\tlearn: 0.1788182\ttotal: 5.28s\tremaining: 1.59s\n",
      "768:\tlearn: 0.1787824\ttotal: 5.28s\tremaining: 1.59s\n",
      "769:\tlearn: 0.1787310\ttotal: 5.29s\tremaining: 1.58s\n",
      "770:\tlearn: 0.1786665\ttotal: 5.3s\tremaining: 1.57s\n",
      "771:\tlearn: 0.1786034\ttotal: 5.3s\tremaining: 1.57s\n",
      "772:\tlearn: 0.1785359\ttotal: 5.31s\tremaining: 1.56s\n",
      "773:\tlearn: 0.1784788\ttotal: 5.32s\tremaining: 1.55s\n",
      "774:\tlearn: 0.1784294\ttotal: 5.32s\tremaining: 1.54s\n",
      "775:\tlearn: 0.1784046\ttotal: 5.33s\tremaining: 1.54s\n",
      "776:\tlearn: 0.1783313\ttotal: 5.34s\tremaining: 1.53s\n",
      "777:\tlearn: 0.1782814\ttotal: 5.34s\tremaining: 1.52s\n",
      "778:\tlearn: 0.1782450\ttotal: 5.35s\tremaining: 1.52s\n",
      "779:\tlearn: 0.1782094\ttotal: 5.36s\tremaining: 1.51s\n",
      "780:\tlearn: 0.1781677\ttotal: 5.36s\tremaining: 1.5s\n",
      "781:\tlearn: 0.1781437\ttotal: 5.37s\tremaining: 1.5s\n",
      "782:\tlearn: 0.1780497\ttotal: 5.38s\tremaining: 1.49s\n",
      "783:\tlearn: 0.1780100\ttotal: 5.38s\tremaining: 1.48s\n",
      "784:\tlearn: 0.1779365\ttotal: 5.39s\tremaining: 1.48s\n",
      "785:\tlearn: 0.1778670\ttotal: 5.4s\tremaining: 1.47s\n",
      "786:\tlearn: 0.1778065\ttotal: 5.4s\tremaining: 1.46s\n",
      "787:\tlearn: 0.1777445\ttotal: 5.41s\tremaining: 1.46s\n",
      "788:\tlearn: 0.1776953\ttotal: 5.42s\tremaining: 1.45s\n",
      "789:\tlearn: 0.1776467\ttotal: 5.42s\tremaining: 1.44s\n",
      "790:\tlearn: 0.1775885\ttotal: 5.43s\tremaining: 1.43s\n",
      "791:\tlearn: 0.1775485\ttotal: 5.43s\tremaining: 1.43s\n",
      "792:\tlearn: 0.1774467\ttotal: 5.44s\tremaining: 1.42s\n",
      "793:\tlearn: 0.1773864\ttotal: 5.45s\tremaining: 1.41s\n",
      "794:\tlearn: 0.1773344\ttotal: 5.46s\tremaining: 1.41s\n",
      "795:\tlearn: 0.1772731\ttotal: 5.46s\tremaining: 1.4s\n",
      "796:\tlearn: 0.1772161\ttotal: 5.47s\tremaining: 1.39s\n",
      "797:\tlearn: 0.1771785\ttotal: 5.47s\tremaining: 1.39s\n",
      "798:\tlearn: 0.1771317\ttotal: 5.48s\tremaining: 1.38s\n",
      "799:\tlearn: 0.1770808\ttotal: 5.48s\tremaining: 1.37s\n",
      "800:\tlearn: 0.1770339\ttotal: 5.49s\tremaining: 1.36s\n",
      "801:\tlearn: 0.1769859\ttotal: 5.5s\tremaining: 1.36s\n",
      "802:\tlearn: 0.1769540\ttotal: 5.5s\tremaining: 1.35s\n",
      "803:\tlearn: 0.1768933\ttotal: 5.51s\tremaining: 1.34s\n",
      "804:\tlearn: 0.1768446\ttotal: 5.52s\tremaining: 1.34s\n",
      "805:\tlearn: 0.1767916\ttotal: 5.52s\tremaining: 1.33s\n",
      "806:\tlearn: 0.1767270\ttotal: 5.53s\tremaining: 1.32s\n",
      "807:\tlearn: 0.1766766\ttotal: 5.54s\tremaining: 1.32s\n",
      "808:\tlearn: 0.1766089\ttotal: 5.54s\tremaining: 1.31s\n",
      "809:\tlearn: 0.1765606\ttotal: 5.55s\tremaining: 1.3s\n",
      "810:\tlearn: 0.1765349\ttotal: 5.56s\tremaining: 1.29s\n",
      "811:\tlearn: 0.1764441\ttotal: 5.57s\tremaining: 1.29s\n",
      "812:\tlearn: 0.1763998\ttotal: 5.57s\tremaining: 1.28s\n",
      "813:\tlearn: 0.1763573\ttotal: 5.58s\tremaining: 1.27s\n",
      "814:\tlearn: 0.1763245\ttotal: 5.59s\tremaining: 1.27s\n",
      "815:\tlearn: 0.1762495\ttotal: 5.59s\tremaining: 1.26s\n",
      "816:\tlearn: 0.1762013\ttotal: 5.6s\tremaining: 1.25s\n",
      "817:\tlearn: 0.1761225\ttotal: 5.6s\tremaining: 1.25s\n",
      "818:\tlearn: 0.1760784\ttotal: 5.61s\tremaining: 1.24s\n",
      "819:\tlearn: 0.1760123\ttotal: 5.62s\tremaining: 1.23s\n",
      "820:\tlearn: 0.1759723\ttotal: 5.62s\tremaining: 1.23s\n",
      "821:\tlearn: 0.1759147\ttotal: 5.63s\tremaining: 1.22s\n",
      "822:\tlearn: 0.1758832\ttotal: 5.63s\tremaining: 1.21s\n",
      "823:\tlearn: 0.1758052\ttotal: 5.64s\tremaining: 1.2s\n",
      "824:\tlearn: 0.1757616\ttotal: 5.65s\tremaining: 1.2s\n",
      "825:\tlearn: 0.1757290\ttotal: 5.65s\tremaining: 1.19s\n",
      "826:\tlearn: 0.1756779\ttotal: 5.66s\tremaining: 1.18s\n",
      "827:\tlearn: 0.1756374\ttotal: 5.67s\tremaining: 1.18s\n",
      "828:\tlearn: 0.1755863\ttotal: 5.67s\tremaining: 1.17s\n",
      "829:\tlearn: 0.1755232\ttotal: 5.68s\tremaining: 1.16s\n",
      "830:\tlearn: 0.1754879\ttotal: 5.69s\tremaining: 1.16s\n",
      "831:\tlearn: 0.1754311\ttotal: 5.7s\tremaining: 1.15s\n",
      "832:\tlearn: 0.1753678\ttotal: 5.7s\tremaining: 1.14s\n",
      "833:\tlearn: 0.1753053\ttotal: 5.71s\tremaining: 1.14s\n",
      "834:\tlearn: 0.1752458\ttotal: 5.71s\tremaining: 1.13s\n",
      "835:\tlearn: 0.1751837\ttotal: 5.72s\tremaining: 1.12s\n",
      "836:\tlearn: 0.1751478\ttotal: 5.73s\tremaining: 1.11s\n",
      "837:\tlearn: 0.1750999\ttotal: 5.74s\tremaining: 1.11s\n",
      "838:\tlearn: 0.1750505\ttotal: 5.74s\tremaining: 1.1s\n",
      "839:\tlearn: 0.1750239\ttotal: 5.75s\tremaining: 1.09s\n",
      "840:\tlearn: 0.1749643\ttotal: 5.76s\tremaining: 1.09s\n",
      "841:\tlearn: 0.1748913\ttotal: 5.76s\tremaining: 1.08s\n",
      "842:\tlearn: 0.1748458\ttotal: 5.77s\tremaining: 1.07s\n",
      "843:\tlearn: 0.1748053\ttotal: 5.78s\tremaining: 1.07s\n",
      "844:\tlearn: 0.1747378\ttotal: 5.79s\tremaining: 1.06s\n",
      "845:\tlearn: 0.1747006\ttotal: 5.79s\tremaining: 1.05s\n",
      "846:\tlearn: 0.1746541\ttotal: 5.8s\tremaining: 1.05s\n",
      "847:\tlearn: 0.1746115\ttotal: 5.81s\tremaining: 1.04s\n",
      "848:\tlearn: 0.1745722\ttotal: 5.81s\tremaining: 1.03s\n",
      "849:\tlearn: 0.1745223\ttotal: 5.82s\tremaining: 1.03s\n",
      "850:\tlearn: 0.1744824\ttotal: 5.82s\tremaining: 1.02s\n",
      "851:\tlearn: 0.1744475\ttotal: 5.83s\tremaining: 1.01s\n",
      "852:\tlearn: 0.1743929\ttotal: 5.84s\tremaining: 1s\n",
      "853:\tlearn: 0.1743474\ttotal: 5.84s\tremaining: 999ms\n",
      "854:\tlearn: 0.1742711\ttotal: 5.85s\tremaining: 992ms\n",
      "855:\tlearn: 0.1742194\ttotal: 5.86s\tremaining: 985ms\n",
      "856:\tlearn: 0.1741722\ttotal: 5.86s\tremaining: 978ms\n",
      "857:\tlearn: 0.1741350\ttotal: 5.87s\tremaining: 971ms\n",
      "858:\tlearn: 0.1740886\ttotal: 5.88s\tremaining: 964ms\n",
      "859:\tlearn: 0.1740310\ttotal: 5.88s\tremaining: 957ms\n",
      "860:\tlearn: 0.1739977\ttotal: 5.89s\tremaining: 950ms\n",
      "861:\tlearn: 0.1739408\ttotal: 5.89s\tremaining: 943ms\n",
      "862:\tlearn: 0.1739067\ttotal: 5.9s\tremaining: 936ms\n",
      "863:\tlearn: 0.1738868\ttotal: 5.9s\tremaining: 929ms\n",
      "864:\tlearn: 0.1738360\ttotal: 5.91s\tremaining: 922ms\n",
      "865:\tlearn: 0.1737814\ttotal: 5.92s\tremaining: 915ms\n",
      "866:\tlearn: 0.1737446\ttotal: 5.92s\tremaining: 909ms\n",
      "867:\tlearn: 0.1736648\ttotal: 5.93s\tremaining: 902ms\n",
      "868:\tlearn: 0.1736206\ttotal: 5.94s\tremaining: 895ms\n",
      "869:\tlearn: 0.1735921\ttotal: 5.94s\tremaining: 888ms\n",
      "870:\tlearn: 0.1735372\ttotal: 5.95s\tremaining: 881ms\n",
      "871:\tlearn: 0.1734916\ttotal: 5.96s\tremaining: 875ms\n",
      "872:\tlearn: 0.1734647\ttotal: 5.96s\tremaining: 868ms\n",
      "873:\tlearn: 0.1734107\ttotal: 5.97s\tremaining: 861ms\n",
      "874:\tlearn: 0.1733582\ttotal: 5.98s\tremaining: 854ms\n",
      "875:\tlearn: 0.1733104\ttotal: 5.99s\tremaining: 847ms\n",
      "876:\tlearn: 0.1732406\ttotal: 5.99s\tremaining: 840ms\n",
      "877:\tlearn: 0.1732150\ttotal: 6s\tremaining: 834ms\n",
      "878:\tlearn: 0.1731664\ttotal: 6.01s\tremaining: 827ms\n",
      "879:\tlearn: 0.1731244\ttotal: 6.01s\tremaining: 820ms\n",
      "880:\tlearn: 0.1730846\ttotal: 6.02s\tremaining: 813ms\n",
      "881:\tlearn: 0.1730412\ttotal: 6.03s\tremaining: 806ms\n",
      "882:\tlearn: 0.1730129\ttotal: 6.03s\tremaining: 799ms\n",
      "883:\tlearn: 0.1729730\ttotal: 6.04s\tremaining: 792ms\n",
      "884:\tlearn: 0.1729102\ttotal: 6.04s\tremaining: 785ms\n",
      "885:\tlearn: 0.1728795\ttotal: 6.05s\tremaining: 778ms\n",
      "886:\tlearn: 0.1728180\ttotal: 6.06s\tremaining: 772ms\n",
      "887:\tlearn: 0.1727842\ttotal: 6.06s\tremaining: 765ms\n",
      "888:\tlearn: 0.1727306\ttotal: 6.07s\tremaining: 758ms\n",
      "889:\tlearn: 0.1726948\ttotal: 6.08s\tremaining: 751ms\n",
      "890:\tlearn: 0.1726446\ttotal: 6.08s\tremaining: 744ms\n",
      "891:\tlearn: 0.1725851\ttotal: 6.09s\tremaining: 737ms\n",
      "892:\tlearn: 0.1725411\ttotal: 6.1s\tremaining: 731ms\n",
      "893:\tlearn: 0.1724897\ttotal: 6.11s\tremaining: 724ms\n",
      "894:\tlearn: 0.1724523\ttotal: 6.11s\tremaining: 717ms\n",
      "895:\tlearn: 0.1724206\ttotal: 6.12s\tremaining: 710ms\n",
      "896:\tlearn: 0.1723939\ttotal: 6.13s\tremaining: 703ms\n",
      "897:\tlearn: 0.1723546\ttotal: 6.13s\tremaining: 697ms\n",
      "898:\tlearn: 0.1723248\ttotal: 6.14s\tremaining: 690ms\n",
      "899:\tlearn: 0.1722566\ttotal: 6.15s\tremaining: 683ms\n",
      "900:\tlearn: 0.1721970\ttotal: 6.16s\tremaining: 676ms\n",
      "901:\tlearn: 0.1721449\ttotal: 6.16s\tremaining: 670ms\n",
      "902:\tlearn: 0.1721109\ttotal: 6.17s\tremaining: 663ms\n",
      "903:\tlearn: 0.1720564\ttotal: 6.18s\tremaining: 656ms\n",
      "904:\tlearn: 0.1719983\ttotal: 6.18s\tremaining: 649ms\n",
      "905:\tlearn: 0.1719641\ttotal: 6.19s\tremaining: 642ms\n",
      "906:\tlearn: 0.1719124\ttotal: 6.2s\tremaining: 636ms\n",
      "907:\tlearn: 0.1718562\ttotal: 6.21s\tremaining: 629ms\n",
      "908:\tlearn: 0.1717969\ttotal: 6.21s\tremaining: 622ms\n",
      "909:\tlearn: 0.1717285\ttotal: 6.22s\tremaining: 615ms\n",
      "910:\tlearn: 0.1716858\ttotal: 6.23s\tremaining: 608ms\n",
      "911:\tlearn: 0.1716497\ttotal: 6.23s\tremaining: 601ms\n",
      "912:\tlearn: 0.1716126\ttotal: 6.24s\tremaining: 594ms\n",
      "913:\tlearn: 0.1715661\ttotal: 6.25s\tremaining: 588ms\n",
      "914:\tlearn: 0.1715283\ttotal: 6.25s\tremaining: 581ms\n",
      "915:\tlearn: 0.1714612\ttotal: 6.26s\tremaining: 574ms\n",
      "916:\tlearn: 0.1714227\ttotal: 6.26s\tremaining: 567ms\n",
      "917:\tlearn: 0.1713904\ttotal: 6.27s\tremaining: 560ms\n",
      "918:\tlearn: 0.1713488\ttotal: 6.28s\tremaining: 553ms\n",
      "919:\tlearn: 0.1712984\ttotal: 6.28s\tremaining: 546ms\n",
      "920:\tlearn: 0.1712617\ttotal: 6.29s\tremaining: 539ms\n",
      "921:\tlearn: 0.1712327\ttotal: 6.29s\tremaining: 532ms\n",
      "922:\tlearn: 0.1711789\ttotal: 6.3s\tremaining: 526ms\n",
      "923:\tlearn: 0.1711291\ttotal: 6.3s\tremaining: 519ms\n",
      "924:\tlearn: 0.1711046\ttotal: 6.31s\tremaining: 512ms\n",
      "925:\tlearn: 0.1710608\ttotal: 6.32s\tremaining: 505ms\n",
      "926:\tlearn: 0.1710225\ttotal: 6.32s\tremaining: 498ms\n",
      "927:\tlearn: 0.1709906\ttotal: 6.33s\tremaining: 491ms\n",
      "928:\tlearn: 0.1709360\ttotal: 6.33s\tremaining: 484ms\n",
      "929:\tlearn: 0.1708582\ttotal: 6.34s\tremaining: 477ms\n",
      "930:\tlearn: 0.1708318\ttotal: 6.35s\tremaining: 471ms\n",
      "931:\tlearn: 0.1707966\ttotal: 6.36s\tremaining: 464ms\n",
      "932:\tlearn: 0.1707395\ttotal: 6.36s\tremaining: 457ms\n",
      "933:\tlearn: 0.1707026\ttotal: 6.37s\tremaining: 450ms\n",
      "934:\tlearn: 0.1706534\ttotal: 6.38s\tremaining: 443ms\n",
      "935:\tlearn: 0.1706099\ttotal: 6.38s\tremaining: 437ms\n",
      "936:\tlearn: 0.1705647\ttotal: 6.39s\tremaining: 430ms\n",
      "937:\tlearn: 0.1704934\ttotal: 6.4s\tremaining: 423ms\n",
      "938:\tlearn: 0.1704579\ttotal: 6.41s\tremaining: 416ms\n",
      "939:\tlearn: 0.1704149\ttotal: 6.41s\tremaining: 409ms\n",
      "940:\tlearn: 0.1703595\ttotal: 6.42s\tremaining: 403ms\n",
      "941:\tlearn: 0.1703134\ttotal: 6.42s\tremaining: 396ms\n",
      "942:\tlearn: 0.1702733\ttotal: 6.43s\tremaining: 389ms\n",
      "943:\tlearn: 0.1702255\ttotal: 6.44s\tremaining: 382ms\n",
      "944:\tlearn: 0.1701926\ttotal: 6.44s\tremaining: 375ms\n",
      "945:\tlearn: 0.1701528\ttotal: 6.45s\tremaining: 368ms\n",
      "946:\tlearn: 0.1701006\ttotal: 6.46s\tremaining: 361ms\n",
      "947:\tlearn: 0.1700742\ttotal: 6.46s\tremaining: 355ms\n",
      "948:\tlearn: 0.1700253\ttotal: 6.47s\tremaining: 348ms\n",
      "949:\tlearn: 0.1699849\ttotal: 6.47s\tremaining: 341ms\n",
      "950:\tlearn: 0.1699440\ttotal: 6.48s\tremaining: 334ms\n",
      "951:\tlearn: 0.1698788\ttotal: 6.49s\tremaining: 327ms\n",
      "952:\tlearn: 0.1698344\ttotal: 6.49s\tremaining: 320ms\n",
      "953:\tlearn: 0.1697721\ttotal: 6.5s\tremaining: 313ms\n",
      "954:\tlearn: 0.1697192\ttotal: 6.5s\tremaining: 307ms\n",
      "955:\tlearn: 0.1696820\ttotal: 6.51s\tremaining: 300ms\n",
      "956:\tlearn: 0.1696409\ttotal: 6.52s\tremaining: 293ms\n",
      "957:\tlearn: 0.1696060\ttotal: 6.52s\tremaining: 286ms\n",
      "958:\tlearn: 0.1695521\ttotal: 6.53s\tremaining: 279ms\n",
      "959:\tlearn: 0.1695195\ttotal: 6.54s\tremaining: 272ms\n",
      "960:\tlearn: 0.1694702\ttotal: 6.54s\tremaining: 265ms\n",
      "961:\tlearn: 0.1694301\ttotal: 6.55s\tremaining: 259ms\n",
      "962:\tlearn: 0.1693540\ttotal: 6.55s\tremaining: 252ms\n",
      "963:\tlearn: 0.1693174\ttotal: 6.56s\tremaining: 245ms\n",
      "964:\tlearn: 0.1692722\ttotal: 6.57s\tremaining: 238ms\n",
      "965:\tlearn: 0.1692365\ttotal: 6.58s\tremaining: 231ms\n",
      "966:\tlearn: 0.1692077\ttotal: 6.58s\tremaining: 225ms\n",
      "967:\tlearn: 0.1691588\ttotal: 6.59s\tremaining: 218ms\n",
      "968:\tlearn: 0.1691295\ttotal: 6.6s\tremaining: 211ms\n",
      "969:\tlearn: 0.1690682\ttotal: 6.6s\tremaining: 204ms\n",
      "970:\tlearn: 0.1690413\ttotal: 6.61s\tremaining: 197ms\n",
      "971:\tlearn: 0.1689963\ttotal: 6.62s\tremaining: 191ms\n",
      "972:\tlearn: 0.1689617\ttotal: 6.62s\tremaining: 184ms\n",
      "973:\tlearn: 0.1689216\ttotal: 6.63s\tremaining: 177ms\n",
      "974:\tlearn: 0.1688747\ttotal: 6.64s\tremaining: 170ms\n",
      "975:\tlearn: 0.1688236\ttotal: 6.64s\tremaining: 163ms\n",
      "976:\tlearn: 0.1688042\ttotal: 6.65s\tremaining: 157ms\n",
      "977:\tlearn: 0.1687590\ttotal: 6.65s\tremaining: 150ms\n",
      "978:\tlearn: 0.1687236\ttotal: 6.66s\tremaining: 143ms\n",
      "979:\tlearn: 0.1686865\ttotal: 6.67s\tremaining: 136ms\n",
      "980:\tlearn: 0.1686606\ttotal: 6.67s\tremaining: 129ms\n",
      "981:\tlearn: 0.1686203\ttotal: 6.68s\tremaining: 122ms\n",
      "982:\tlearn: 0.1685288\ttotal: 6.68s\tremaining: 116ms\n",
      "983:\tlearn: 0.1685005\ttotal: 6.69s\tremaining: 109ms\n",
      "984:\tlearn: 0.1684232\ttotal: 6.7s\tremaining: 102ms\n",
      "985:\tlearn: 0.1683892\ttotal: 6.7s\tremaining: 95.2ms\n",
      "986:\tlearn: 0.1683328\ttotal: 6.71s\tremaining: 88.4ms\n",
      "987:\tlearn: 0.1682717\ttotal: 6.71s\tremaining: 81.6ms\n",
      "988:\tlearn: 0.1682295\ttotal: 6.72s\tremaining: 74.8ms\n",
      "989:\tlearn: 0.1681982\ttotal: 6.73s\tremaining: 68ms\n",
      "990:\tlearn: 0.1681658\ttotal: 6.73s\tremaining: 61.1ms\n",
      "991:\tlearn: 0.1681207\ttotal: 6.74s\tremaining: 54.3ms\n",
      "992:\tlearn: 0.1680957\ttotal: 6.74s\tremaining: 47.5ms\n",
      "993:\tlearn: 0.1680575\ttotal: 6.75s\tremaining: 40.7ms\n",
      "994:\tlearn: 0.1680225\ttotal: 6.75s\tremaining: 33.9ms\n",
      "995:\tlearn: 0.1679901\ttotal: 6.76s\tremaining: 27.2ms\n",
      "996:\tlearn: 0.1679590\ttotal: 6.77s\tremaining: 20.4ms\n",
      "997:\tlearn: 0.1678920\ttotal: 6.78s\tremaining: 13.6ms\n",
      "998:\tlearn: 0.1678546\ttotal: 6.78s\tremaining: 6.79ms\n",
      "999:\tlearn: 0.1677973\ttotal: 6.79s\tremaining: 0us\n"
     ]
    }
   ],
   "source": [
    "catboost = CatBoostRegressor()\n",
    "catboost.fit(X_train, y_train)\n",
    "predictions_catboost = catboost.predict(X_test)"
   ]
  },
  {
   "cell_type": "code",
   "execution_count": 33,
   "id": "a221a212-c734-43f3-bb16-6ff4ba0dc771",
   "metadata": {
    "tags": []
   },
   "outputs": [
    {
     "name": "stdout",
     "output_type": "stream",
     "text": [
      "0.2205112504809162 0.8501838416230987\n"
     ]
    }
   ],
   "source": [
    "rmse = np.sqrt(mean_squared_error(y_test, predictions_catboost))\n",
    "r2 = r2_score(y_test, predictions_catboost)\n",
    "print(rmse, r2)"
   ]
  },
  {
   "cell_type": "markdown",
   "id": "0c0e2480-bd7a-43a3-89d3-b63fac02b5c6",
   "metadata": {
    "tags": []
   },
   "source": [
    "## XGBoost"
   ]
  },
  {
   "cell_type": "code",
   "execution_count": 34,
   "id": "8841aa13-d54e-433a-b9ec-edee0898d0e5",
   "metadata": {
    "tags": []
   },
   "outputs": [],
   "source": [
    "from xgboost import XGBRegressor"
   ]
  },
  {
   "cell_type": "code",
   "execution_count": 35,
   "id": "a344f2a2-874c-4f1b-9fe0-4cec157fa95c",
   "metadata": {
    "tags": []
   },
   "outputs": [],
   "source": [
    "xgb = RandomForestRegressor()\n",
    "xgb.fit(X_train, y_train)\n",
    "predictions_xgb = xgb.predict(X_test)"
   ]
  },
  {
   "cell_type": "code",
   "execution_count": 36,
   "id": "91a7a1f9-d409-41e9-9f00-250e82447db6",
   "metadata": {
    "tags": []
   },
   "outputs": [
    {
     "name": "stdout",
     "output_type": "stream",
     "text": [
      "0.23333995668709287 0.8322450367160208\n"
     ]
    }
   ],
   "source": [
    "rmse = np.sqrt(mean_squared_error(y_test, predictions_rf))\n",
    "r2 = r2_score(y_test, predictions_rf)\n",
    "print(rmse, r2)"
   ]
  },
  {
   "cell_type": "markdown",
   "id": "a3ae4b5c-02e1-41cb-b2cd-855ad3543fe6",
   "metadata": {
    "tags": []
   },
   "source": [
    "## LightGBM"
   ]
  },
  {
   "cell_type": "code",
   "execution_count": 37,
   "id": "9b5a1a0d-be30-4efa-b7d1-6e4f6f26886a",
   "metadata": {
    "tags": []
   },
   "outputs": [],
   "source": [
    "from lightgbm import LGBMRegressor"
   ]
  },
  {
   "cell_type": "code",
   "execution_count": 38,
   "id": "85104a9f-5f64-460e-89af-ff259bf23fdf",
   "metadata": {
    "tags": []
   },
   "outputs": [
    {
     "name": "stdout",
     "output_type": "stream",
     "text": [
      "[LightGBM] [Info] Auto-choosing col-wise multi-threading, the overhead of testing was 0.001163 seconds.\n",
      "You can set `force_col_wise=true` to remove the overhead.\n",
      "[LightGBM] [Info] Total Bins 2099\n",
      "[LightGBM] [Info] Number of data points in the train set: 16512, number of used features: 10\n",
      "[LightGBM] [Info] Start training from score 12.086494\n"
     ]
    }
   ],
   "source": [
    "lgb = LGBMRegressor()\n",
    "lgb.fit(X_train, y_train)\n",
    "predictions_lgb = lgb.predict(X_test)"
   ]
  },
  {
   "cell_type": "code",
   "execution_count": 39,
   "id": "0c44da7b-6bc9-4c52-a001-a8e34eb80a4e",
   "metadata": {
    "tags": []
   },
   "outputs": [
    {
     "name": "stdout",
     "output_type": "stream",
     "text": [
      "0.23141697343233006 0.8349986219828225\n"
     ]
    }
   ],
   "source": [
    "rmse = np.sqrt(mean_squared_error(y_test, predictions_lgb))\n",
    "r2 = r2_score(y_test, predictions_lgb)\n",
    "print(rmse, r2)"
   ]
  },
  {
   "cell_type": "code",
   "execution_count": 40,
   "id": "a9c6d81e-790d-4830-969a-dcef8b0874dd",
   "metadata": {
    "tags": []
   },
   "outputs": [],
   "source": [
    "final_predictions = ( ##앙상블\n",
    "    0.25 + predictions_rf +\n",
    "    0.25 + predictions_catboost +\n",
    "    0.25 + predictions_xgb + \n",
    "    0.25 + predictions_lgb\n",
    ")"
   ]
  },
  {
   "cell_type": "code",
   "execution_count": 41,
   "id": "5a73c481-7b0a-4856-bb30-382930164462",
   "metadata": {
    "tags": []
   },
   "outputs": [
    {
     "name": "stdout",
     "output_type": "stream",
     "text": [
      "37.2730496465929 -4279.426144402504\n"
     ]
    }
   ],
   "source": [
    "rmse = np.sqrt(mean_squared_error(y_test, final_predictions))\n",
    "r2 = r2_score(y_test, final_predictions)\n",
    "print(rmse, r2)"
   ]
  }
 ],
 "metadata": {
  "kernelspec": {
   "display_name": "Python 3 (ipykernel)",
   "language": "python",
   "name": "python3"
  },
  "language_info": {
   "codemirror_mode": {
    "name": "ipython",
    "version": 3
   },
   "file_extension": ".py",
   "mimetype": "text/x-python",
   "name": "python",
   "nbconvert_exporter": "python",
   "pygments_lexer": "ipython3",
   "version": "3.11.5"
  }
 },
 "nbformat": 4,
 "nbformat_minor": 5
}
