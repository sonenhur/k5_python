{
  "nbformat": 4,
  "nbformat_minor": 0,
  "metadata": {
    "colab": {
      "provenance": [],
      "authorship_tag": "ABX9TyPBpNSF+34pWtRvTKCxHrMu",
      "include_colab_link": true
    },
    "kernelspec": {
      "name": "python3",
      "display_name": "Python 3"
    },
    "language_info": {
      "name": "python"
    }
  },
  "cells": [
    {
      "cell_type": "markdown",
      "metadata": {
        "id": "view-in-github",
        "colab_type": "text"
      },
      "source": [
        "<a href=\"https://colab.research.google.com/github/sonenhur/k5_python/blob/main/%ED%8C%8C%EC%9D%B4%EC%8D%AC6.ipynb\" target=\"_parent\"><img src=\"https://colab.research.google.com/assets/colab-badge.svg\" alt=\"Open In Colab\"/></a>"
      ]
    },
    {
      "cell_type": "code",
      "execution_count": null,
      "metadata": {
        "id": "Dgi2UfABA2Wg"
      },
      "outputs": [],
      "source": [
        "# 클래스: 핸드폰 설계도\n",
        "\n",
        "# 인스턴스(객체) : 각 개인의 핸드폰\n",
        "# 인스턴스 변수 :  각 핸드폰의 데이터\n",
        "# 인스턴스 메서드 : 전화 걸기, 음악 재생\n",
        "# 클래스 변수 :\n",
        "# 클래스 메서드 :"
      ]
    },
    {
      "cell_type": "code",
      "source": [
        "class Rectangle:\n",
        "  count = 0\n",
        "  def __init__(self, w, h):\n",
        "    self.width = w\n",
        "    self.height = h\n",
        "    Rectangle.count += 1\n",
        "\n",
        "  def area(self):\n",
        "    result = self.width = self.height\n",
        "    return result\n",
        "\n",
        "  @classmethod\n",
        "  def print_count(cls):\n",
        "    print(cls.count)\n",
        "\n",
        "Rectangle.print_count()\n",
        "r1 = Rectangle(3,4)\n",
        "Rectangle.print_count()\n",
        "\n",
        "r2 = Rectangle(10,20)\n",
        "Rectangle.print_count()\n",
        "\n",
        "print(r1.area())\n",
        "r2.area()"
      ],
      "metadata": {
        "colab": {
          "base_uri": "https://localhost:8080/"
        },
        "id": "nyixvgbWC9EM",
        "outputId": "9cd09d62-726c-42dd-8c69-50408dfbe000"
      },
      "execution_count": null,
      "outputs": [
        {
          "output_type": "stream",
          "name": "stdout",
          "text": [
            "0\n",
            "1\n",
            "2\n",
            "4\n"
          ]
        },
        {
          "output_type": "execute_result",
          "data": {
            "text/plain": [
              "20"
            ]
          },
          "metadata": {},
          "execution_count": 11
        }
      ]
    },
    {
      "cell_type": "code",
      "source": [
        "# 예제의 Teacher 클래스에서 People 클래스의 __init__()를 호출하지 않고 부모 클래스의 age, name 인스턴스 변수를 이용할 수 있는가? 이용할 수 없다면 그 이유는? 이용할 수 있게 하려면 프로그램을 어떻게 수정해야 하는가?\n",
        "\n"
      ],
      "metadata": {
        "id": "CQD3tcuEJZuS"
      },
      "execution_count": null,
      "outputs": []
    }
  ]
}