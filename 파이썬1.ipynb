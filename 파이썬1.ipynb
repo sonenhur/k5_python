{
  "nbformat": 4,
  "nbformat_minor": 0,
  "metadata": {
    "colab": {
      "provenance": [],
      "authorship_tag": "ABX9TyNdFDjIxJWcKGAX/edxMKYw",
      "include_colab_link": true
    },
    "kernelspec": {
      "name": "python3",
      "display_name": "Python 3"
    },
    "language_info": {
      "name": "python"
    }
  },
  "cells": [
    {
      "cell_type": "markdown",
      "metadata": {
        "id": "view-in-github",
        "colab_type": "text"
      },
      "source": [
        "<a href=\"https://colab.research.google.com/github/sonenhur/k5_python/blob/main/%ED%8C%8C%EC%9D%B4%EC%8D%AC1.ipynb\" target=\"_parent\"><img src=\"https://colab.research.google.com/assets/colab-badge.svg\" alt=\"Open In Colab\"/></a>"
      ]
    },
    {
      "cell_type": "markdown",
      "source": [
        "# 코렙 파이썬 개발 환경입니다.\n",
        "\n",
        "# : 1. 제일 큰 제목\n",
        "## : 1.1. 하나 작은 제목\n",
        "### : 1.1.1. 더 작은 제목\n",
        "\n",
        "- 리스트 1\n",
        "- 리스트 2\n",
        "- 리스트 3\n",
        "\n",
        " - 들여쓰기 리스트\n",
        "\n",
        "> 인용구문\n",
        "\n",
        "1. 번호 리스트 1\n",
        "2. 번호 리스트 2\n",
        "3. 번호 리스트 3"
      ],
      "metadata": {
        "id": "l5uEPThWDqus"
      }
    },
    {
      "cell_type": "code",
      "source": [
        "x = 10 # 여기는 주석입니다.\n",
        "\n",
        "''' 여기는\n",
        "여러줄\n",
        "주석입니다. '''\n",
        "\n",
        "\"\"\" 여기도\n",
        "여러줄\n",
        "주석입니다 \"\"\"\n",
        "\n",
        "y = 20\n",
        "z = x + y\n",
        "print(z)\n"
      ],
      "metadata": {
        "id": "Fqa1KnwRE_6K"
      },
      "execution_count": null,
      "outputs": []
    },
    {
      "cell_type": "code",
      "source": [
        "import keyword\n",
        "\n",
        "print(keyword.kwlist)"
      ],
      "metadata": {
        "colab": {
          "base_uri": "https://localhost:8080/"
        },
        "id": "mpqMAlFZGN2C",
        "outputId": "9435e1f9-b3c5-4f9c-b1e6-631824abef01"
      },
      "execution_count": null,
      "outputs": [
        {
          "output_type": "stream",
          "name": "stdout",
          "text": [
            "['False', 'None', 'True', 'and', 'as', 'assert', 'async', 'await', 'break', 'class', 'continue', 'def', 'del', 'elif', 'else', 'except', 'finally', 'for', 'from', 'global', 'if', 'import', 'in', 'is', 'lambda', 'nonlocal', 'not', 'or', 'pass', 'raise', 'return', 'try', 'while', 'with', 'yield']\n"
          ]
        }
      ]
    },
    {
      "cell_type": "code",
      "source": [
        "10 / 7"
      ],
      "metadata": {
        "colab": {
          "base_uri": "https://localhost:8080/"
        },
        "id": "kUyYETdePXq1",
        "outputId": "c3205180-0e3a-4149-d13d-b6b610090d8d"
      },
      "execution_count": null,
      "outputs": [
        {
          "output_type": "execute_result",
          "data": {
            "text/plain": [
              "1.4285714285714286"
            ]
          },
          "metadata": {},
          "execution_count": 18
        }
      ]
    },
    {
      "cell_type": "code",
      "source": [
        "10 % 7 #나머지를 구하는 연산"
      ],
      "metadata": {
        "colab": {
          "base_uri": "https://localhost:8080/"
        },
        "id": "yNHinxrnPk4M",
        "outputId": "3d05bf4f-5529-433f-ba74-b244edcd7429"
      },
      "execution_count": null,
      "outputs": [
        {
          "output_type": "execute_result",
          "data": {
            "text/plain": [
              "3"
            ]
          },
          "metadata": {},
          "execution_count": 19
        }
      ]
    },
    {
      "cell_type": "code",
      "source": [
        "10 // 7 #몫을 구하는 연산"
      ],
      "metadata": {
        "colab": {
          "base_uri": "https://localhost:8080/"
        },
        "id": "xvVmoZUXPm9c",
        "outputId": "e1fa393f-989c-4cc3-f7de-fbba92efea76"
      },
      "execution_count": null,
      "outputs": [
        {
          "output_type": "execute_result",
          "data": {
            "text/plain": [
              "1"
            ]
          },
          "metadata": {},
          "execution_count": 20
        }
      ]
    },
    {
      "cell_type": "code",
      "source": [
        "10 ** 7 #거듭제곱"
      ],
      "metadata": {
        "colab": {
          "base_uri": "https://localhost:8080/"
        },
        "id": "CsqSKWVUPp2l",
        "outputId": "ec4511e1-16d1-409f-9bc2-207aa1ba6a1e"
      },
      "execution_count": null,
      "outputs": [
        {
          "output_type": "execute_result",
          "data": {
            "text/plain": [
              "10000000"
            ]
          },
          "metadata": {},
          "execution_count": 22
        }
      ]
    },
    {
      "cell_type": "code",
      "source": [
        "x = \"hello world~!\"\n",
        "\n",
        "print(\"h\" in x)\n",
        "print(\"X\" in x)\n",
        "print(\" \" in x)"
      ],
      "metadata": {
        "colab": {
          "base_uri": "https://localhost:8080/"
        },
        "id": "1QtBwWo7QPRW",
        "outputId": "04394641-8ad5-44b7-df57-b4b1ba3d4010"
      },
      "execution_count": null,
      "outputs": [
        {
          "output_type": "stream",
          "name": "stdout",
          "text": [
            "True\n",
            "False\n",
            "True\n"
          ]
        }
      ]
    },
    {
      "cell_type": "code",
      "source": [
        "a = [1,2,3]\n",
        "b = [1,2,3]\n",
        "c = a\n",
        "\n",
        "print(a is b)\n",
        "print(a is not b)\n",
        "print(a is c)\n",
        "print(b is not c)\n",
        "\n",
        "#메모리상에서 a와 b가 가리키는 데이터셋은 다름"
      ],
      "metadata": {
        "colab": {
          "base_uri": "https://localhost:8080/"
        },
        "id": "aErEk5TfS7Ga",
        "outputId": "367a8976-2f78-41d9-f200-98a618a411ee"
      },
      "execution_count": null,
      "outputs": [
        {
          "output_type": "stream",
          "name": "stdout",
          "text": [
            "False\n",
            "True\n",
            "True\n",
            "True\n"
          ]
        }
      ]
    },
    {
      "cell_type": "code",
      "source": [
        "num = 10\n",
        "x = \"num = %d\" % num\n",
        "print(x)"
      ],
      "metadata": {
        "colab": {
          "base_uri": "https://localhost:8080/"
        },
        "id": "DO2EjjwwUNwC",
        "outputId": "eb0eea12-7732-4233-a61b-30173410905f"
      },
      "execution_count": null,
      "outputs": [
        {
          "output_type": "stream",
          "name": "stdout",
          "text": [
            "num = 10\n"
          ]
        }
      ]
    },
    {
      "cell_type": "code",
      "source": [
        "num = 10\n",
        "pi = 3.141592\n",
        "print(\"num = %d\" % num)\n",
        "print(\"pi = %10.3f\" % pi)\n",
        "print(\"pi = %2f\" % pi)"
      ],
      "metadata": {
        "colab": {
          "base_uri": "https://localhost:8080/"
        },
        "id": "H_RJRvFAVLqi",
        "outputId": "54309b5c-682b-4ad3-fc56-17a27816c7e4"
      },
      "execution_count": null,
      "outputs": [
        {
          "output_type": "stream",
          "name": "stdout",
          "text": [
            "num = 10\n",
            "pi =      3.142\n",
            "pi = 3.141592\n"
          ]
        }
      ]
    },
    {
      "cell_type": "code",
      "source": [
        "name = \"John\"\n",
        "print(\"Hello, %s!\" %name)"
      ],
      "metadata": {
        "colab": {
          "base_uri": "https://localhost:8080/"
        },
        "id": "RhiiYU4dUsfK",
        "outputId": "6838f09e-a28d-4247-851b-de8d84702d5d"
      },
      "execution_count": null,
      "outputs": [
        {
          "output_type": "stream",
          "name": "stdout",
          "text": [
            "Hello, John!\n"
          ]
        }
      ]
    },
    {
      "cell_type": "code",
      "source": [
        "pi = 3.14159\n",
        "print(\"Pi is approximately %.2f.\" % pi)"
      ],
      "metadata": {
        "colab": {
          "base_uri": "https://localhost:8080/"
        },
        "id": "feP5FW6dWiPR",
        "outputId": "06ef6031-98e6-4a66-feb5-55b8b3def90a"
      },
      "execution_count": null,
      "outputs": [
        {
          "output_type": "stream",
          "name": "stdout",
          "text": [
            "Pi is approximately 3.14.\n"
          ]
        }
      ]
    },
    {
      "cell_type": "code",
      "source": [
        "name = \"John\"\n",
        "age = 30\n",
        "height = 175.5\n",
        "\n",
        "print(\"My name is {0}, I'm {1} years old, and my height is {2:.2f}.\".format(name, age, height))\n",
        "# 출력 결과: \"My name is John, I'm 30 years old, and my height is 175.5.\""
      ],
      "metadata": {
        "colab": {
          "base_uri": "https://localhost:8080/"
        },
        "id": "GoS4GPXyXrBA",
        "outputId": "f7ebe5fd-a8b8-4718-cd90-4bb61702f1e8"
      },
      "execution_count": null,
      "outputs": [
        {
          "output_type": "stream",
          "name": "stdout",
          "text": [
            "My name is John, I'm 30 years old, and my height is 175.50.\n"
          ]
        }
      ]
    },
    {
      "cell_type": "code",
      "source": [
        "# f-string을 이용한 문자열 포매팅\n",
        "name = \"John\"\n",
        "age = 30\n",
        "height = 175.5\n",
        "\n",
        "print(f\"My name is {name}, I'm {age} years old, and my height is {height:.1f}.\")\n",
        "# 출력 결과: \"My name is John, I'm 30 years old, and my height is 175.5.\"\n"
      ],
      "metadata": {
        "id": "SlhRvw2LZRnv"
      },
      "execution_count": null,
      "outputs": []
    },
    {
      "cell_type": "code",
      "source": [
        "# My name is Tom and I am 20 years old.\n",
        "\n",
        "name = \"Tom\"\n",
        "age = 20\n",
        "print(f\"My name is {name} and I am {age} years old.\")"
      ],
      "metadata": {
        "colab": {
          "base_uri": "https://localhost:8080/"
        },
        "id": "P49nJP4haJog",
        "outputId": "2907bd07-d2ea-44e3-d282-5d752bb97d76"
      },
      "execution_count": null,
      "outputs": [
        {
          "output_type": "stream",
          "name": "stdout",
          "text": [
            "My name is Tom and I am 20 years old.\n"
          ]
        }
      ]
    },
    {
      "cell_type": "code",
      "source": [
        "name = \"Tom\"\n",
        "age = 20\n",
        "print(\"My name is {} and I am {} years old.\".format(name, age))"
      ],
      "metadata": {
        "colab": {
          "base_uri": "https://localhost:8080/"
        },
        "id": "EWdGUD8JanIP",
        "outputId": "050f5a97-f26f-407f-dee4-bdd29017949a"
      },
      "execution_count": null,
      "outputs": [
        {
          "output_type": "stream",
          "name": "stdout",
          "text": [
            "My name is Tom and I am 20 years old.\n"
          ]
        }
      ]
    },
    {
      "cell_type": "code",
      "source": [
        "name = \"Tom\"\n",
        "age = 20\n",
        "print(\"My name is %s  and I am %d  years old.\" % (name, age))"
      ],
      "metadata": {
        "colab": {
          "base_uri": "https://localhost:8080/"
        },
        "id": "yQFRpRlsazoF",
        "outputId": "a1689e16-559b-43c0-cbcc-a78ca99a9496"
      },
      "execution_count": null,
      "outputs": [
        {
          "output_type": "stream",
          "name": "stdout",
          "text": [
            "My name is Tom  and I am 20  years old.\n"
          ]
        }
      ]
    },
    {
      "cell_type": "code",
      "source": [
        "name = input(\"이름?\")\n",
        "f\"내 이름은 {name}입니다.\""
      ],
      "metadata": {
        "colab": {
          "base_uri": "https://localhost:8080/",
          "height": 54
        },
        "id": "djUFuHbockAG",
        "outputId": "4be406c0-983f-4dc9-b4fd-10997ceb184f"
      },
      "execution_count": null,
      "outputs": [
        {
          "name": "stdout",
          "output_type": "stream",
          "text": [
            "이름?허선행\n"
          ]
        },
        {
          "output_type": "execute_result",
          "data": {
            "text/plain": [
              "'내 이름은 허선행입니다.'"
            ],
            "application/vnd.google.colaboratory.intrinsic+json": {
              "type": "string"
            }
          },
          "metadata": {},
          "execution_count": 65
        }
      ]
    },
    {
      "cell_type": "code",
      "source": [
        "A = input(\"a:\")\n",
        "B = input(\"b:\")\n",
        "A+B #문자열로 받아들임"
      ],
      "metadata": {
        "colab": {
          "base_uri": "https://localhost:8080/",
          "height": 72
        },
        "id": "pLO10Jf3cq-W",
        "outputId": "5e5aa2e7-1491-4f9f-b406-7896e18f5cee"
      },
      "execution_count": null,
      "outputs": [
        {
          "name": "stdout",
          "output_type": "stream",
          "text": [
            "a:10\n",
            "b:20\n"
          ]
        },
        {
          "output_type": "execute_result",
          "data": {
            "text/plain": [
              "'1020'"
            ],
            "application/vnd.google.colaboratory.intrinsic+json": {
              "type": "string"
            }
          },
          "metadata": {},
          "execution_count": 66
        }
      ]
    },
    {
      "cell_type": "code",
      "source": [
        "A = input(\"a:\")\n",
        "B = input(\"b:\")\n",
        "int(A)+int(B)"
      ],
      "metadata": {
        "colab": {
          "base_uri": "https://localhost:8080/"
        },
        "id": "4WZja9XTdZVe",
        "outputId": "e9b9f1de-83e7-4e1e-d657-b32172f0271e"
      },
      "execution_count": null,
      "outputs": [
        {
          "name": "stdout",
          "output_type": "stream",
          "text": [
            "a:10\n",
            "b:20\n"
          ]
        },
        {
          "output_type": "execute_result",
          "data": {
            "text/plain": [
              "30"
            ]
          },
          "metadata": {},
          "execution_count": 67
        }
      ]
    },
    {
      "cell_type": "code",
      "source": [
        "# input() 함수를 이용하여 사용자로부터 입력받아 계산하기\n",
        "A = int(input(\"첫 번째 정수를 입력하세요: \"))\n",
        "B = int(input(\"두 번째 정수를 입력하세요: \"))\n",
        "A * B"
      ],
      "metadata": {
        "colab": {
          "base_uri": "https://localhost:8080/"
        },
        "id": "NsX2Ca6Td2ZF",
        "outputId": "0ef846c6-558f-42bb-96df-1caff3933cf3"
      },
      "execution_count": null,
      "outputs": [
        {
          "name": "stdout",
          "output_type": "stream",
          "text": [
            "첫 번째 정수를 입력하세요: 10\n",
            "두 번째 정수를 입력하세요: 20\n"
          ]
        },
        {
          "output_type": "execute_result",
          "data": {
            "text/plain": [
              "200"
            ]
          },
          "metadata": {},
          "execution_count": 70
        }
      ]
    },
    {
      "cell_type": "markdown",
      "source": [
        "초를 입력하면 분과 초로 표시하는 프로그램. 예를 들어, 200초를 입력하면 3분 20초로 표현하라\n"
      ],
      "metadata": {
        "id": "eNxXxxY1oLpp"
      }
    },
    {
      "cell_type": "code",
      "source": [
        "A = int(input(\"초를 입력하세요.\")) # 나누기 60\n",
        "나누기 = A // 60\n",
        "나머지 = A % 60\n",
        "\n",
        "print((f\"{나누기}\") + \"분 \" + (f\"{나머지}\")+\"초\")"
      ],
      "metadata": {
        "colab": {
          "base_uri": "https://localhost:8080/"
        },
        "id": "zQQiCi7rd8LM",
        "outputId": "5962d88b-a764-489a-f69a-c14a367b7ce4"
      },
      "execution_count": null,
      "outputs": [
        {
          "output_type": "stream",
          "name": "stdout",
          "text": [
            "초를 입력하세요.200\n",
            "3분 20초\n"
          ]
        }
      ]
    },
    {
      "cell_type": "markdown",
      "source": [
        "분(min)을 입력 하면, 일, 시간, 분으로 출력하는 프로그램을 만들어라. (예 : 1550분은 1일 1시간 50분)"
      ],
      "metadata": {
        "id": "3Br07vxnoSqI"
      }
    },
    {
      "cell_type": "code",
      "source": [
        "A = int(input(\"분을 입력하세요.\"))\n",
        "day = A // (24*60)\n",
        "hour = A // 60 %24\n",
        "min = A % 60\n",
        "print((f\"{day}\") + \"일\" + (f\"{hour}\")+ \"시간\" + (f\"{min}\")+ \"분\")"
      ],
      "metadata": {
        "colab": {
          "base_uri": "https://localhost:8080/"
        },
        "id": "vRPaa-VCjLZ6",
        "outputId": "8fb7b854-a54e-4747-e236-5346d5f3671a"
      },
      "execution_count": null,
      "outputs": [
        {
          "output_type": "stream",
          "name": "stdout",
          "text": [
            "분을 입력하세요.1550\n",
            "1일1시간50분\n"
          ]
        }
      ]
    },
    {
      "cell_type": "markdown",
      "source": [
        "500만원을 년이율 5%로 복리 저금했을 때 5년 후의 원리금의 합계를 출력하는 프로그램"
      ],
      "metadata": {
        "id": "tAJj5qevoWR5"
      }
    },
    {
      "cell_type": "code",
      "source": [
        "원금 = 5000000\n",
        "이율 = 0.05\n",
        "년 = 5\n",
        "\n",
        "총액 = 원금 * (1+이율) **년\n",
        "print(f\"총액: {총액:.0f}원.\")"
      ],
      "metadata": {
        "colab": {
          "base_uri": "https://localhost:8080/"
        },
        "id": "iSgbDJ0Jke6T",
        "outputId": "9596e5e6-e2ce-469e-f1ae-b15ed9dd18de"
      },
      "execution_count": null,
      "outputs": [
        {
          "output_type": "stream",
          "name": "stdout",
          "text": [
            "총액: 6381408원.\n"
          ]
        }
      ]
    },
    {
      "cell_type": "code",
      "source": [],
      "metadata": {
        "id": "07UpZJ1zogPf"
      },
      "execution_count": null,
      "outputs": []
    },
    {
      "cell_type": "markdown",
      "source": [
        "1부터 n까지의 합은 n(n+1)/2로 주어진다.\n",
        "1부터 100까지의 합을 구하여 출력하는 프로그램을 작성하고 실행하라."
      ],
      "metadata": {
        "id": "q16wIRs1oZ83"
      }
    },
    {
      "cell_type": "code",
      "source": [
        "n = int(input(\"원하는 숫자를 입력(100): \"))\n",
        "sum = n * (n+1) / 2\n",
        "print(f\"{sum :.0f}\")"
      ],
      "metadata": {
        "colab": {
          "base_uri": "https://localhost:8080/"
        },
        "id": "5ME3mGO2k_b6",
        "outputId": "5ff0ae1e-af6c-4442-da77-a9cd4358b524"
      },
      "execution_count": null,
      "outputs": [
        {
          "output_type": "stream",
          "name": "stdout",
          "text": [
            "원하는 숫자를 입력(100): 100\n",
            "5050\n"
          ]
        }
      ]
    },
    {
      "cell_type": "markdown",
      "source": [
        "판매자가 딸기와 포도를 판매하고 있다. 포도 한 알의 무게는 75g이고 딸기 한 알의 무게는 113.5g이다.\n",
        "사용자로부터 포도 알의 개수와 딸기의 개수를 입력 받아 총 무게를 계산하여 출력하는 프로그램을 작성하고 실행하라."
      ],
      "metadata": {
        "id": "0e13zwCTobjA"
      }
    },
    {
      "cell_type": "code",
      "source": [
        "grape = float(input(\"포도 갯수: \"))\n",
        "berry = float(input(\"딸기 갯수: \"))\n",
        "\n",
        "print (f\"{grape*75 + berry*113.5}g\")"
      ],
      "metadata": {
        "colab": {
          "base_uri": "https://localhost:8080/"
        },
        "id": "6XAyNu1_ldso",
        "outputId": "4c891505-7238-4f1b-a091-57ab237410cb"
      },
      "execution_count": null,
      "outputs": [
        {
          "output_type": "stream",
          "name": "stdout",
          "text": [
            "포도 갯수: 5\n",
            "딸기 갯수: 10\n",
            "1510.0g\n"
          ]
        }
      ]
    },
    {
      "cell_type": "code",
      "source": [],
      "metadata": {
        "id": "JMInHuWxmFYZ"
      },
      "execution_count": null,
      "outputs": []
    },
    {
      "cell_type": "markdown",
      "source": [],
      "metadata": {
        "id": "2dhPyNkloh3I"
      }
    }
  ]
}