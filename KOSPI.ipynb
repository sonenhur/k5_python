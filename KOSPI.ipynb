{
 "cells": [
  {
   "cell_type": "markdown",
   "id": "86363e44-7d8b-410d-a3c7-ad99cb096325",
   "metadata": {},
   "source": [
    "# KOSPI는 다른 차트의 변동성과 어떤 연관이 있을까?"
   ]
  },
  {
   "cell_type": "markdown",
   "id": "9f9fe271-82d0-4ea1-9607-3eb4cc226414",
   "metadata": {
    "tags": []
   },
   "source": [
    "## 데이터 가져오기"
   ]
  },
  {
   "cell_type": "code",
   "execution_count": null,
   "id": "a61c25d8-43c0-4616-b2e0-7234ec51d59a",
   "metadata": {
    "tags": []
   },
   "outputs": [],
   "source": [
    "# !pip install finance-datareader"
   ]
  },
  {
   "cell_type": "code",
   "execution_count": null,
   "id": "49f81827-6040-4a0a-b12c-f38e0738ea0d",
   "metadata": {
    "tags": []
   },
   "outputs": [],
   "source": [
    "#프리셋처럼 그냥 통으로 때려박아놓기\n",
    "import pandas as pd\n",
    "import numpy as np\n",
    "import matplotlib.pyplot as plt\n",
    "import koreanize_matplotlib\n",
    "import seaborn as sns\n",
    "from sklearn.cluster import KMeans, DBSCAN\n",
    "\n",
    "import FinanceDataReader as fdr"
   ]
  },
  {
   "cell_type": "code",
   "execution_count": null,
   "id": "d1bccd96-1a60-4d72-b3b3-00854bb72d52",
   "metadata": {},
   "outputs": [],
   "source": [
    "kospi = fdr.DataReader('KS11')\n",
    "kospi[\"Change\"] = kospi[\"Change\"] * 100\n",
    "kospi.drop([\"Open\", \"High\", \"Low\", \"Close\", \"Volume\", \"UpDown\", \"Comp\", \"Amount\", \"MarCap\"], axis=1, inplace=True)\n",
    "kospi.rename(columns={\"Change\" : \"KOSPI change\"}, inplace=True)"
   ]
  },
  {
   "cell_type": "code",
   "execution_count": null,
   "id": "8cb22ee7-4fd3-4d3b-8cff-81ee05ed9895",
   "metadata": {
    "tags": []
   },
   "outputs": [],
   "source": [
    "kospi.head(1)"
   ]
  },
  {
   "cell_type": "code",
   "execution_count": null,
   "id": "06b27a84-311c-4a87-9b63-2942bcaf4b85",
   "metadata": {},
   "outputs": [],
   "source": [
    "sp500 = fdr.DataReader('S&P500', \"2001-06-08\")\n",
    "sp500[\"Change\"] = round(sp500[\"Adj Close\"].pct_change() * 100, 2)\n",
    "sp500.drop([\"Open\", \"High\", \"Low\", \"Close\", \"Adj Close\", \"Volume\"], axis=1, inplace=True)\n",
    "sp500.drop(\"2001-06-08\", axis=0, inplace=True)\n",
    "sp500.rename(columns={\"Change\" : \"S&P500 change\"}, inplace=True)"
   ]
  },
  {
   "cell_type": "code",
   "execution_count": null,
   "id": "05402962-3414-480a-955e-ed4390260367",
   "metadata": {},
   "outputs": [],
   "source": [
    "sp500.head(1)"
   ]
  },
  {
   "cell_type": "code",
   "execution_count": null,
   "id": "a3a65beb-6188-488a-8c0f-6f4452af03d8",
   "metadata": {},
   "outputs": [],
   "source": [
    "japan = fdr.DataReader('N225', \"2001-06-08\")\n",
    "japan[\"Change\"] = round(japan[\"Adj Close\"].pct_change() * 100, 2)\n",
    "japan.drop([\"Open\", \"High\", \"Low\", \"Close\", \"Adj Close\", \"Volume\"], axis=1, inplace=True)\n",
    "japan.drop(\"2001-06-08\", axis=0, inplace=True)\n",
    "japan.rename(columns={\"Change\" : \"Nikkei change\"}, inplace=True)"
   ]
  },
  {
   "cell_type": "code",
   "execution_count": null,
   "id": "f3fc83ae-4e63-42bc-a49e-d03b7779cffb",
   "metadata": {},
   "outputs": [],
   "source": [
    "japan.head(1)"
   ]
  },
  {
   "cell_type": "code",
   "execution_count": null,
   "id": "065e6c49-77cf-4010-a61f-35d1241b054f",
   "metadata": {},
   "outputs": [],
   "source": [
    "dollar = fdr.DataReader('USD/KRW', \"2001-06-08\")\n",
    "dollar[\"Change\"] = round(dollar[\"Adj Close\"].pct_change() * 100, 2)\n",
    "dollar.drop([\"Open\", \"High\", \"Low\", \"Close\", \"Adj Close\", \"Volume\"], axis=1, inplace=True)\n",
    "dollar.rename(columns={\"Change\" : \"USD/KRW\"}, inplace=True)"
   ]
  },
  {
   "cell_type": "code",
   "execution_count": null,
   "id": "25f59c46-d2ef-405d-a61d-89f22f37e40c",
   "metadata": {},
   "outputs": [],
   "source": [
    "dollar.head(1)"
   ]
  },
  {
   "cell_type": "code",
   "execution_count": null,
   "id": "d0b742c8-a4a7-4b65-b569-7f66ded41b24",
   "metadata": {},
   "outputs": [],
   "source": [
    "us10 = fdr.DataReader('US10YT', \"2001-06-08\")\n",
    "us10[\"Change\"] = round(us10[\"Adj Close\"].pct_change() * 100, 2)\n",
    "us10.drop([\"Open\", \"High\", \"Low\", \"Close\", \"Adj Close\", \"Volume\"], axis=1, inplace=True)\n",
    "us10.drop(\"2001-06-08\", axis=0, inplace=True)\n",
    "us10.drop(\"2001-06-10\", axis=0, inplace=True)\n",
    "us10.rename(columns={\"Change\" : \"US 10y change\"}, inplace=True)"
   ]
  },
  {
   "cell_type": "code",
   "execution_count": null,
   "id": "ec5668f0-ab6e-4a6a-aa5a-5a2fe819628c",
   "metadata": {},
   "outputs": [],
   "source": [
    "us10.head(1)"
   ]
  },
  {
   "cell_type": "code",
   "execution_count": null,
   "id": "83b5be6a-8974-4bc7-addc-53ef3b7fe8a9",
   "metadata": {},
   "outputs": [],
   "source": [
    "nasdaq = fdr.DataReader(\"IXIC\", \"2001-06-08\")\n",
    "nasdaq[\"Change\"] = round(nasdaq[\"Adj Close\"].pct_change() * 100, 2)\n",
    "nasdaq.drop([\"Open\", \"High\", \"Low\", \"Close\", \"Adj Close\", \"Volume\"], axis=1, inplace=True)\n",
    "nasdaq.drop(\"2001-06-08\", axis=0, inplace=True)\n",
    "nasdaq.rename(columns={\"Change\" : \"NASDAQ change\"}, inplace=True)"
   ]
  },
  {
   "cell_type": "code",
   "execution_count": null,
   "id": "a3752af5-96ca-4695-b3b8-5a028c9a5fda",
   "metadata": {
    "tags": []
   },
   "outputs": [],
   "source": [
    "nasdaq"
   ]
  },
  {
   "cell_type": "markdown",
   "id": "2c204da9-760e-48b1-aea7-ed8c64766cf4",
   "metadata": {
    "tags": []
   },
   "source": [
    "## 병합"
   ]
  },
  {
   "cell_type": "code",
   "execution_count": null,
   "id": "7437e10b-c223-4f20-922f-a338f7062ecd",
   "metadata": {
    "tags": []
   },
   "outputs": [],
   "source": [
    "df = pd.concat([kospi, sp500, japan, dollar, us10, nasdaq], axis=1)\n",
    "df.drop(\"2024-01-24\",axis=0, inplace=True)\n",
    "\n",
    "#날짜가 없는 NaN을 어떻게 할 것인가?\n",
    "#평균값을 구해서 때려넣기\n",
    "df.fillna(df.mean(), inplace=True)\n",
    "df = round(df,2) #DataFrame인 df의 모든 값을 소수점 둘째 자리까지 반올림"
   ]
  },
  {
   "cell_type": "code",
   "execution_count": null,
   "id": "48f8da3a-908e-440f-bcbe-618ba1fa7fff",
   "metadata": {
    "tags": []
   },
   "outputs": [],
   "source": [
    "df"
   ]
  },
  {
   "cell_type": "markdown",
   "id": "274c4e59-aac5-437a-9f0a-7242779643e4",
   "metadata": {
    "tags": []
   },
   "source": [
    "## K-Mean을 사용한 군집 분류"
   ]
  },
  {
   "cell_type": "code",
   "execution_count": null,
   "id": "21004de3-7f1f-4b23-b720-4e5f389c1f80",
   "metadata": {
    "tags": []
   },
   "outputs": [],
   "source": [
    "X = df[[\"S&P500 change\",\"Nikkei change\",\"USD/KRW\",\"US 10y change\",\"NASDAQ change\"]]\n",
    "y = df[\"KOSPI change\"]"
   ]
  },
  {
   "cell_type": "code",
   "execution_count": null,
   "id": "bcc5b278-7916-412a-a0ad-08a01b3be10d",
   "metadata": {
    "tags": []
   },
   "outputs": [],
   "source": [
    "inertias = []\n",
    "for k in range(1,10):\n",
    "    model = KMeans(n_clusters=k, random_state=42)\n",
    "    model.fit(X)\n",
    "    inertias.append(model.inertia_)"
   ]
  },
  {
   "cell_type": "code",
   "execution_count": null,
   "id": "8f702ec9-dd7c-477b-abdb-f1647f24c3eb",
   "metadata": {
    "tags": []
   },
   "outputs": [],
   "source": [
    "plt.plot(range(1,10), inertias, '-o')\n",
    "plt.xlabel(\"클러스터 갯수\")\n",
    "plt.ylabel(\"inertias\")\n",
    "plt.xticks(range(1,10))\n",
    "plt.show()"
   ]
  },
  {
   "cell_type": "code",
   "execution_count": null,
   "id": "0f6978e0-fa04-494e-93d4-f05462d7bfbe",
   "metadata": {
    "tags": []
   },
   "outputs": [],
   "source": [
    "#K=3을 잡아보자!\n",
    "kmeans = KMeans(n_clusters=3, random_state=42)\n",
    "kmeans.fit(X)\n",
    "y_kmeans = kmeans.predict(X)"
   ]
  },
  {
   "cell_type": "code",
   "execution_count": null,
   "id": "9b7d2144-9bbd-44b7-8646-4da17e8bb3f1",
   "metadata": {
    "tags": []
   },
   "outputs": [],
   "source": [
    "y_kmeans"
   ]
  },
  {
   "cell_type": "code",
   "execution_count": null,
   "id": "2b38d40d-f5f3-4d81-9bf2-87802e92a2cb",
   "metadata": {
    "tags": []
   },
   "outputs": [],
   "source": [
    "from sklearn.manifold import TSNE #차원 축소"
   ]
  },
  {
   "cell_type": "code",
   "execution_count": null,
   "id": "dd5997ac-084e-43a6-a6a7-d8f75df0efee",
   "metadata": {
    "tags": []
   },
   "outputs": [],
   "source": [
    "n_sne = X.shape[0]\n",
    "tsne = TSNE(n_components=2) #2차원에 도식화\n",
    "tsne_results = tsne.fit_transform(X)"
   ]
  },
  {
   "cell_type": "code",
   "execution_count": null,
   "id": "4b64d521-eeea-422e-9d47-5a3e59a55fa0",
   "metadata": {
    "tags": []
   },
   "outputs": [],
   "source": [
    "# plt.scatter(tsne_results[:,0], tsne_results[:,1], c=y_kmeans, cmap=\"plasma\")\n",
    "sns.scatterplot(x=tsne_results[:,0], y=tsne_results[:,1], data=y, hue=y_kmeans)"
   ]
  },
  {
   "cell_type": "code",
   "execution_count": null,
   "id": "a314903b-40eb-47ab-bc44-15c4c0a2e878",
   "metadata": {},
   "outputs": [],
   "source": []
  }
 ],
 "metadata": {
  "kernelspec": {
   "display_name": "Python 3 (ipykernel)",
   "language": "python",
   "name": "python3"
  },
  "language_info": {
   "codemirror_mode": {
    "name": "ipython",
    "version": 3
   },
   "file_extension": ".py",
   "mimetype": "text/x-python",
   "name": "python",
   "nbconvert_exporter": "python",
   "pygments_lexer": "ipython3",
   "version": "3.11.5"
  }
 },
 "nbformat": 4,
 "nbformat_minor": 5
}
