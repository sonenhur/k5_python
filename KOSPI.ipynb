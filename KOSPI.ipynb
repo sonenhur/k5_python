{
 "cells": [
  {
   "cell_type": "markdown",
   "id": "86363e44-7d8b-410d-a3c7-ad99cb096325",
   "metadata": {},
   "source": [
    "# KOSPI는 다른 차트의 변동성과 어떤 연관이 있을까?"
   ]
  },
  {
   "cell_type": "code",
   "execution_count": 1,
   "id": "a61c25d8-43c0-4616-b2e0-7234ec51d59a",
   "metadata": {
    "tags": []
   },
   "outputs": [],
   "source": [
    "# !pip install finance-datareader"
   ]
  },
  {
   "cell_type": "code",
   "execution_count": 2,
   "id": "49f81827-6040-4a0a-b12c-f38e0738ea0d",
   "metadata": {
    "tags": []
   },
   "outputs": [],
   "source": [
    "import pandas as pd"
   ]
  },
  {
   "cell_type": "code",
   "execution_count": 3,
   "id": "ac58040d-7481-470a-9cf2-079a1752d0e9",
   "metadata": {
    "tags": []
   },
   "outputs": [],
   "source": [
    "import FinanceDataReader as fdr"
   ]
  },
  {
   "cell_type": "code",
   "execution_count": 4,
   "id": "d1bccd96-1a60-4d72-b3b3-00854bb72d52",
   "metadata": {},
   "outputs": [],
   "source": [
    "kospi = fdr.DataReader('KS11')\n",
    "kospi[\"Change\"] = kospi[\"Change\"] * 100\n",
    "kospi.drop([\"Open\", \"High\", \"Low\", \"Close\", \"Volume\", \"UpDown\", \"Comp\", \"Amount\", \"MarCap\"], axis=1, inplace=True)\n",
    "kospi.rename(columns={\"Change\" : \"KOSPI change\"}, inplace=True)"
   ]
  },
  {
   "cell_type": "code",
   "execution_count": 5,
   "id": "8cb22ee7-4fd3-4d3b-8cff-81ee05ed9895",
   "metadata": {
    "tags": []
   },
   "outputs": [
    {
     "data": {
      "text/html": [
       "<div>\n",
       "<style scoped>\n",
       "    .dataframe tbody tr th:only-of-type {\n",
       "        vertical-align: middle;\n",
       "    }\n",
       "\n",
       "    .dataframe tbody tr th {\n",
       "        vertical-align: top;\n",
       "    }\n",
       "\n",
       "    .dataframe thead th {\n",
       "        text-align: right;\n",
       "    }\n",
       "</style>\n",
       "<table border=\"1\" class=\"dataframe\">\n",
       "  <thead>\n",
       "    <tr style=\"text-align: right;\">\n",
       "      <th></th>\n",
       "      <th>KOSPI change</th>\n",
       "    </tr>\n",
       "    <tr>\n",
       "      <th>Date</th>\n",
       "      <th></th>\n",
       "    </tr>\n",
       "  </thead>\n",
       "  <tbody>\n",
       "    <tr>\n",
       "      <th>2001-06-11</th>\n",
       "      <td>-2.18</td>\n",
       "    </tr>\n",
       "  </tbody>\n",
       "</table>\n",
       "</div>"
      ],
      "text/plain": [
       "            KOSPI change\n",
       "Date                    \n",
       "2001-06-11         -2.18"
      ]
     },
     "execution_count": 5,
     "metadata": {},
     "output_type": "execute_result"
    }
   ],
   "source": [
    "kospi.head(1)"
   ]
  },
  {
   "cell_type": "code",
   "execution_count": 6,
   "id": "06b27a84-311c-4a87-9b63-2942bcaf4b85",
   "metadata": {},
   "outputs": [],
   "source": [
    "sp500 = fdr.DataReader('S&P500', \"2001-06-08\")\n",
    "sp500[\"Change\"] = round(sp500[\"Adj Close\"].pct_change() * 100, 2)\n",
    "sp500.drop([\"Open\", \"High\", \"Low\", \"Close\", \"Adj Close\", \"Volume\"], axis=1, inplace=True)\n",
    "sp500.drop(\"2001-06-08\", axis=0, inplace=True)\n",
    "sp500.rename(columns={\"Change\" : \"S&P500 change\"}, inplace=True)"
   ]
  },
  {
   "cell_type": "code",
   "execution_count": 7,
   "id": "05402962-3414-480a-955e-ed4390260367",
   "metadata": {},
   "outputs": [
    {
     "data": {
      "text/html": [
       "<div>\n",
       "<style scoped>\n",
       "    .dataframe tbody tr th:only-of-type {\n",
       "        vertical-align: middle;\n",
       "    }\n",
       "\n",
       "    .dataframe tbody tr th {\n",
       "        vertical-align: top;\n",
       "    }\n",
       "\n",
       "    .dataframe thead th {\n",
       "        text-align: right;\n",
       "    }\n",
       "</style>\n",
       "<table border=\"1\" class=\"dataframe\">\n",
       "  <thead>\n",
       "    <tr style=\"text-align: right;\">\n",
       "      <th></th>\n",
       "      <th>S&amp;P500 change</th>\n",
       "    </tr>\n",
       "    <tr>\n",
       "      <th>Date</th>\n",
       "      <th></th>\n",
       "    </tr>\n",
       "  </thead>\n",
       "  <tbody>\n",
       "    <tr>\n",
       "      <th>2001-06-11</th>\n",
       "      <td>-0.84</td>\n",
       "    </tr>\n",
       "  </tbody>\n",
       "</table>\n",
       "</div>"
      ],
      "text/plain": [
       "            S&P500 change\n",
       "Date                     \n",
       "2001-06-11          -0.84"
      ]
     },
     "execution_count": 7,
     "metadata": {},
     "output_type": "execute_result"
    }
   ],
   "source": [
    "sp500.head(1)"
   ]
  },
  {
   "cell_type": "code",
   "execution_count": 8,
   "id": "a3a65beb-6188-488a-8c0f-6f4452af03d8",
   "metadata": {},
   "outputs": [],
   "source": [
    "japan = fdr.DataReader('N225', \"2001-06-08\")\n",
    "japan[\"Change\"] = round(japan[\"Adj Close\"].pct_change() * 100, 2)\n",
    "japan.drop([\"Open\", \"High\", \"Low\", \"Close\", \"Adj Close\", \"Volume\"], axis=1, inplace=True)\n",
    "japan.drop(\"2001-06-08\", axis=0, inplace=True)\n",
    "japan.rename(columns={\"Change\" : \"Nikkei change\"}, inplace=True)"
   ]
  },
  {
   "cell_type": "code",
   "execution_count": 9,
   "id": "f3fc83ae-4e63-42bc-a49e-d03b7779cffb",
   "metadata": {},
   "outputs": [
    {
     "data": {
      "text/html": [
       "<div>\n",
       "<style scoped>\n",
       "    .dataframe tbody tr th:only-of-type {\n",
       "        vertical-align: middle;\n",
       "    }\n",
       "\n",
       "    .dataframe tbody tr th {\n",
       "        vertical-align: top;\n",
       "    }\n",
       "\n",
       "    .dataframe thead th {\n",
       "        text-align: right;\n",
       "    }\n",
       "</style>\n",
       "<table border=\"1\" class=\"dataframe\">\n",
       "  <thead>\n",
       "    <tr style=\"text-align: right;\">\n",
       "      <th></th>\n",
       "      <th>Nikkei change</th>\n",
       "    </tr>\n",
       "    <tr>\n",
       "      <th>Date</th>\n",
       "      <th></th>\n",
       "    </tr>\n",
       "  </thead>\n",
       "  <tbody>\n",
       "    <tr>\n",
       "      <th>2001-06-11</th>\n",
       "      <td>-1.52</td>\n",
       "    </tr>\n",
       "  </tbody>\n",
       "</table>\n",
       "</div>"
      ],
      "text/plain": [
       "            Nikkei change\n",
       "Date                     \n",
       "2001-06-11          -1.52"
      ]
     },
     "execution_count": 9,
     "metadata": {},
     "output_type": "execute_result"
    }
   ],
   "source": [
    "japan.head(1)"
   ]
  },
  {
   "cell_type": "code",
   "execution_count": 10,
   "id": "065e6c49-77cf-4010-a61f-35d1241b054f",
   "metadata": {},
   "outputs": [],
   "source": [
    "dollar = fdr.DataReader('USD/KRW', \"2001-06-08\")\n",
    "dollar[\"Change\"] = round(dollar[\"Adj Close\"].pct_change() * 100, 2)\n",
    "dollar.drop([\"Open\", \"High\", \"Low\", \"Close\", \"Adj Close\", \"Volume\"], axis=1, inplace=True)\n",
    "dollar.rename(columns={\"Change\" : \"USD/KRW\"}, inplace=True)"
   ]
  },
  {
   "cell_type": "code",
   "execution_count": 11,
   "id": "25f59c46-d2ef-405d-a61d-89f22f37e40c",
   "metadata": {},
   "outputs": [
    {
     "data": {
      "text/html": [
       "<div>\n",
       "<style scoped>\n",
       "    .dataframe tbody tr th:only-of-type {\n",
       "        vertical-align: middle;\n",
       "    }\n",
       "\n",
       "    .dataframe tbody tr th {\n",
       "        vertical-align: top;\n",
       "    }\n",
       "\n",
       "    .dataframe thead th {\n",
       "        text-align: right;\n",
       "    }\n",
       "</style>\n",
       "<table border=\"1\" class=\"dataframe\">\n",
       "  <thead>\n",
       "    <tr style=\"text-align: right;\">\n",
       "      <th></th>\n",
       "      <th>USD/KRW</th>\n",
       "    </tr>\n",
       "    <tr>\n",
       "      <th>Date</th>\n",
       "      <th></th>\n",
       "    </tr>\n",
       "  </thead>\n",
       "  <tbody>\n",
       "    <tr>\n",
       "      <th>2003-12-01</th>\n",
       "      <td>NaN</td>\n",
       "    </tr>\n",
       "  </tbody>\n",
       "</table>\n",
       "</div>"
      ],
      "text/plain": [
       "            USD/KRW\n",
       "Date               \n",
       "2003-12-01      NaN"
      ]
     },
     "execution_count": 11,
     "metadata": {},
     "output_type": "execute_result"
    }
   ],
   "source": [
    "dollar.head(1)"
   ]
  },
  {
   "cell_type": "code",
   "execution_count": 12,
   "id": "d0b742c8-a4a7-4b65-b569-7f66ded41b24",
   "metadata": {},
   "outputs": [],
   "source": [
    "us10 = fdr.DataReader('US10YT', \"2001-06-08\")\n",
    "us10[\"Change\"] = round(us10[\"Adj Close\"].pct_change() * 100, 2)\n",
    "us10.drop([\"Open\", \"High\", \"Low\", \"Close\", \"Adj Close\", \"Volume\"], axis=1, inplace=True)\n",
    "us10.drop(\"2001-06-08\", axis=0, inplace=True)\n",
    "us10.drop(\"2001-06-10\", axis=0, inplace=True)\n",
    "us10.rename(columns={\"Change\" : \"US 10y change\"}, inplace=True)"
   ]
  },
  {
   "cell_type": "code",
   "execution_count": 13,
   "id": "ec5668f0-ab6e-4a6a-aa5a-5a2fe819628c",
   "metadata": {},
   "outputs": [
    {
     "data": {
      "text/html": [
       "<div>\n",
       "<style scoped>\n",
       "    .dataframe tbody tr th:only-of-type {\n",
       "        vertical-align: middle;\n",
       "    }\n",
       "\n",
       "    .dataframe tbody tr th {\n",
       "        vertical-align: top;\n",
       "    }\n",
       "\n",
       "    .dataframe thead th {\n",
       "        text-align: right;\n",
       "    }\n",
       "</style>\n",
       "<table border=\"1\" class=\"dataframe\">\n",
       "  <thead>\n",
       "    <tr style=\"text-align: right;\">\n",
       "      <th></th>\n",
       "      <th>US 10y change</th>\n",
       "    </tr>\n",
       "    <tr>\n",
       "      <th>Date</th>\n",
       "      <th></th>\n",
       "    </tr>\n",
       "  </thead>\n",
       "  <tbody>\n",
       "    <tr>\n",
       "      <th>2001-06-11</th>\n",
       "      <td>-0.86</td>\n",
       "    </tr>\n",
       "  </tbody>\n",
       "</table>\n",
       "</div>"
      ],
      "text/plain": [
       "            US 10y change\n",
       "Date                     \n",
       "2001-06-11          -0.86"
      ]
     },
     "execution_count": 13,
     "metadata": {},
     "output_type": "execute_result"
    }
   ],
   "source": [
    "us10.head(1)"
   ]
  },
  {
   "cell_type": "code",
   "execution_count": 14,
   "id": "83b5be6a-8974-4bc7-addc-53ef3b7fe8a9",
   "metadata": {},
   "outputs": [],
   "source": [
    "nasdaq = fdr.DataReader(\"IXIC\", \"2001-06-08\")\n",
    "nasdaq[\"Change\"] = round(nasdaq[\"Adj Close\"].pct_change() * 100, 2)\n",
    "nasdaq.drop([\"Open\", \"High\", \"Low\", \"Close\", \"Adj Close\", \"Volume\"], axis=1, inplace=True)\n",
    "nasdaq.drop(\"2001-06-08\", axis=0, inplace=True)\n",
    "nasdaq.rename(columns={\"Change\" : \"NASDAQ change\"}, inplace=True)"
   ]
  },
  {
   "cell_type": "code",
   "execution_count": 15,
   "id": "a3752af5-96ca-4695-b3b8-5a028c9a5fda",
   "metadata": {
    "tags": []
   },
   "outputs": [
    {
     "data": {
      "text/html": [
       "<div>\n",
       "<style scoped>\n",
       "    .dataframe tbody tr th:only-of-type {\n",
       "        vertical-align: middle;\n",
       "    }\n",
       "\n",
       "    .dataframe tbody tr th {\n",
       "        vertical-align: top;\n",
       "    }\n",
       "\n",
       "    .dataframe thead th {\n",
       "        text-align: right;\n",
       "    }\n",
       "</style>\n",
       "<table border=\"1\" class=\"dataframe\">\n",
       "  <thead>\n",
       "    <tr style=\"text-align: right;\">\n",
       "      <th></th>\n",
       "      <th>NASDAQ change</th>\n",
       "    </tr>\n",
       "    <tr>\n",
       "      <th>Date</th>\n",
       "      <th></th>\n",
       "    </tr>\n",
       "  </thead>\n",
       "  <tbody>\n",
       "    <tr>\n",
       "      <th>2001-06-11</th>\n",
       "      <td>-2.00</td>\n",
       "    </tr>\n",
       "    <tr>\n",
       "      <th>2001-06-12</th>\n",
       "      <td>-0.04</td>\n",
       "    </tr>\n",
       "    <tr>\n",
       "      <th>2001-06-13</th>\n",
       "      <td>-2.23</td>\n",
       "    </tr>\n",
       "    <tr>\n",
       "      <th>2001-06-14</th>\n",
       "      <td>-3.66</td>\n",
       "    </tr>\n",
       "    <tr>\n",
       "      <th>2001-06-15</th>\n",
       "      <td>-0.77</td>\n",
       "    </tr>\n",
       "    <tr>\n",
       "      <th>...</th>\n",
       "      <td>...</td>\n",
       "    </tr>\n",
       "    <tr>\n",
       "      <th>2024-01-17</th>\n",
       "      <td>-0.59</td>\n",
       "    </tr>\n",
       "    <tr>\n",
       "      <th>2024-01-18</th>\n",
       "      <td>1.35</td>\n",
       "    </tr>\n",
       "    <tr>\n",
       "      <th>2024-01-19</th>\n",
       "      <td>1.70</td>\n",
       "    </tr>\n",
       "    <tr>\n",
       "      <th>2024-01-22</th>\n",
       "      <td>0.32</td>\n",
       "    </tr>\n",
       "    <tr>\n",
       "      <th>2024-01-23</th>\n",
       "      <td>0.43</td>\n",
       "    </tr>\n",
       "  </tbody>\n",
       "</table>\n",
       "<p>5690 rows × 1 columns</p>\n",
       "</div>"
      ],
      "text/plain": [
       "            NASDAQ change\n",
       "Date                     \n",
       "2001-06-11          -2.00\n",
       "2001-06-12          -0.04\n",
       "2001-06-13          -2.23\n",
       "2001-06-14          -3.66\n",
       "2001-06-15          -0.77\n",
       "...                   ...\n",
       "2024-01-17          -0.59\n",
       "2024-01-18           1.35\n",
       "2024-01-19           1.70\n",
       "2024-01-22           0.32\n",
       "2024-01-23           0.43\n",
       "\n",
       "[5690 rows x 1 columns]"
      ]
     },
     "execution_count": 15,
     "metadata": {},
     "output_type": "execute_result"
    }
   ],
   "source": [
    "nasdaq"
   ]
  },
  {
   "cell_type": "code",
   "execution_count": 16,
   "id": "7437e10b-c223-4f20-922f-a338f7062ecd",
   "metadata": {
    "tags": []
   },
   "outputs": [],
   "source": [
    "df = pd.concat([kospi, sp500, japan, dollar, us10, nasdaq], axis=1)\n",
    "df.drop(\"2024-01-24\",axis=0, inplace=True)"
   ]
  },
  {
   "cell_type": "code",
   "execution_count": 17,
   "id": "cd2c55d7-2ea5-48aa-bcb1-ec8ae8047e0e",
   "metadata": {
    "tags": []
   },
   "outputs": [],
   "source": [
    "#날짜가 없는 NaN을 어떻게 할 것인가?\n",
    "#평균값을 구해서 때려넣기"
   ]
  },
  {
   "cell_type": "code",
   "execution_count": 18,
   "id": "7a438de9-db1a-45e7-aee6-5a6288f024b2",
   "metadata": {
    "tags": []
   },
   "outputs": [],
   "source": [
    "df.fillna(df.mean(), inplace=True)\n",
    "df = round(df,2)\n",
    "# df = round(df, 2)은 DataFrame인 df의 모든 값을 소수점 둘째 자리까지 반올림"
   ]
  },
  {
   "cell_type": "code",
   "execution_count": 19,
   "id": "48f8da3a-908e-440f-bcbe-618ba1fa7fff",
   "metadata": {
    "tags": []
   },
   "outputs": [
    {
     "data": {
      "text/html": [
       "<div>\n",
       "<style scoped>\n",
       "    .dataframe tbody tr th:only-of-type {\n",
       "        vertical-align: middle;\n",
       "    }\n",
       "\n",
       "    .dataframe tbody tr th {\n",
       "        vertical-align: top;\n",
       "    }\n",
       "\n",
       "    .dataframe thead th {\n",
       "        text-align: right;\n",
       "    }\n",
       "</style>\n",
       "<table border=\"1\" class=\"dataframe\">\n",
       "  <thead>\n",
       "    <tr style=\"text-align: right;\">\n",
       "      <th></th>\n",
       "      <th>KOSPI change</th>\n",
       "      <th>S&amp;P500 change</th>\n",
       "      <th>Nikkei change</th>\n",
       "      <th>USD/KRW</th>\n",
       "      <th>US 10y change</th>\n",
       "      <th>NASDAQ change</th>\n",
       "    </tr>\n",
       "    <tr>\n",
       "      <th>Date</th>\n",
       "      <th></th>\n",
       "      <th></th>\n",
       "      <th></th>\n",
       "      <th></th>\n",
       "      <th></th>\n",
       "      <th></th>\n",
       "    </tr>\n",
       "  </thead>\n",
       "  <tbody>\n",
       "    <tr>\n",
       "      <th>2001-06-11</th>\n",
       "      <td>-2.18</td>\n",
       "      <td>-0.84</td>\n",
       "      <td>-1.52</td>\n",
       "      <td>0.01</td>\n",
       "      <td>-0.86</td>\n",
       "      <td>-2.00</td>\n",
       "    </tr>\n",
       "    <tr>\n",
       "      <th>2001-06-12</th>\n",
       "      <td>-0.18</td>\n",
       "      <td>0.12</td>\n",
       "      <td>-2.92</td>\n",
       "      <td>0.01</td>\n",
       "      <td>-0.89</td>\n",
       "      <td>-0.04</td>\n",
       "    </tr>\n",
       "    <tr>\n",
       "      <th>2001-06-13</th>\n",
       "      <td>1.14</td>\n",
       "      <td>-1.13</td>\n",
       "      <td>-0.13</td>\n",
       "      <td>0.01</td>\n",
       "      <td>0.32</td>\n",
       "      <td>-2.23</td>\n",
       "    </tr>\n",
       "    <tr>\n",
       "      <th>2001-06-14</th>\n",
       "      <td>-0.05</td>\n",
       "      <td>-1.75</td>\n",
       "      <td>0.18</td>\n",
       "      <td>0.01</td>\n",
       "      <td>-0.80</td>\n",
       "      <td>-3.66</td>\n",
       "    </tr>\n",
       "    <tr>\n",
       "      <th>2001-06-15</th>\n",
       "      <td>0.85</td>\n",
       "      <td>-0.45</td>\n",
       "      <td>-0.44</td>\n",
       "      <td>0.01</td>\n",
       "      <td>0.25</td>\n",
       "      <td>-0.77</td>\n",
       "    </tr>\n",
       "    <tr>\n",
       "      <th>...</th>\n",
       "      <td>...</td>\n",
       "      <td>...</td>\n",
       "      <td>...</td>\n",
       "      <td>...</td>\n",
       "      <td>...</td>\n",
       "      <td>...</td>\n",
       "    </tr>\n",
       "    <tr>\n",
       "      <th>2024-01-18</th>\n",
       "      <td>0.17</td>\n",
       "      <td>0.88</td>\n",
       "      <td>-0.03</td>\n",
       "      <td>0.47</td>\n",
       "      <td>0.93</td>\n",
       "      <td>1.35</td>\n",
       "    </tr>\n",
       "    <tr>\n",
       "      <th>2024-01-19</th>\n",
       "      <td>1.34</td>\n",
       "      <td>1.23</td>\n",
       "      <td>1.40</td>\n",
       "      <td>-0.48</td>\n",
       "      <td>0.05</td>\n",
       "      <td>1.70</td>\n",
       "    </tr>\n",
       "    <tr>\n",
       "      <th>2024-01-21</th>\n",
       "      <td>0.03</td>\n",
       "      <td>0.03</td>\n",
       "      <td>0.03</td>\n",
       "      <td>0.01</td>\n",
       "      <td>0.00</td>\n",
       "      <td>0.04</td>\n",
       "    </tr>\n",
       "    <tr>\n",
       "      <th>2024-01-22</th>\n",
       "      <td>-0.34</td>\n",
       "      <td>0.22</td>\n",
       "      <td>1.62</td>\n",
       "      <td>-0.33</td>\n",
       "      <td>-1.25</td>\n",
       "      <td>0.32</td>\n",
       "    </tr>\n",
       "    <tr>\n",
       "      <th>2024-01-23</th>\n",
       "      <td>0.58</td>\n",
       "      <td>0.29</td>\n",
       "      <td>-0.08</td>\n",
       "      <td>0.41</td>\n",
       "      <td>1.17</td>\n",
       "      <td>0.43</td>\n",
       "    </tr>\n",
       "  </tbody>\n",
       "</table>\n",
       "<p>7082 rows × 6 columns</p>\n",
       "</div>"
      ],
      "text/plain": [
       "            KOSPI change  S&P500 change  Nikkei change  USD/KRW  \\\n",
       "Date                                                              \n",
       "2001-06-11         -2.18          -0.84          -1.52     0.01   \n",
       "2001-06-12         -0.18           0.12          -2.92     0.01   \n",
       "2001-06-13          1.14          -1.13          -0.13     0.01   \n",
       "2001-06-14         -0.05          -1.75           0.18     0.01   \n",
       "2001-06-15          0.85          -0.45          -0.44     0.01   \n",
       "...                  ...            ...            ...      ...   \n",
       "2024-01-18          0.17           0.88          -0.03     0.47   \n",
       "2024-01-19          1.34           1.23           1.40    -0.48   \n",
       "2024-01-21          0.03           0.03           0.03     0.01   \n",
       "2024-01-22         -0.34           0.22           1.62    -0.33   \n",
       "2024-01-23          0.58           0.29          -0.08     0.41   \n",
       "\n",
       "            US 10y change  NASDAQ change  \n",
       "Date                                      \n",
       "2001-06-11          -0.86          -2.00  \n",
       "2001-06-12          -0.89          -0.04  \n",
       "2001-06-13           0.32          -2.23  \n",
       "2001-06-14          -0.80          -3.66  \n",
       "2001-06-15           0.25          -0.77  \n",
       "...                   ...            ...  \n",
       "2024-01-18           0.93           1.35  \n",
       "2024-01-19           0.05           1.70  \n",
       "2024-01-21           0.00           0.04  \n",
       "2024-01-22          -1.25           0.32  \n",
       "2024-01-23           1.17           0.43  \n",
       "\n",
       "[7082 rows x 6 columns]"
      ]
     },
     "execution_count": 19,
     "metadata": {},
     "output_type": "execute_result"
    }
   ],
   "source": [
    "df"
   ]
  },
  {
   "cell_type": "code",
   "execution_count": null,
   "id": "a2cd8753-f19d-4ee7-aaa1-cdc01eff8cd9",
   "metadata": {},
   "outputs": [],
   "source": []
  }
 ],
 "metadata": {
  "kernelspec": {
   "display_name": "Python 3 (ipykernel)",
   "language": "python",
   "name": "python3"
  },
  "language_info": {
   "codemirror_mode": {
    "name": "ipython",
    "version": 3
   },
   "file_extension": ".py",
   "mimetype": "text/x-python",
   "name": "python",
   "nbconvert_exporter": "python",
   "pygments_lexer": "ipython3",
   "version": "3.11.5"
  }
 },
 "nbformat": 4,
 "nbformat_minor": 5
}
