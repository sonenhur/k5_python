{
  "nbformat": 4,
  "nbformat_minor": 0,
  "metadata": {
    "colab": {
      "provenance": [],
      "authorship_tag": "ABX9TyNwJGfD0kYr7Nrt+DeXx0Tj",
      "include_colab_link": true
    },
    "kernelspec": {
      "name": "python3",
      "display_name": "Python 3"
    },
    "language_info": {
      "name": "python"
    }
  },
  "cells": [
    {
      "cell_type": "markdown",
      "metadata": {
        "id": "view-in-github",
        "colab_type": "text"
      },
      "source": [
        "<a href=\"https://colab.research.google.com/github/sonenhur/k5_python/blob/main/%ED%8C%8C%EC%9D%B4%EC%8D%AC3.ipynb\" target=\"_parent\"><img src=\"https://colab.research.google.com/assets/colab-badge.svg\" alt=\"Open In Colab\"/></a>"
      ]
    },
    {
      "cell_type": "code",
      "execution_count": null,
      "metadata": {
        "id": "ZsxkP7sJUnUq"
      },
      "outputs": [],
      "source": [
        "i = 1\n",
        "while i<=10:\n",
        "  print(i)\n",
        "  i+=1"
      ]
    },
    {
      "cell_type": "code",
      "source": [
        "i = 1\n",
        "\n",
        "while i<=100:\n",
        "  if i%2 == 0:\n",
        "    print(i)\n",
        "  i+=1"
      ],
      "metadata": {
        "id": "KuEw6WgeVVA6"
      },
      "execution_count": null,
      "outputs": []
    },
    {
      "cell_type": "code",
      "source": [
        "i = 1\n",
        "sum = 0\n",
        "while i <= 100:\n",
        "  sum += i\n",
        "  i += 1\n",
        "print(sum)\n"
      ],
      "metadata": {
        "colab": {
          "base_uri": "https://localhost:8080/"
        },
        "id": "nfWw1gEIVwt6",
        "outputId": "cbd9932e-cacd-4bd6-9a82-caa58a8912c2"
      },
      "execution_count": null,
      "outputs": [
        {
          "output_type": "stream",
          "name": "stdout",
          "text": [
            "5050\n"
          ]
        }
      ]
    },
    {
      "cell_type": "code",
      "source": [
        "for i in [1,2,3,4,5]:\n",
        "  print(f\"hello {i}\")\n",
        "\n",
        "for fruit in [\"apple\",\"banana\",\"cherry\"]:\n",
        "  print(fruit)"
      ],
      "metadata": {
        "colab": {
          "base_uri": "https://localhost:8080/"
        },
        "id": "1ZCUQpGOXgXX",
        "outputId": "701513bf-e8af-4c91-c9e9-6ff485d7be6d"
      },
      "execution_count": null,
      "outputs": [
        {
          "output_type": "stream",
          "name": "stdout",
          "text": [
            "hello 1\n",
            "hello 2\n",
            "hello 3\n",
            "hello 4\n",
            "hello 5\n",
            "apple\n",
            "banana\n",
            "cherry\n"
          ]
        }
      ]
    },
    {
      "cell_type": "code",
      "source": [
        "list(range(1,11))\n",
        "#레인지로 만들어지는 결괏값을 리스트로 변환"
      ],
      "metadata": {
        "colab": {
          "base_uri": "https://localhost:8080/"
        },
        "id": "QaH3uK9pY8ke",
        "outputId": "41dc2df8-369d-459e-cad0-0f9f2044f333"
      },
      "execution_count": null,
      "outputs": [
        {
          "output_type": "execute_result",
          "data": {
            "text/plain": [
              "[1, 2, 3, 4, 5, 6, 7, 8, 9, 10]"
            ]
          },
          "metadata": {},
          "execution_count": 23
        }
      ]
    },
    {
      "cell_type": "code",
      "source": [
        "numbers = [1,2,3,4,5]\n",
        "sum = 0\n",
        "for num in numbers:\n",
        "  sum += num\n",
        "print(sum)"
      ],
      "metadata": {
        "colab": {
          "base_uri": "https://localhost:8080/"
        },
        "id": "i0vfL-WLZk23",
        "outputId": "4d516dca-8371-4100-8561-0a318fd78c90"
      },
      "execution_count": null,
      "outputs": [
        {
          "output_type": "stream",
          "name": "stdout",
          "text": [
            "15\n"
          ]
        }
      ]
    },
    {
      "cell_type": "code",
      "source": [
        "for i in range(2,10):\n",
        "  for j in range(1,10):\n",
        "    print(f\"{i} x {j} = {i * j}\")"
      ],
      "metadata": {
        "id": "YKg3HdauafY3"
      },
      "execution_count": null,
      "outputs": []
    },
    {
      "cell_type": "code",
      "source": [
        "for i in range(1, 6):\n",
        "    for j in range(1, i+1):\n",
        "        print(\"*\", end=\"\")\n",
        "    print()\n",
        "\n",
        "for i in range(4, 0, -1):\n",
        "    for j in range(1, i+1):\n",
        "        print(\"*\", end=\"\")\n",
        "    print()\n",
        "\n",
        "#원래 print() 끝에는 end=\"\\n\" (개행 기호)가 생략되어있음.\n",
        "#개행 하기 싫으면 끝에 end=\"\" 를 직접 추가해주면 됨."
      ],
      "metadata": {
        "colab": {
          "base_uri": "https://localhost:8080/"
        },
        "id": "9R8VHiuOavHW",
        "outputId": "0dbb6824-ac96-4fbe-a0b2-54e459e5437e"
      },
      "execution_count": null,
      "outputs": [
        {
          "output_type": "stream",
          "name": "stdout",
          "text": [
            "*\n",
            "**\n",
            "***\n",
            "****\n",
            "*****\n",
            "****\n",
            "***\n",
            "**\n",
            "*\n",
            "*\n",
            "**\n",
            "***\n",
            "****\n",
            "*****\n",
            "****\n",
            "***\n",
            "**\n",
            "*\n"
          ]
        }
      ]
    },
    {
      "cell_type": "code",
      "source": [
        "n = int(input(\"[3의 배수와 5의 배수의 합 구하기] \\n 양의 정수 n을 입력하세요.\"))\n",
        "sum = 0\n",
        "\n",
        "for i in range(1, n+1):\n",
        "  if i%3 == 0 or i%5 == 0:\n",
        "    sum += i\n",
        "\n",
        "print(f\"\\n[결과]\\n 3의 배수와 5의 배수의 합: {sum}\")\n"
      ],
      "metadata": {
        "colab": {
          "base_uri": "https://localhost:8080/"
        },
        "id": "oolAG_publ41",
        "outputId": "35baff7f-c237-4667-b269-2251745a92f3"
      },
      "execution_count": null,
      "outputs": [
        {
          "output_type": "stream",
          "name": "stdout",
          "text": [
            "[3의 배수와 5의 배수의 합 구하기] \n",
            " 양의 정수 n을 입력하세요.66\n",
            "\n",
            "[결과]\n",
            " 3의 배수와 5의 배수의 합: 1064\n"
          ]
        }
      ]
    },
    {
      "cell_type": "code",
      "source": [
        "max = 0\n",
        "min = 100\n",
        "\n",
        "#최솟값을 크게, 최댓값을 작게 잡아야 찾아짐\n",
        "\n",
        "for i in range(5):\n",
        "  num = int(input(\"숫자를 입력하세요.\"))\n",
        "\n",
        "  if min > num:\n",
        "    min = num\n",
        "  if max < num:\n",
        "    max = num\n",
        "\n",
        "print(f\"최대: {max}, 최소: {min}\")"
      ],
      "metadata": {
        "colab": {
          "base_uri": "https://localhost:8080/"
        },
        "id": "C92i3MvIhPbl",
        "outputId": "1646202f-c18f-4dfc-c115-06b5d62881b6"
      },
      "execution_count": null,
      "outputs": [
        {
          "output_type": "stream",
          "name": "stdout",
          "text": [
            "숫자를 입력하세요.22\n",
            "숫자를 입력하세요.55\n",
            "숫자를 입력하세요.34\n",
            "숫자를 입력하세요.12\n",
            "숫자를 입력하세요.68\n",
            "최대: 68, 최소: 12\n"
          ]
        }
      ]
    },
    {
      "cell_type": "code",
      "source": [
        "sum = 0\n",
        "\n",
        "while sum<100:\n",
        "  num = int(input(\"합이 100보다 작을때까지 입력받기\"))\n",
        "  if sum+num > 100:\n",
        "    break\n",
        "  sum += num # sum = sum + num\n",
        "\n",
        "print(f\"\\n[결과]\\n총합: {sum}\")"
      ],
      "metadata": {
        "colab": {
          "base_uri": "https://localhost:8080/"
        },
        "id": "sBLe2X6oifqL",
        "outputId": "eb089d06-36da-4c1e-c9c1-c444b45ff9d6"
      },
      "execution_count": null,
      "outputs": [
        {
          "output_type": "stream",
          "name": "stdout",
          "text": [
            "합이 100보다 작을때까지 입력받기22\n",
            "합이 100보다 작을때까지 입력받기34\n",
            "합이 100보다 작을때까지 입력받기2\n",
            "합이 100보다 작을때까지 입력받기55\n",
            "\n",
            "[결과]\n",
            "총합: 58\n"
          ]
        }
      ]
    },
    {
      "cell_type": "code",
      "source": [
        "#피보나치 수열의 n번째 항을 출력\n",
        "\n",
        "n = int(input(\"몇번째 항을 출력할까요?\"))\n",
        "\n",
        "if n == 1 or n == 2:\n",
        "  result = 1\n",
        "else:\n",
        "  a = 1\n",
        "  b = 1\n",
        "  for i in range(2, n):\n",
        "    result = a + b\n",
        "    a = b\n",
        "    b = result\n",
        "  \"\"\"\n",
        "  result = a + b #3번째 항\n",
        "  a = b\n",
        "  b = result\n",
        "  result = a + b #4번째 항\n",
        "  a = b\n",
        "  b = result\n",
        "  result = a + b #5번째 항\n",
        "  \"\"\"\n",
        "print(result)"
      ],
      "metadata": {
        "colab": {
          "base_uri": "https://localhost:8080/"
        },
        "id": "GuZ_YSa-ljnJ",
        "outputId": "28e80e02-9349-4714-cf12-6d63b6a82ddb"
      },
      "execution_count": null,
      "outputs": [
        {
          "output_type": "stream",
          "name": "stdout",
          "text": [
            "몇번째 항을 출력할까요?15\n",
            "610\n"
          ]
        }
      ]
    },
    {
      "cell_type": "code",
      "source": [
        "for i in [1,2,3,4,5]:\n",
        "  if i == 4:\n",
        "    break\n",
        "  print(i)"
      ],
      "metadata": {
        "colab": {
          "base_uri": "https://localhost:8080/"
        },
        "id": "agbNp-SZo4If",
        "outputId": "437318d8-4c62-43c7-bbe1-7691db3422bf"
      },
      "execution_count": null,
      "outputs": [
        {
          "output_type": "stream",
          "name": "stdout",
          "text": [
            "1\n",
            "2\n",
            "3\n"
          ]
        }
      ]
    },
    {
      "cell_type": "code",
      "source": [
        "for i in [1,2,3,4,5]:\n",
        "  if i == 4:\n",
        "    continue\n",
        "  print(i)"
      ],
      "metadata": {
        "colab": {
          "base_uri": "https://localhost:8080/"
        },
        "id": "yQdfDDYnpM7f",
        "outputId": "c4a74db1-5d6a-4e28-ae59-cb6be7807856"
      },
      "execution_count": null,
      "outputs": [
        {
          "output_type": "stream",
          "name": "stdout",
          "text": [
            "1\n",
            "2\n",
            "3\n",
            "5\n"
          ]
        }
      ]
    },
    {
      "cell_type": "code",
      "source": [
        "for i in [1,2,3,4,5]:\n",
        "  if i == 4:\n",
        "    pass\n",
        "  print(i)"
      ],
      "metadata": {
        "colab": {
          "base_uri": "https://localhost:8080/"
        },
        "id": "TT4bi2VIpYJR",
        "outputId": "49f3da0f-fb8a-44db-d40f-1f748fdb3332"
      },
      "execution_count": null,
      "outputs": [
        {
          "output_type": "stream",
          "name": "stdout",
          "text": [
            "1\n",
            "2\n",
            "3\n",
            "4\n",
            "5\n"
          ]
        }
      ]
    },
    {
      "cell_type": "code",
      "source": [
        "vowels = ['a','e','i','o','u']\n",
        "sum = input(\"Enter a string: \")\n",
        "\n",
        "result= \"\"\n",
        "for char in sum:\n",
        "  if char in vowels:\n",
        "    continue\n",
        "  else:\n",
        "    result += char\n",
        "print(\"Modified string: \", result)"
      ],
      "metadata": {
        "colab": {
          "base_uri": "https://localhost:8080/"
        },
        "id": "235otBg9pl4f",
        "outputId": "1dd61f51-5771-496b-9c85-2095547e51a9"
      },
      "execution_count": null,
      "outputs": [
        {
          "output_type": "stream",
          "name": "stdout",
          "text": [
            "Enter a string: Hur Sunhaeng\n",
            "Modified string:  Hr Snhng\n"
          ]
        }
      ]
    },
    {
      "cell_type": "code",
      "source": [
        "import random\n",
        "print(random.randint(1,64))\n",
        "print(random.randint(1,64))\n",
        "print(random.randint(1,64))\n",
        "print(random.randint(1,64))\n",
        "print(random.randint(1,64))\n",
        "print(random.randint(1,64))\n",
        "\n",
        "random.random()*10"
      ],
      "metadata": {
        "colab": {
          "base_uri": "https://localhost:8080/"
        },
        "id": "YypRiZM4q_Jf",
        "outputId": "d592809d-90a9-4a06-ef97-3cb7c5dfcbd8"
      },
      "execution_count": null,
      "outputs": [
        {
          "output_type": "stream",
          "name": "stdout",
          "text": [
            "2\n",
            "2\n",
            "38\n",
            "50\n",
            "10\n",
            "5\n"
          ]
        },
        {
          "output_type": "execute_result",
          "data": {
            "text/plain": [
              "7.1884797026982294"
            ]
          },
          "metadata": {},
          "execution_count": 94
        }
      ]
    },
    {
      "cell_type": "code",
      "source": [
        "import random\n",
        "\n",
        "while True:\n",
        "  a = random.randint(1,6)\n",
        "  b = random.randint(1,6)\n",
        "\n",
        "  sum = (a + b)\n",
        "  if sum == 7:\n",
        "    print(f\"{a}+{b}={sum} : 승리\")\n",
        "    break\n",
        "  else:\n",
        "    print(f\"{a}+{b}={sum} : 패배\")"
      ],
      "metadata": {
        "id": "2QqUVlH9sDx-"
      },
      "execution_count": null,
      "outputs": []
    },
    {
      "cell_type": "code",
      "source": [
        "import random\n",
        "\n",
        "while True:\n",
        "  a = random.randint(1,6)\n",
        "  b = random.randint(1,6)\n",
        "\n",
        "  print(f\"주사위1: {a}. 주사위2: {b}\")\n",
        "  if a+b == 7:\n",
        "      print(f\"승리\")\n",
        "      break\n",
        "  else:\n",
        "      print(f\"패배\")"
      ],
      "metadata": {
        "id": "g2DngPwYvLpU"
      },
      "execution_count": null,
      "outputs": []
    },
    {
      "cell_type": "code",
      "source": [
        "##계산기 프로그램 만들기\n",
        "\n",
        "import random\n",
        "\n",
        "while True:\n",
        "\n",
        "  a = input(\"첫번째 숫자를 입력하세요('exit' 입력시 종료)\")\n",
        "  if a == \"exit\":\n",
        "    break\n",
        "  else:\n",
        "    a = int(a)\n",
        "\n",
        "  b = input(\"두번째 숫자를 입력하세요('exit' 입력시 종료)\")\n",
        "  if b == \"exit\":\n",
        "    break\n",
        "  else:\n",
        "    b = int(b)\n",
        "\n",
        "  c = input(\"연산자를 입력하세요(+,-,*,/)\")\n",
        "  if c == \"+\":\n",
        "    result = a + b\n",
        "  elif c == \"-\":\n",
        "    result = a - b\n",
        "  elif c == \"*\":\n",
        "    result = a * b\n",
        "  elif c == \"/\":\n",
        "    if b == 0:\n",
        "      print(\"0으로 나눌 수 없습니다.\")\n",
        "      continue\n",
        "    else:\n",
        "      result = a / b\n",
        "  else:\n",
        "    print(\"똑바로 입력하세요.\")\n",
        "    continue\n",
        "\n",
        "  print(f\"{a}{c}{b}={result}\")"
      ],
      "metadata": {
        "colab": {
          "base_uri": "https://localhost:8080/"
        },
        "id": "fubHVe5HxOms",
        "outputId": "826a1d79-48d1-4956-f9af-5378cbf0645a"
      },
      "execution_count": null,
      "outputs": [
        {
          "name": "stdout",
          "output_type": "stream",
          "text": [
            "첫번째 숫자를 입력하세요('exit' 입력시 종료)1\n",
            "두번째 숫자를 입력하세요('exit' 입력시 종료)2\n",
            "연산자를 입력하세요(+,-,*,/)/\n",
            "1/2=0.5\n",
            "첫번째 숫자를 입력하세요('exit' 입력시 종료)exit\n"
          ]
        }
      ]
    },
    {
      "cell_type": "code",
      "source": [
        "import random\n",
        "random_number = random.randint(1,100)\n",
        "\n",
        "시도 = 0\n",
        "예상 = 0\n",
        "while 예상 != random_number and 시도 < 5:\n",
        "  예상 = int(input(\"1~100사이의 숫자를 입력하세요\"))\n",
        "  시도 += 1\n",
        "  if 예상 < random_number:\n",
        "    print(\"더 큽니다.\")\n",
        "  elif 예상 > random_number:\n",
        "    print(\"더 작습니다.\")\n",
        "  else:\n",
        "    print(\"정답입니다.\")\n",
        "  if 시도 == 5 and 예상 != random_number:\n",
        "    print(\"정답은 \", random_number ,\"입니다.\")"
      ],
      "metadata": {
        "colab": {
          "base_uri": "https://localhost:8080/"
        },
        "id": "ZV0Te8h8wEsO",
        "outputId": "435e96fd-0d58-4526-8162-dbac8c4b029f"
      },
      "execution_count": null,
      "outputs": [
        {
          "output_type": "stream",
          "name": "stdout",
          "text": [
            "1~100사이의 숫자를 입력하세요99\n",
            "더 작습니다.\n",
            "1~100사이의 숫자를 입력하세요44\n",
            "더 작습니다.\n",
            "1~100사이의 숫자를 입력하세요22\n",
            "더 작습니다.\n",
            "1~100사이의 숫자를 입력하세요11\n",
            "더 큽니다.\n",
            "1~100사이의 숫자를 입력하세요20\n",
            "더 큽니다.\n",
            "정답은  21 였습니다.\n"
          ]
        }
      ]
    },
    {
      "cell_type": "code",
      "source": [
        "## 정수를 입력받아 그 수의 약수를 모두 출력하는 프로그램을 작성하라\n",
        "## m%n=0이면 n은 m의 약수이다. 예를 들어 12의 약수는 1,2,3,4,6,12이다.\n",
        "num = int(input(\"정수를 입력하세요.\"))\n",
        "\n",
        "for i in range(1, num+1):\n",
        " if num % i == 0:\n",
        "  print(i, end=\" \")"
      ],
      "metadata": {
        "id": "wnnq0dZiuH9R"
      },
      "execution_count": null,
      "outputs": []
    },
    {
      "cell_type": "code",
      "source": [
        "'''\n",
        "90점 이상이면 A\n",
        "80점 이상이면 B\n",
        "60점 이상이면 C\n",
        "40점 이상이면 D\n",
        "39점 이하이면 F라고 출력하는 프로그램을 작성하라\n",
        "입력 받는 점수가 음수일 때 59종료한다.\n",
        "'''\n",
        "while True:\n",
        "  score = int(input(\"점수를 입력하세요.\"))\n",
        "  if score < 0:\n",
        "      break\n",
        "  elif score >= 90:\n",
        "      print(\"A\")\n",
        "  elif score >= 80:\n",
        "      print(\"B\")\n",
        "  elif score >= 60:\n",
        "      print(\"C\")\n",
        "  elif score >= 40:\n",
        "      print(\"D\")\n",
        "  else:\n",
        "      print(\"F\")"
      ],
      "metadata": {
        "id": "cw3HNfbquJTI"
      },
      "execution_count": null,
      "outputs": []
    },
    {
      "cell_type": "code",
      "source": [
        "import random\n",
        "\n",
        "money = 20\n",
        "\n",
        "while True: ##무한히 반복하는 무한 루프 구문\n",
        "  coin = random.randint(1,2)\n",
        "  answer = int(input(\"앞면(1)? 뒷면(2)?\"))\n",
        "  print(f\"동전:{coin}, 사용자:{answer}\")\n",
        "  if coin == answer:\n",
        "    money += 9\n",
        "    print(f\"Win~!! money:{money}\")\n",
        "  else:\n",
        "    money -= 10\n",
        "    print(f\"Lose!! money:{money}\")\n",
        "  if money<=0:\n",
        "     print(\"파산했습니다\")\n",
        "     break\n",
        "  if money>=40:\n",
        "     print(\"2배로 벌었습니다\")\n",
        "     break\n",
        ""
      ],
      "metadata": {
        "id": "FWkpw7ouuLdw"
      },
      "execution_count": null,
      "outputs": []
    }
  ]
}