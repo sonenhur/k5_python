{
 "cells": [
  {
   "cell_type": "markdown",
   "id": "c2edf353-bd79-4f44-b3f3-c33218129ef5",
   "metadata": {},
   "source": [
    "# 비지도 학습"
   ]
  },
  {
   "cell_type": "markdown",
   "id": "f1c262a5-32e4-4f7b-b3f1-385e4f52b780",
   "metadata": {
    "tags": []
   },
   "source": [
    "## 데이터 전처리와 스케일 조정"
   ]
  },
  {
   "cell_type": "code",
   "execution_count": 3,
   "id": "e130d9c5-dd4e-4cc5-954b-f3edb7277d66",
   "metadata": {
    "tags": []
   },
   "outputs": [],
   "source": [
    "from sklearn.datasets import load_breast_cancer\n",
    "from sklearn.model_selection import train_test_split"
   ]
  },
  {
   "cell_type": "code",
   "execution_count": 7,
   "id": "46e55fb5-e118-4c01-b608-3ec9ea120a65",
   "metadata": {
    "tags": []
   },
   "outputs": [
    {
     "name": "stdout",
     "output_type": "stream",
     "text": [
      "(426, 30) (143, 30)\n"
     ]
    }
   ],
   "source": [
    "cancer = load_breast_cancer()\n",
    "X_train, X_test, y_train, y_test = train_test_split(cancer.data, cancer.target, random_state=42)\n",
    "print(X_train.shape, X_test.shape)"
   ]
  },
  {
   "cell_type": "code",
   "execution_count": 12,
   "id": "418792ce-ff2b-4c5c-a424-e7e104084cb5",
   "metadata": {
    "tags": []
   },
   "outputs": [],
   "source": [
    "from sklearn.preprocessing import MinMaxScaler\n",
    "scaler = MinMaxScaler()\n",
    "scaler.fit(X_train)\n",
    "X_train_scaled = scaler.transform(X_train)"
   ]
  },
  {
   "cell_type": "code",
   "execution_count": 14,
   "id": "881ea1dd-91a6-4062-aae1-180bff4f3db0",
   "metadata": {
    "tags": []
   },
   "outputs": [
    {
     "name": "stdout",
     "output_type": "stream",
     "text": [
      "(426, 30) [7.691e+00 9.710e+00 4.792e+01 1.704e+02 5.263e-02 1.938e-02 0.000e+00\n",
      " 0.000e+00 1.167e-01 4.996e-02 1.115e-01 3.602e-01 7.570e-01 6.802e+00\n",
      " 1.713e-03 2.252e-03 0.000e+00 0.000e+00 7.882e-03 8.948e-04 8.678e+00\n",
      " 1.202e+01 5.449e+01 2.236e+02 7.117e-02 2.729e-02 0.000e+00 0.000e+00\n",
      " 1.565e-01 5.504e-02] [2.811e+01 3.928e+01 1.885e+02 2.501e+03 1.634e-01 3.114e-01 4.268e-01\n",
      " 2.012e-01 3.040e-01 9.744e-02 2.873e+00 4.885e+00 2.198e+01 5.422e+02\n",
      " 3.113e-02 1.354e-01 3.960e-01 5.279e-02 6.146e-02 2.984e-02 3.604e+01\n",
      " 4.954e+01 2.512e+02 4.254e+03 2.184e-01 9.379e-01 9.608e-01 2.910e-01\n",
      " 6.638e-01 1.730e-01] [0. 0. 0. 0. 0. 0. 0. 0. 0. 0. 0. 0. 0. 0. 0. 0. 0. 0. 0. 0. 0. 0. 0. 0.\n",
      " 0. 0. 0. 0. 0. 0.] [1. 1. 1. 1. 1. 1. 1. 1. 1. 1. 1. 1. 1. 1. 1. 1. 1. 1. 1. 1. 1. 1. 1. 1.\n",
      " 1. 1. 1. 1. 1. 1.]\n"
     ]
    }
   ],
   "source": [
    "print(X_train_scaled.shape, X_train.min(axis=0), X_train.max(axis=0), X_train_scaled.min(axis=0), X_train_scaled.max(axis=0))"
   ]
  },
  {
   "cell_type": "code",
   "execution_count": 17,
   "id": "f1aa56ac-8d73-430a-81a3-006725fa4c68",
   "metadata": {
    "tags": []
   },
   "outputs": [
    {
     "name": "stdout",
     "output_type": "stream",
     "text": [
      "(426, 30)\n",
      "[7.691e+00 9.710e+00 4.792e+01 1.704e+02 5.263e-02 1.938e-02 0.000e+00\n",
      " 0.000e+00 1.167e-01 4.996e-02 1.115e-01 3.602e-01 7.570e-01 6.802e+00\n",
      " 1.713e-03 2.252e-03 0.000e+00 0.000e+00 7.882e-03 8.948e-04 8.678e+00\n",
      " 1.202e+01 5.449e+01 2.236e+02 7.117e-02 2.729e-02 0.000e+00 0.000e+00\n",
      " 1.565e-01 5.504e-02]\n",
      "[2.811e+01 3.928e+01 1.885e+02 2.501e+03 1.634e-01 3.114e-01 4.268e-01\n",
      " 2.012e-01 3.040e-01 9.744e-02 2.873e+00 4.885e+00 2.198e+01 5.422e+02\n",
      " 3.113e-02 1.354e-01 3.960e-01 5.279e-02 6.146e-02 2.984e-02 3.604e+01\n",
      " 4.954e+01 2.512e+02 4.254e+03 2.184e-01 9.379e-01 9.608e-01 2.910e-01\n",
      " 6.638e-01 1.730e-01]\n",
      "[0. 0. 0. 0. 0. 0. 0. 0. 0. 0. 0. 0. 0. 0. 0. 0. 0. 0. 0. 0. 0. 0. 0. 0.\n",
      " 0. 0. 0. 0. 0. 0.]\n",
      "[1. 1. 1. 1. 1. 1. 1. 1. 1. 1. 1. 1. 1. 1. 1. 1. 1. 1. 1. 1. 1. 1. 1. 1.\n",
      " 1. 1. 1. 1. 1. 1.]\n"
     ]
    }
   ],
   "source": [
    "print(X_train_scaled.shape)\n",
    "print(X_train.min(axis=0))\n",
    "print(X_train.max(axis=0))\n",
    "print(X_train_scaled.min(axis=0))\n",
    "print(X_train_scaled.max(axis=0))"
   ]
  },
  {
   "cell_type": "code",
   "execution_count": 18,
   "id": "15a6d68e-c5ed-4d25-bf8d-df42bcadbe09",
   "metadata": {
    "tags": []
   },
   "outputs": [],
   "source": [
    "X_test_scaled = scaler.transform(X_test)"
   ]
  },
  {
   "cell_type": "code",
   "execution_count": 19,
   "id": "702c819a-c5fb-48f8-8650-714b024e38c4",
   "metadata": {
    "tags": []
   },
   "outputs": [
    {
     "name": "stdout",
     "output_type": "stream",
     "text": [
      "(143, 30)\n",
      "[6.981e+00 1.038e+01 4.379e+01 1.435e+02 6.576e-02 3.558e-02 0.000e+00\n",
      " 0.000e+00 1.060e-01 5.266e-02 1.166e-01 3.628e-01 7.714e-01 8.955e+00\n",
      " 3.169e-03 5.656e-03 0.000e+00 0.000e+00 9.539e-03 1.219e-03 7.930e+00\n",
      " 1.249e+01 5.041e+01 1.852e+02 8.799e-02 5.494e-02 0.000e+00 0.000e+00\n",
      " 1.566e-01 5.905e-02]\n",
      "[2.522e+01 3.112e+01 1.715e+02 1.878e+03 1.371e-01 3.454e-01 3.754e-01\n",
      " 1.845e-01 2.906e-01 8.243e-02 1.291e+00 3.896e+00 9.635e+00 1.997e+02\n",
      " 1.604e-02 1.064e-01 3.038e-01 3.322e-02 7.895e-02 2.286e-02 3.249e+01\n",
      " 4.716e+01 2.140e+02 3.432e+03 2.226e-01 1.058e+00 1.252e+00 2.903e-01\n",
      " 5.440e-01 2.075e-01]\n",
      "[-0.03477154  0.0226581  -0.02937829 -0.01154209  0.1185339   0.05547565\n",
      "  0.          0.         -0.0571276   0.05686605  0.00184682  0.00057461\n",
      "  0.00067851  0.00402131  0.04949519  0.02556554  0.          0.\n",
      "  0.03092687  0.01120048 -0.02733718  0.01252665 -0.02074119 -0.00952759\n",
      "  0.11424302  0.03036426  0.          0.          0.00019712  0.03399457]\n",
      "[0.85846516 0.72404464 0.87907241 0.73268686 0.76257109 1.11643038\n",
      " 0.87956888 0.91699801 0.92845702 0.68386689 0.42712294 0.7814268\n",
      " 0.41831975 0.36028898 0.48703131 0.78219725 0.76717172 0.62928585\n",
      " 1.32643996 0.75885466 0.87025802 0.93656716 0.81088913 0.79605002\n",
      " 1.02852679 1.13188961 1.30308077 0.9975945  0.76384782 1.29247202]\n"
     ]
    }
   ],
   "source": [
    "print(X_test_scaled.shape)\n",
    "print(X_test.min(axis=0))\n",
    "print(X_test.max(axis=0))\n",
    "print(X_test_scaled.min(axis=0))\n",
    "print(X_test_scaled.max(axis=0))"
   ]
  },
  {
   "cell_type": "markdown",
   "id": "f99fa4db-1818-4f30-9072-e16b85cccd11",
   "metadata": {},
   "source": [
    "### 3.3.1 여러가지 전처리 방법\n",
    "StandardSclaer : 각 특성의 평균을 0, 분산을 1로 (min Max를 제한하지 않음)  \n",
    "RobustScaler : 중간값과 사분위값을 사용  \n",
    "minMaxScaler => 모든 특성이 0과 1 사이에 위치 (양수만)  \n",
    "Normalizer => 방향성이 중요(음수/양수)"
   ]
  },
  {
   "cell_type": "code",
   "execution_count": null,
   "id": "6e903d82-4e87-4133-82b9-6104a5b06723",
   "metadata": {},
   "outputs": [],
   "source": []
  }
 ],
 "metadata": {
  "kernelspec": {
   "display_name": "Python 3 (ipykernel)",
   "language": "python",
   "name": "python3"
  },
  "language_info": {
   "codemirror_mode": {
    "name": "ipython",
    "version": 3
   },
   "file_extension": ".py",
   "mimetype": "text/x-python",
   "name": "python",
   "nbconvert_exporter": "python",
   "pygments_lexer": "ipython3",
   "version": "3.11.5"
  }
 },
 "nbformat": 4,
 "nbformat_minor": 5
}
