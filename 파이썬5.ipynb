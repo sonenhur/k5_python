{
  "nbformat": 4,
  "nbformat_minor": 0,
  "metadata": {
    "colab": {
      "provenance": [],
      "authorship_tag": "ABX9TyN2KfDCa+ihKf2RbzROPX8S",
      "include_colab_link": true
    },
    "kernelspec": {
      "name": "python3",
      "display_name": "Python 3"
    },
    "language_info": {
      "name": "python"
    }
  },
  "cells": [
    {
      "cell_type": "markdown",
      "metadata": {
        "id": "view-in-github",
        "colab_type": "text"
      },
      "source": [
        "<a href=\"https://colab.research.google.com/github/sonenhur/k5_python/blob/main/%ED%8C%8C%EC%9D%B4%EC%8D%AC5.ipynb\" target=\"_parent\"><img src=\"https://colab.research.google.com/assets/colab-badge.svg\" alt=\"Open In Colab\"/></a>"
      ]
    },
    {
      "cell_type": "code",
      "execution_count": null,
      "metadata": {
        "colab": {
          "base_uri": "https://localhost:8080/"
        },
        "id": "mgE7Z-4yrB2y",
        "outputId": "845dc365-145a-4271-b0ab-ed0f906ccd5d"
      },
      "outputs": [
        {
          "output_type": "stream",
          "name": "stdout",
          "text": [
            "8\n"
          ]
        }
      ],
      "source": [
        "# 함수 정의\n",
        "def add_num(a, b):\n",
        "    result = a + b\n",
        "    return result\n",
        "\n",
        "# 함수 호출\n",
        "result = add_num(3, 5)\n",
        "print(result) # 출력 결과: 8\n"
      ]
    },
    {
      "cell_type": "code",
      "source": [
        "def cir_area(r):\n",
        "    return (3.14 * r ** 2)\n",
        "\n",
        "def cir_cirm(r):\n",
        "    return (2 * 3.14 * r)\n",
        "\n",
        "rad = 3.5\n",
        "\n",
        "print(\"면적: 약 \", round(cir_area(rad),2))\n",
        "print(\"둘레: 약 \", round(cir_cirm(rad),2))"
      ],
      "metadata": {
        "colab": {
          "base_uri": "https://localhost:8080/"
        },
        "id": "iMNiqocKrjLG",
        "outputId": "d48e1ae7-0b42-4d00-8373-c12b0faa7eaa"
      },
      "execution_count": null,
      "outputs": [
        {
          "output_type": "stream",
          "name": "stdout",
          "text": [
            "면적: 약  38.47\n",
            "둘레: 약  21.98\n"
          ]
        }
      ]
    },
    {
      "cell_type": "code",
      "source": [
        "# 위치 인자와 키워드 인자 사용 예시\n",
        "def print_info(name, age, gender):\n",
        "    print(f\"Name: {name}\")\n",
        "    print(f\"Age: {age}\")\n",
        "    print(f\"Gender: {gender}\")\n",
        "\n",
        "# 위치 인자를 사용하여 함수 호출\n",
        "print_info(\"Alice\", 25, \"Female\")\n",
        "\n",
        "print()\n",
        "\n",
        "# 키워드 인자를 사용하여 함수 호출\n",
        "print_info(age=30, name=\"Bob\", gender=\"Male\")"
      ],
      "metadata": {
        "colab": {
          "base_uri": "https://localhost:8080/"
        },
        "id": "uRccGfyetIcc",
        "outputId": "20859c05-a45a-47ef-f740-c61bec3bc097"
      },
      "execution_count": null,
      "outputs": [
        {
          "output_type": "stream",
          "name": "stdout",
          "text": [
            "Name: Alice\n",
            "Age: 25\n",
            "Gender: Female\n",
            "\n",
            "Name: Bob\n",
            "Age: 30\n",
            "Gender: Male\n"
          ]
        }
      ]
    },
    {
      "cell_type": "code",
      "source": [
        "# 기본값 인자를 사용하여 함수 호출\n",
        "def say_hello(name, greeting=\"Hello\"):\n",
        "    print(f\"{greeting}, {name}!\")\n",
        "\n",
        "say_hello(\"Alice\")        # 출력 결과: Hello, Alice!\n",
        "say_hello(\"Bob\", \"Hi\")    # 출력 결과: Hi, Bob!\n"
      ],
      "metadata": {
        "colab": {
          "base_uri": "https://localhost:8080/"
        },
        "id": "ww2BhJLIupC-",
        "outputId": "a824af7d-fdd1-4ab5-db9c-d380d093f833"
      },
      "execution_count": null,
      "outputs": [
        {
          "output_type": "stream",
          "name": "stdout",
          "text": [
            "Hello, Alice!\n",
            "Hi, Bob!\n"
          ]
        }
      ]
    },
    {
      "cell_type": "code",
      "source": [
        "def complex_function(a, b, *args, c=0, d=0, **kwargs):\n",
        "    print(\"위치 인자\")\n",
        "    print(f\"a: {a}\")\n",
        "    print(f\"b: {b}\")\n",
        "\n",
        "    print(\"\\n위치 가변 인자:\")\n",
        "    for arg in args:\n",
        "        print(arg)\n",
        "\n",
        "    print(\"\\n기본값 인자\")\n",
        "    print(f\"c: {c}\")\n",
        "\n",
        "    print(\"\\n키워드 인자\")\n",
        "    print(f\"d: {d}\")\n",
        "\n",
        "    print(\"\\n키워드 가변 인자\")\n",
        "    for key, value in kwargs.items():\n",
        "        print(f\"{key}: {value}\")\n",
        "\n",
        "# 사용 예제:\n",
        "complex_function(1, 2, 3, 4, 5, d=7, name=\"Alice\", age=30)"
      ],
      "metadata": {
        "colab": {
          "base_uri": "https://localhost:8080/"
        },
        "id": "swAz2G6sz78g",
        "outputId": "62fb0018-1a51-4c12-f782-bb28d5aa1383"
      },
      "execution_count": null,
      "outputs": [
        {
          "output_type": "stream",
          "name": "stdout",
          "text": [
            "위치 인자\n",
            "a: 1\n",
            "b: 2\n",
            "\n",
            "위치 가변 인자:\n",
            "3\n",
            "4\n",
            "5\n",
            "\n",
            "기본값 인자\n",
            "c: 0\n",
            "\n",
            "키워드 인자\n",
            "d: 7\n",
            "\n",
            "키워드 가변 인자\n",
            "name: Alice\n",
            "age: 30\n"
          ]
        }
      ]
    },
    {
      "cell_type": "code",
      "source": [
        "x = 1  # 전역 변수\n",
        "\n",
        "def my_function():\n",
        "    y = 2  # 지역 변수\n",
        "    print('y:', y)\n",
        "    print('x:', x)\n",
        "\n",
        "my_function()\n",
        "print('x:', x)"
      ],
      "metadata": {
        "colab": {
          "base_uri": "https://localhost:8080/"
        },
        "id": "wym6nzYu19yO",
        "outputId": "a6848863-549c-447e-d7b7-b4dfc0c7d61a"
      },
      "execution_count": null,
      "outputs": [
        {
          "output_type": "stream",
          "name": "stdout",
          "text": [
            "y: 2\n",
            "x: 1\n",
            "x: 1\n"
          ]
        }
      ]
    },
    {
      "cell_type": "code",
      "source": [
        "x = 'global'\n",
        "\n",
        "def my_function():\n",
        "    global x, y\n",
        "    x = 'local'\n",
        "    y = 'yyy'\n",
        "my_function()\n",
        "print(x)\n",
        "print(y)"
      ],
      "metadata": {
        "colab": {
          "base_uri": "https://localhost:8080/"
        },
        "id": "i4y_8dul1a7X",
        "outputId": "812d1644-9b41-4d70-85be-0abcdf978473"
      },
      "execution_count": null,
      "outputs": [
        {
          "output_type": "stream",
          "name": "stdout",
          "text": [
            "local\n",
            "yyy\n"
          ]
        }
      ]
    },
    {
      "cell_type": "code",
      "source": [
        "# 람다 함수\n",
        "\n",
        "# 기존 함수 정의 방법\n",
        "def add(a, b):\n",
        "    return a + b\n",
        "\n",
        "# 람다 함수 정의 방법\n",
        "lambda_add = lambda a, b: a + b\n",
        "\n",
        "# 함수 호출\n",
        "result1 = add(3, 4)             # 7\n",
        "result2 = lambda_add(3, 4)      # 7"
      ],
      "metadata": {
        "id": "qfj-5UwM23J_"
      },
      "execution_count": null,
      "outputs": []
    }
  ]
}