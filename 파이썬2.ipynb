{
  "nbformat": 4,
  "nbformat_minor": 0,
  "metadata": {
    "colab": {
      "provenance": [],
      "authorship_tag": "ABX9TyOIRW8IcDds9z0dyQA6v7HS",
      "include_colab_link": true
    },
    "kernelspec": {
      "name": "python3",
      "display_name": "Python 3"
    },
    "language_info": {
      "name": "python"
    }
  },
  "cells": [
    {
      "cell_type": "markdown",
      "metadata": {
        "id": "view-in-github",
        "colab_type": "text"
      },
      "source": [
        "<a href=\"https://colab.research.google.com/github/sonenhur/k5_python/blob/main/%ED%8C%8C%EC%9D%B4%EC%8D%AC2.ipynb\" target=\"_parent\"><img src=\"https://colab.research.google.com/assets/colab-badge.svg\" alt=\"Open In Colab\"/></a>"
      ]
    },
    {
      "cell_type": "code",
      "execution_count": null,
      "metadata": {
        "colab": {
          "base_uri": "https://localhost:8080/"
        },
        "id": "5gsXHKDbqsAa",
        "outputId": "22c619bf-95b7-4263-b6e0-787aafb094d1"
      },
      "outputs": [
        {
          "output_type": "stream",
          "name": "stdout",
          "text": [
            "Hi3\n"
          ]
        }
      ],
      "source": [
        "x = 10\n",
        "if x > 20:\n",
        "  print(\"Hi1\")\n",
        "  print(\"Hi2\")\n",
        "print(\"Hi3\")\n",
        "\n",
        "#if문의 조건은 들여쓰기 적용된 범위까지"
      ]
    },
    {
      "cell_type": "code",
      "source": [
        "num = int(input(\"숫자:\"))\n",
        "\n",
        "if num % 2 == 0:\n",
        "  print(\"짝수\")\n",
        "else:\n",
        "  print(\"홀수\")"
      ],
      "metadata": {
        "colab": {
          "base_uri": "https://localhost:8080/"
        },
        "id": "dZt9IAmhsf82",
        "outputId": "a9858c1c-1ba8-4652-b717-073a17c96c88"
      },
      "execution_count": null,
      "outputs": [
        {
          "output_type": "stream",
          "name": "stdout",
          "text": [
            "숫자:22\n",
            "짝수\n"
          ]
        }
      ]
    },
    {
      "cell_type": "code",
      "source": [
        "num = int(input(\"숫자를 입력하세요: \"))\n",
        "\n",
        "if num > 0:\n",
        "    print(\"양수입니다\")\n",
        "elif num < 0:\n",
        "    print(\"음수입니다\")\n",
        "else:\n",
        "    print(\"0입니다\")\n"
      ],
      "metadata": {
        "colab": {
          "base_uri": "https://localhost:8080/"
        },
        "id": "xYn5i-xIuBBE",
        "outputId": "4b499973-6e84-4bb5-bb28-4268e25779fd"
      },
      "execution_count": null,
      "outputs": [
        {
          "output_type": "stream",
          "name": "stdout",
          "text": [
            "숫자를 입력하세요: 0\n",
            "0입니다\n"
          ]
        }
      ]
    },
    {
      "cell_type": "code",
      "source": [
        "# 사용자가 입력한 성적에 따라 학점 부여하기\n",
        "score = int(input(\"성적을 입력하세요: \"))\n",
        "\n",
        "if score >= 90:\n",
        "  grade = \"A\"\n",
        "elif score >= 80:\n",
        "  grade = \"B\"\n",
        "elif score >= 70:\n",
        "  grade = \"C\"\n",
        "elif score >= 60:\n",
        "  grade = \"D\"\n",
        "else:\n",
        "  grade = \"F\"\n",
        "\n",
        "print(f\"당신의 학점은 {grade}입니다.\")\n"
      ],
      "metadata": {
        "colab": {
          "base_uri": "https://localhost:8080/"
        },
        "id": "gG8JwRBBtmwt",
        "outputId": "e4e179a4-31fb-433e-d9b5-6120ad667291"
      },
      "execution_count": null,
      "outputs": [
        {
          "output_type": "stream",
          "name": "stdout",
          "text": [
            "성적을 입력하세요: 59\n",
            "당신의 학점은 F입니다.\n"
          ]
        }
      ]
    },
    {
      "cell_type": "code",
      "source": [
        "a = 10\n",
        "b = 20\n",
        "\n",
        "if a > b:\n",
        "  print(a)\n",
        "else:\n",
        "  print(b)\n"
      ],
      "metadata": {
        "colab": {
          "base_uri": "https://localhost:8080/"
        },
        "id": "hiMDMAzFvXas",
        "outputId": "d98bca8d-9896-4394-9b5e-a098ed561cc3"
      },
      "execution_count": null,
      "outputs": [
        {
          "output_type": "stream",
          "name": "stdout",
          "text": [
            "20\n"
          ]
        }
      ]
    },
    {
      "cell_type": "code",
      "source": [
        "a = 10\n",
        "b = 20\n",
        "\n",
        "print(a if a>b else b)"
      ],
      "metadata": {
        "colab": {
          "base_uri": "https://localhost:8080/"
        },
        "id": "Uagc9e6avg_L",
        "outputId": "2e8c6866-4f66-4e60-93bb-fc30c0077f89"
      },
      "execution_count": null,
      "outputs": [
        {
          "output_type": "stream",
          "name": "stdout",
          "text": [
            "20\n"
          ]
        }
      ]
    },
    {
      "cell_type": "code",
      "source": [
        "score = 40\n",
        "\n",
        "if score>=90:\n",
        "  print(\"A\")\n",
        "elif score>=80:\n",
        "  print(\"B\")\n",
        "else:\n",
        "  print(\"C\")"
      ],
      "metadata": {
        "colab": {
          "base_uri": "https://localhost:8080/"
        },
        "id": "2-SaLVIdwUc7",
        "outputId": "6ef0a2d0-df70-4f84-fc7f-a2ae46a05243"
      },
      "execution_count": null,
      "outputs": [
        {
          "output_type": "stream",
          "name": "stdout",
          "text": [
            "C\n"
          ]
        }
      ]
    },
    {
      "cell_type": "code",
      "source": [
        "print(\"A\") if score >= 90 else (print(\"B\") if score >= 80 else print(\"C\"))"
      ],
      "metadata": {
        "colab": {
          "base_uri": "https://localhost:8080/"
        },
        "id": "Bwqlew0Hwh4L",
        "outputId": "baed947e-04b0-4d4e-aba2-0adb84fec1c0"
      },
      "execution_count": null,
      "outputs": [
        {
          "output_type": "stream",
          "name": "stdout",
          "text": [
            "C\n"
          ]
        }
      ]
    },
    {
      "cell_type": "code",
      "source": [
        "num = 10\n",
        "\n",
        "print(\"10보다 큽니다\") if num > 10 else (print(\"10보다 작습니다\"))"
      ],
      "metadata": {
        "colab": {
          "base_uri": "https://localhost:8080/"
        },
        "id": "rZGJSFesw-IL",
        "outputId": "4eadee59-b652-40dc-f5c8-df959f0321ea"
      },
      "execution_count": null,
      "outputs": [
        {
          "output_type": "stream",
          "name": "stdout",
          "text": [
            "10보다 작습니다\n"
          ]
        }
      ]
    },
    {
      "cell_type": "code",
      "source": [
        "kor = int(input(\"국어 성적을 입력하세요: \"))* 0.4\n",
        "eng =  int(input(\"영어 성적을 입력하세요: \"))* 0.4\n",
        "math = int(input(\"수학 성적을 입력하세요: \"))* 0.2\n",
        "\n",
        "score = (kor  + eng  + math)\n",
        "\n",
        "if score >= 90:\n",
        "  grade =\"A\"\n",
        "elif score >= 80:\n",
        "  grade =\"B\"\n",
        "elif score >= 70:\n",
        "  grade =\"C\"\n",
        "elif score >= 60:\n",
        "  grade =\"D\"\n",
        "else:\n",
        "  grade =\"E\"\n",
        "\n",
        "  print(f\"\"\"\n",
        "  [성적결과]\n",
        "국어:{kor}점, 영어:{eng}점, 수학:{math}점\n",
        "총 평균점수: {score:.2f}점\n",
        "학점:{grade}\"\"\")"
      ],
      "metadata": {
        "colab": {
          "base_uri": "https://localhost:8080/"
        },
        "id": "4gX4FGYiygS6",
        "outputId": "db1d92e7-e4ca-4f5c-e661-4b59922a2f6d"
      },
      "execution_count": null,
      "outputs": [
        {
          "name": "stdout",
          "output_type": "stream",
          "text": [
            "국어 성적을 입력하세요: 79\n",
            "영어 성적을 입력하세요: 89\n",
            "수학 성적을 입력하세요: 70\n"
          ]
        }
      ]
    },
    {
      "cell_type": "code",
      "source": [
        "cm = float(input(\"cm 단위 길이 입력: \"))\n",
        "inch = cm / 2.54\n",
        "print(cm, \"cm는\", 인치, \"inch 입니다\")"
      ],
      "metadata": {
        "colab": {
          "base_uri": "https://localhost:8080/"
        },
        "id": "45kkroRuHEaw",
        "outputId": "c4b06f45-c5a4-4f0a-fd39-dffacd967d76"
      },
      "execution_count": null,
      "outputs": [
        {
          "output_type": "stream",
          "name": "stdout",
          "text": [
            "cm 단위 길이 입력: 7\n",
            "7.0 cm는 8.661417322834646 inch 입니다\n"
          ]
        }
      ]
    },
    {
      "cell_type": "code",
      "source": [],
      "metadata": {
        "id": "2z54vv89IYIb"
      },
      "execution_count": null,
      "outputs": []
    },
    {
      "cell_type": "code",
      "source": [
        "score = int(input(\"이수 학점을 입력하세요 \"))\n",
        "\n",
        "if score >= 80:\n",
        "  print(\"졸업반입니다.\")\n",
        "elif score >=40:\n",
        "  print(\"2학년입니다.\")\n",
        "else:\n",
        "  print(\"1학년입니다.\")"
      ],
      "metadata": {
        "colab": {
          "base_uri": "https://localhost:8080/"
        },
        "id": "YUDfIbH2J93S",
        "outputId": "87721df9-13df-4ae7-b774-0079281c81c7"
      },
      "execution_count": null,
      "outputs": [
        {
          "output_type": "stream",
          "name": "stdout",
          "text": [
            "이수 학점을 입력하세요 79\n",
            "2학년입니다.\n"
          ]
        }
      ]
    },
    {
      "cell_type": "code",
      "source": [
        "time = int(input(\"현재 시간을 입력하세요 \"))\n",
        "ampm = int(input(\"AM이라면 1, PM이라면 2를 입력하세요 \"))\n",
        "\n",
        "if ampm == 1:\n",
        "  time = time + 0\n",
        "else:\n",
        "  time = time + 12\n",
        "\n",
        "print(time)\n",
        "\n",
        "passed = int(input(\"몇 시간 경과했나요?\"))\n",
        "time += passed\n",
        "\n",
        "if time <= 12:\n",
        "  print(\"AM\", time%12, \" 시 입니다.\")\n",
        "else:\n",
        "  print(\"PM\", time%12, \"시 입니다.\")"
      ],
      "metadata": {
        "colab": {
          "base_uri": "https://localhost:8080/"
        },
        "id": "5p4k2xq4LK-_",
        "outputId": "e08b1912-c6f0-4dd2-99fe-c283bbf7411a"
      },
      "execution_count": null,
      "outputs": [
        {
          "output_type": "stream",
          "name": "stdout",
          "text": [
            "현재 시간을 입력하세요 8\n",
            "AM이라면 1, PM이라면 2를 입력하세요 1\n",
            "8\n",
            "몇 시간 경과했나요?4\n",
            "AM 0  시 입니다.\n"
          ]
        }
      ]
    },
    {
      "cell_type": "code",
      "source": [],
      "metadata": {
        "id": "wc7VSKNuUl6E"
      },
      "execution_count": null,
      "outputs": []
    },
    {
      "cell_type": "code",
      "source": [],
      "metadata": {
        "id": "sKK_e2SrQyUb"
      },
      "execution_count": null,
      "outputs": []
    }
  ]
}